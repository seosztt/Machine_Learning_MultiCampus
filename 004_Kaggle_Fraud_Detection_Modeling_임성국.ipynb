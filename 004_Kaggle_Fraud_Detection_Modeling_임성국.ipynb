{
 "cells": [
  {
   "cell_type": "markdown",
   "metadata": {
    "id": "q2Pr7oBdYLdf"
   },
   "source": [
    "# Kaggle 신용카드 부정결제 검출 (Google Drive Mount)\n",
    "https://www.kaggle.com/mlg-ulb/creditcardfraud\n",
    "## Credit Card Fraud Detection\n",
    "* creditcard.csv (284,807 * 31)\n",
    "* Class : '0' (정상결제), '1' (부정결제)\n",
    "* 부정 검출(Fraud Detection), 이상 탐지(Anomaly Detection)"
   ]
  },
  {
   "cell_type": "code",
   "execution_count": 1,
   "metadata": {
    "executionInfo": {
     "elapsed": 3,
     "status": "ok",
     "timestamp": 1632378928385,
     "user": {
      "displayName": "임성국",
      "photoUrl": "https://lh3.googleusercontent.com/a/default-user=s64",
      "userId": "16836461090630312519"
     },
     "user_tz": -540
    },
    "id": "RbPgODpVzdHI"
   },
   "outputs": [],
   "source": [
    "import warnings\n",
    "warnings.filterwarnings('ignore')"
   ]
  },
  {
   "cell_type": "code",
   "execution_count": 2,
   "metadata": {
    "colab": {
     "base_uri": "https://localhost:8080/"
    },
    "executionInfo": {
     "elapsed": 2421,
     "status": "ok",
     "timestamp": 1632379173236,
     "user": {
      "displayName": "임성국",
      "photoUrl": "https://lh3.googleusercontent.com/a/default-user=s64",
      "userId": "16836461090630312519"
     },
     "user_tz": -540
    },
    "id": "oyKuNQuXEywU",
    "outputId": "5a027420-d1c6-4054-d856-dcf01702a282"
   },
   "outputs": [
    {
     "name": "stdout",
     "output_type": "stream",
     "text": [
      "<class 'pandas.core.frame.DataFrame'>\n",
      "RangeIndex: 284807 entries, 0 to 284806\n",
      "Data columns (total 31 columns):\n",
      " #   Column  Non-Null Count   Dtype  \n",
      "---  ------  --------------   -----  \n",
      " 0   Time    284807 non-null  float64\n",
      " 1   V1      284807 non-null  float64\n",
      " 2   V2      284807 non-null  float64\n",
      " 3   V3      284807 non-null  float64\n",
      " 4   V4      284807 non-null  float64\n",
      " 5   V5      284807 non-null  float64\n",
      " 6   V6      284807 non-null  float64\n",
      " 7   V7      284807 non-null  float64\n",
      " 8   V8      284807 non-null  float64\n",
      " 9   V9      284807 non-null  float64\n",
      " 10  V10     284807 non-null  float64\n",
      " 11  V11     284807 non-null  float64\n",
      " 12  V12     284807 non-null  float64\n",
      " 13  V13     284807 non-null  float64\n",
      " 14  V14     284807 non-null  float64\n",
      " 15  V15     284807 non-null  float64\n",
      " 16  V16     284807 non-null  float64\n",
      " 17  V17     284807 non-null  float64\n",
      " 18  V18     284807 non-null  float64\n",
      " 19  V19     284807 non-null  float64\n",
      " 20  V20     284807 non-null  float64\n",
      " 21  V21     284807 non-null  float64\n",
      " 22  V22     284807 non-null  float64\n",
      " 23  V23     284807 non-null  float64\n",
      " 24  V24     284807 non-null  float64\n",
      " 25  V25     284807 non-null  float64\n",
      " 26  V26     284807 non-null  float64\n",
      " 27  V27     284807 non-null  float64\n",
      " 28  V28     284807 non-null  float64\n",
      " 29  Amount  284807 non-null  float64\n",
      " 30  Class   284807 non-null  int64  \n",
      "dtypes: float64(30), int64(1)\n",
      "memory usage: 67.4 MB\n",
      "Wall time: 1.62 s\n"
     ]
    }
   ],
   "source": [
    "%%time\n",
    "\n",
    "import pandas as pd\n",
    "\n",
    "DF = pd.read_csv('./datasets/creditcard.csv')\n",
    "\n",
    "DF.info()"
   ]
  },
  {
   "cell_type": "code",
   "execution_count": 3,
   "metadata": {
    "colab": {
     "base_uri": "https://localhost:8080/",
     "height": 223
    },
    "executionInfo": {
     "elapsed": 264,
     "status": "ok",
     "timestamp": 1632379325155,
     "user": {
      "displayName": "임성국",
      "photoUrl": "https://lh3.googleusercontent.com/a/default-user=s64",
      "userId": "16836461090630312519"
     },
     "user_tz": -540
    },
    "id": "AAK4c1S8GCeR",
    "outputId": "f8a4aac0-fe9e-4c0f-ae2e-bf93a89ec7df"
   },
   "outputs": [
    {
     "data": {
      "text/html": [
       "<div>\n",
       "<style scoped>\n",
       "    .dataframe tbody tr th:only-of-type {\n",
       "        vertical-align: middle;\n",
       "    }\n",
       "\n",
       "    .dataframe tbody tr th {\n",
       "        vertical-align: top;\n",
       "    }\n",
       "\n",
       "    .dataframe thead th {\n",
       "        text-align: right;\n",
       "    }\n",
       "</style>\n",
       "<table border=\"1\" class=\"dataframe\">\n",
       "  <thead>\n",
       "    <tr style=\"text-align: right;\">\n",
       "      <th></th>\n",
       "      <th>Time</th>\n",
       "      <th>V1</th>\n",
       "      <th>V2</th>\n",
       "      <th>V3</th>\n",
       "      <th>V4</th>\n",
       "      <th>V5</th>\n",
       "      <th>V6</th>\n",
       "      <th>V7</th>\n",
       "      <th>V8</th>\n",
       "      <th>V9</th>\n",
       "      <th>...</th>\n",
       "      <th>V21</th>\n",
       "      <th>V22</th>\n",
       "      <th>V23</th>\n",
       "      <th>V24</th>\n",
       "      <th>V25</th>\n",
       "      <th>V26</th>\n",
       "      <th>V27</th>\n",
       "      <th>V28</th>\n",
       "      <th>Amount</th>\n",
       "      <th>Class</th>\n",
       "    </tr>\n",
       "  </thead>\n",
       "  <tbody>\n",
       "    <tr>\n",
       "      <th>0</th>\n",
       "      <td>0.0</td>\n",
       "      <td>-1.359807</td>\n",
       "      <td>-0.072781</td>\n",
       "      <td>2.536347</td>\n",
       "      <td>1.378155</td>\n",
       "      <td>-0.338321</td>\n",
       "      <td>0.462388</td>\n",
       "      <td>0.239599</td>\n",
       "      <td>0.098698</td>\n",
       "      <td>0.363787</td>\n",
       "      <td>...</td>\n",
       "      <td>-0.018307</td>\n",
       "      <td>0.277838</td>\n",
       "      <td>-0.110474</td>\n",
       "      <td>0.066928</td>\n",
       "      <td>0.128539</td>\n",
       "      <td>-0.189115</td>\n",
       "      <td>0.133558</td>\n",
       "      <td>-0.021053</td>\n",
       "      <td>149.62</td>\n",
       "      <td>0</td>\n",
       "    </tr>\n",
       "    <tr>\n",
       "      <th>1</th>\n",
       "      <td>0.0</td>\n",
       "      <td>1.191857</td>\n",
       "      <td>0.266151</td>\n",
       "      <td>0.166480</td>\n",
       "      <td>0.448154</td>\n",
       "      <td>0.060018</td>\n",
       "      <td>-0.082361</td>\n",
       "      <td>-0.078803</td>\n",
       "      <td>0.085102</td>\n",
       "      <td>-0.255425</td>\n",
       "      <td>...</td>\n",
       "      <td>-0.225775</td>\n",
       "      <td>-0.638672</td>\n",
       "      <td>0.101288</td>\n",
       "      <td>-0.339846</td>\n",
       "      <td>0.167170</td>\n",
       "      <td>0.125895</td>\n",
       "      <td>-0.008983</td>\n",
       "      <td>0.014724</td>\n",
       "      <td>2.69</td>\n",
       "      <td>0</td>\n",
       "    </tr>\n",
       "    <tr>\n",
       "      <th>2</th>\n",
       "      <td>1.0</td>\n",
       "      <td>-1.358354</td>\n",
       "      <td>-1.340163</td>\n",
       "      <td>1.773209</td>\n",
       "      <td>0.379780</td>\n",
       "      <td>-0.503198</td>\n",
       "      <td>1.800499</td>\n",
       "      <td>0.791461</td>\n",
       "      <td>0.247676</td>\n",
       "      <td>-1.514654</td>\n",
       "      <td>...</td>\n",
       "      <td>0.247998</td>\n",
       "      <td>0.771679</td>\n",
       "      <td>0.909412</td>\n",
       "      <td>-0.689281</td>\n",
       "      <td>-0.327642</td>\n",
       "      <td>-0.139097</td>\n",
       "      <td>-0.055353</td>\n",
       "      <td>-0.059752</td>\n",
       "      <td>378.66</td>\n",
       "      <td>0</td>\n",
       "    </tr>\n",
       "    <tr>\n",
       "      <th>3</th>\n",
       "      <td>1.0</td>\n",
       "      <td>-0.966272</td>\n",
       "      <td>-0.185226</td>\n",
       "      <td>1.792993</td>\n",
       "      <td>-0.863291</td>\n",
       "      <td>-0.010309</td>\n",
       "      <td>1.247203</td>\n",
       "      <td>0.237609</td>\n",
       "      <td>0.377436</td>\n",
       "      <td>-1.387024</td>\n",
       "      <td>...</td>\n",
       "      <td>-0.108300</td>\n",
       "      <td>0.005274</td>\n",
       "      <td>-0.190321</td>\n",
       "      <td>-1.175575</td>\n",
       "      <td>0.647376</td>\n",
       "      <td>-0.221929</td>\n",
       "      <td>0.062723</td>\n",
       "      <td>0.061458</td>\n",
       "      <td>123.50</td>\n",
       "      <td>0</td>\n",
       "    </tr>\n",
       "    <tr>\n",
       "      <th>4</th>\n",
       "      <td>2.0</td>\n",
       "      <td>-1.158233</td>\n",
       "      <td>0.877737</td>\n",
       "      <td>1.548718</td>\n",
       "      <td>0.403034</td>\n",
       "      <td>-0.407193</td>\n",
       "      <td>0.095921</td>\n",
       "      <td>0.592941</td>\n",
       "      <td>-0.270533</td>\n",
       "      <td>0.817739</td>\n",
       "      <td>...</td>\n",
       "      <td>-0.009431</td>\n",
       "      <td>0.798278</td>\n",
       "      <td>-0.137458</td>\n",
       "      <td>0.141267</td>\n",
       "      <td>-0.206010</td>\n",
       "      <td>0.502292</td>\n",
       "      <td>0.219422</td>\n",
       "      <td>0.215153</td>\n",
       "      <td>69.99</td>\n",
       "      <td>0</td>\n",
       "    </tr>\n",
       "  </tbody>\n",
       "</table>\n",
       "<p>5 rows × 31 columns</p>\n",
       "</div>"
      ],
      "text/plain": [
       "   Time        V1        V2        V3        V4        V5        V6        V7  \\\n",
       "0   0.0 -1.359807 -0.072781  2.536347  1.378155 -0.338321  0.462388  0.239599   \n",
       "1   0.0  1.191857  0.266151  0.166480  0.448154  0.060018 -0.082361 -0.078803   \n",
       "2   1.0 -1.358354 -1.340163  1.773209  0.379780 -0.503198  1.800499  0.791461   \n",
       "3   1.0 -0.966272 -0.185226  1.792993 -0.863291 -0.010309  1.247203  0.237609   \n",
       "4   2.0 -1.158233  0.877737  1.548718  0.403034 -0.407193  0.095921  0.592941   \n",
       "\n",
       "         V8        V9  ...       V21       V22       V23       V24       V25  \\\n",
       "0  0.098698  0.363787  ... -0.018307  0.277838 -0.110474  0.066928  0.128539   \n",
       "1  0.085102 -0.255425  ... -0.225775 -0.638672  0.101288 -0.339846  0.167170   \n",
       "2  0.247676 -1.514654  ...  0.247998  0.771679  0.909412 -0.689281 -0.327642   \n",
       "3  0.377436 -1.387024  ... -0.108300  0.005274 -0.190321 -1.175575  0.647376   \n",
       "4 -0.270533  0.817739  ... -0.009431  0.798278 -0.137458  0.141267 -0.206010   \n",
       "\n",
       "        V26       V27       V28  Amount  Class  \n",
       "0 -0.189115  0.133558 -0.021053  149.62      0  \n",
       "1  0.125895 -0.008983  0.014724    2.69      0  \n",
       "2 -0.139097 -0.055353 -0.059752  378.66      0  \n",
       "3 -0.221929  0.062723  0.061458  123.50      0  \n",
       "4  0.502292  0.219422  0.215153   69.99      0  \n",
       "\n",
       "[5 rows x 31 columns]"
      ]
     },
     "execution_count": 3,
     "metadata": {},
     "output_type": "execute_result"
    }
   ],
   "source": [
    "DF.head()"
   ]
  },
  {
   "cell_type": "markdown",
   "metadata": {
    "id": "HIEYGzLnLuxL"
   },
   "source": [
    "* '0' (정상) Class와 '1' (부정) Class 개수"
   ]
  },
  {
   "cell_type": "code",
   "execution_count": 4,
   "metadata": {
    "colab": {
     "base_uri": "https://localhost:8080/"
    },
    "executionInfo": {
     "elapsed": 256,
     "status": "ok",
     "timestamp": 1632380373548,
     "user": {
      "displayName": "임성국",
      "photoUrl": "https://lh3.googleusercontent.com/a/default-user=s64",
      "userId": "16836461090630312519"
     },
     "user_tz": -540
    },
    "id": "E4NroBx4JDeP",
    "outputId": "87ef19af-00de-4260-fe26-661b8f3669eb"
   },
   "outputs": [
    {
     "data": {
      "text/plain": [
       "0    284315\n",
       "1       492\n",
       "Name: Class, dtype: int64"
      ]
     },
     "execution_count": 4,
     "metadata": {},
     "output_type": "execute_result"
    }
   ],
   "source": [
    "DF.Class.value_counts()"
   ]
  },
  {
   "cell_type": "markdown",
   "metadata": {
    "id": "OncXWy-mMF2j"
   },
   "source": [
    "* '0' (정상) Class와 '1' (부정) Class 비율"
   ]
  },
  {
   "cell_type": "code",
   "execution_count": 5,
   "metadata": {
    "colab": {
     "base_uri": "https://localhost:8080/"
    },
    "executionInfo": {
     "elapsed": 242,
     "status": "ok",
     "timestamp": 1632380375418,
     "user": {
      "displayName": "임성국",
      "photoUrl": "https://lh3.googleusercontent.com/a/default-user=s64",
      "userId": "16836461090630312519"
     },
     "user_tz": -540
    },
    "id": "8HWyf0GMJipF",
    "outputId": "4ac0291e-818d-4683-c3eb-714cd0795ade"
   },
   "outputs": [
    {
     "data": {
      "text/plain": [
       "0    99.827251\n",
       "1     0.172749\n",
       "Name: Class, dtype: float64"
      ]
     },
     "execution_count": 5,
     "metadata": {},
     "output_type": "execute_result"
    }
   ],
   "source": [
    "(DF.Class.value_counts() / DF.shape[0]) * 100"
   ]
  },
  {
   "cell_type": "markdown",
   "metadata": {
    "id": "rUf0Vq7kG0FQ"
   },
   "source": [
    "> ## 3) Time 열(Column) 삭제"
   ]
  },
  {
   "cell_type": "code",
   "execution_count": 6,
   "metadata": {
    "colab": {
     "base_uri": "https://localhost:8080/",
     "height": 100
    },
    "executionInfo": {
     "elapsed": 275,
     "status": "ok",
     "timestamp": 1632380377415,
     "user": {
      "displayName": "임성국",
      "photoUrl": "https://lh3.googleusercontent.com/a/default-user=s64",
      "userId": "16836461090630312519"
     },
     "user_tz": -540
    },
    "id": "ECv33P4FHE1F",
    "outputId": "7deb9fd2-896d-4e3a-e01a-35867cce41ce"
   },
   "outputs": [
    {
     "data": {
      "text/html": [
       "<div>\n",
       "<style scoped>\n",
       "    .dataframe tbody tr th:only-of-type {\n",
       "        vertical-align: middle;\n",
       "    }\n",
       "\n",
       "    .dataframe tbody tr th {\n",
       "        vertical-align: top;\n",
       "    }\n",
       "\n",
       "    .dataframe thead th {\n",
       "        text-align: right;\n",
       "    }\n",
       "</style>\n",
       "<table border=\"1\" class=\"dataframe\">\n",
       "  <thead>\n",
       "    <tr style=\"text-align: right;\">\n",
       "      <th></th>\n",
       "      <th>V1</th>\n",
       "      <th>V2</th>\n",
       "      <th>V3</th>\n",
       "      <th>V4</th>\n",
       "      <th>V5</th>\n",
       "      <th>V6</th>\n",
       "      <th>V7</th>\n",
       "      <th>V8</th>\n",
       "      <th>V9</th>\n",
       "      <th>V10</th>\n",
       "      <th>...</th>\n",
       "      <th>V21</th>\n",
       "      <th>V22</th>\n",
       "      <th>V23</th>\n",
       "      <th>V24</th>\n",
       "      <th>V25</th>\n",
       "      <th>V26</th>\n",
       "      <th>V27</th>\n",
       "      <th>V28</th>\n",
       "      <th>Amount</th>\n",
       "      <th>Class</th>\n",
       "    </tr>\n",
       "  </thead>\n",
       "  <tbody>\n",
       "    <tr>\n",
       "      <th>0</th>\n",
       "      <td>-1.359807</td>\n",
       "      <td>-0.072781</td>\n",
       "      <td>2.536347</td>\n",
       "      <td>1.378155</td>\n",
       "      <td>-0.338321</td>\n",
       "      <td>0.462388</td>\n",
       "      <td>0.239599</td>\n",
       "      <td>0.098698</td>\n",
       "      <td>0.363787</td>\n",
       "      <td>0.090794</td>\n",
       "      <td>...</td>\n",
       "      <td>-0.018307</td>\n",
       "      <td>0.277838</td>\n",
       "      <td>-0.110474</td>\n",
       "      <td>0.066928</td>\n",
       "      <td>0.128539</td>\n",
       "      <td>-0.189115</td>\n",
       "      <td>0.133558</td>\n",
       "      <td>-0.021053</td>\n",
       "      <td>149.62</td>\n",
       "      <td>0</td>\n",
       "    </tr>\n",
       "  </tbody>\n",
       "</table>\n",
       "<p>1 rows × 30 columns</p>\n",
       "</div>"
      ],
      "text/plain": [
       "         V1        V2        V3        V4        V5        V6        V7  \\\n",
       "0 -1.359807 -0.072781  2.536347  1.378155 -0.338321  0.462388  0.239599   \n",
       "\n",
       "         V8        V9       V10  ...       V21       V22       V23       V24  \\\n",
       "0  0.098698  0.363787  0.090794  ... -0.018307  0.277838 -0.110474  0.066928   \n",
       "\n",
       "        V25       V26       V27       V28  Amount  Class  \n",
       "0  0.128539 -0.189115  0.133558 -0.021053  149.62      0  \n",
       "\n",
       "[1 rows x 30 columns]"
      ]
     },
     "execution_count": 6,
     "metadata": {},
     "output_type": "execute_result"
    }
   ],
   "source": [
    "DF.drop('Time', axis = 1, inplace = True)\n",
    "\n",
    "DF.head(1)"
   ]
  },
  {
   "cell_type": "markdown",
   "metadata": {
    "id": "uF_FNdiaHcFi"
   },
   "source": [
    "> ## 4) train_test_split\n",
    "\n",
    "* X (Input), y (Output) 지정"
   ]
  },
  {
   "cell_type": "code",
   "execution_count": 7,
   "metadata": {
    "colab": {
     "base_uri": "https://localhost:8080/"
    },
    "executionInfo": {
     "elapsed": 255,
     "status": "ok",
     "timestamp": 1632380379518,
     "user": {
      "displayName": "임성국",
      "photoUrl": "https://lh3.googleusercontent.com/a/default-user=s64",
      "userId": "16836461090630312519"
     },
     "user_tz": -540
    },
    "id": "IRQX3mslHhC2",
    "outputId": "bdb228c7-ee17-4c2b-d684-c0a9a3ae8569"
   },
   "outputs": [
    {
     "data": {
      "text/plain": [
       "((284807, 29), (284807,))"
      ]
     },
     "execution_count": 7,
     "metadata": {},
     "output_type": "execute_result"
    }
   ],
   "source": [
    "X = DF.iloc[:,:-1]\n",
    "y = DF.iloc[:, -1]\n",
    "\n",
    "X.shape, y.shape"
   ]
  },
  {
   "cell_type": "markdown",
   "metadata": {
    "id": "LPnsXlPpMj0i"
   },
   "source": [
    "> ### (1) Without 'stratify'"
   ]
  },
  {
   "cell_type": "code",
   "execution_count": 8,
   "metadata": {
    "colab": {
     "base_uri": "https://localhost:8080/"
    },
    "executionInfo": {
     "elapsed": 997,
     "status": "ok",
     "timestamp": 1632380382357,
     "user": {
      "displayName": "임성국",
      "photoUrl": "https://lh3.googleusercontent.com/a/default-user=s64",
      "userId": "16836461090630312519"
     },
     "user_tz": -540
    },
    "id": "UgKosLsyJ5yo",
    "outputId": "3aa2e102-a615-4532-b16c-7c4952d970e6"
   },
   "outputs": [
    {
     "data": {
      "text/plain": [
       "((199364, 29), (199364,), (85443, 29), (85443,))"
      ]
     },
     "execution_count": 8,
     "metadata": {},
     "output_type": "execute_result"
    }
   ],
   "source": [
    "from sklearn.model_selection import train_test_split \n",
    "\n",
    "X_train, X_test, y_train, y_test = train_test_split(X, y,\n",
    "                                                    test_size = 0.3,\n",
    "                                                    random_state = 2045)\n",
    "\n",
    "X_train.shape, y_train.shape, X_test.shape, y_test.shape"
   ]
  },
  {
   "cell_type": "markdown",
   "metadata": {
    "id": "-H-1Z9-QM2Op"
   },
   "source": [
    "* Train_Data와 Test_Data의 1 (부정) 비율이 불균형"
   ]
  },
  {
   "cell_type": "code",
   "execution_count": 9,
   "metadata": {
    "colab": {
     "base_uri": "https://localhost:8080/"
    },
    "executionInfo": {
     "elapsed": 4,
     "status": "ok",
     "timestamp": 1632380384173,
     "user": {
      "displayName": "임성국",
      "photoUrl": "https://lh3.googleusercontent.com/a/default-user=s64",
      "userId": "16836461090630312519"
     },
     "user_tz": -540
    },
    "id": "-wrtnXcGJ8-R",
    "outputId": "dcc915f6-b7f7-4055-a108-36f51b697758"
   },
   "outputs": [
    {
     "name": "stdout",
     "output_type": "stream",
     "text": [
      "Train_Data : \n",
      " 0    99.825445\n",
      "1     0.174555\n",
      "Name: Class, dtype: float64\n",
      "Test_Data : \n",
      " 0    99.831467\n",
      "1     0.168533\n",
      "Name: Class, dtype: float64\n"
     ]
    }
   ],
   "source": [
    "print('Train_Data :','\\n', (y_train.value_counts() / y_train.shape[0]) * 100)\n",
    "print('Test_Data :','\\n', (y_test.value_counts() / y_test.shape[0]) * 100)"
   ]
  },
  {
   "cell_type": "markdown",
   "metadata": {
    "id": "f53LeC-IMx_T"
   },
   "source": [
    "> ### (2) With 'Stratify'"
   ]
  },
  {
   "cell_type": "code",
   "execution_count": 10,
   "metadata": {
    "colab": {
     "base_uri": "https://localhost:8080/"
    },
    "executionInfo": {
     "elapsed": 628,
     "status": "ok",
     "timestamp": 1632380394389,
     "user": {
      "displayName": "임성국",
      "photoUrl": "https://lh3.googleusercontent.com/a/default-user=s64",
      "userId": "16836461090630312519"
     },
     "user_tz": -540
    },
    "id": "i4e13zFqH0xP",
    "outputId": "418e8296-a2c4-45b5-f628-e9ae26206ea0"
   },
   "outputs": [
    {
     "data": {
      "text/plain": [
       "((199364, 29), (199364,), (85443, 29), (85443,))"
      ]
     },
     "execution_count": 10,
     "metadata": {},
     "output_type": "execute_result"
    }
   ],
   "source": [
    "from sklearn.model_selection import train_test_split \n",
    "\n",
    "X_train, X_test, y_train, y_test = train_test_split(X, y,\n",
    "                                                    test_size = 0.3,\n",
    "                                                    stratify = y,\n",
    "                                                    random_state = 2045)\n",
    "\n",
    "X_train.shape, y_train.shape, X_test.shape, y_test.shape"
   ]
  },
  {
   "cell_type": "markdown",
   "metadata": {
    "id": "q8NA1xnGNTtY"
   },
   "source": [
    "* Train_Data와 Test_Data의 1 (부정) 비율이 균형"
   ]
  },
  {
   "cell_type": "code",
   "execution_count": 11,
   "metadata": {
    "colab": {
     "base_uri": "https://localhost:8080/"
    },
    "executionInfo": {
     "elapsed": 5,
     "status": "ok",
     "timestamp": 1632380396213,
     "user": {
      "displayName": "임성국",
      "photoUrl": "https://lh3.googleusercontent.com/a/default-user=s64",
      "userId": "16836461090630312519"
     },
     "user_tz": -540
    },
    "id": "FMk7PWicKyDB",
    "outputId": "d420f6da-14e7-478f-d7c0-11b805aab2bb"
   },
   "outputs": [
    {
     "name": "stdout",
     "output_type": "stream",
     "text": [
      "Train_Data : \n",
      " 0    99.827451\n",
      "1     0.172549\n",
      "Name: Class, dtype: float64\n",
      "Test_Data : \n",
      " 0    99.826785\n",
      "1     0.173215\n",
      "Name: Class, dtype: float64\n"
     ]
    }
   ],
   "source": [
    "print('Train_Data :','\\n', (y_train.value_counts() / y_train.shape[0]) * 100)\n",
    "print('Test_Data :','\\n', (y_test.value_counts() / y_test.shape[0]) * 100)"
   ]
  },
  {
   "cell_type": "markdown",
   "metadata": {
    "id": "IjRGwPJGK413"
   },
   "source": [
    "# III. Modeling"
   ]
  },
  {
   "cell_type": "code",
   "execution_count": 12,
   "metadata": {
    "colab": {
     "base_uri": "https://localhost:8080/",
     "height": 374
    },
    "executionInfo": {
     "elapsed": 27791,
     "status": "ok",
     "timestamp": 1632380706521,
     "user": {
      "displayName": "임성국",
      "photoUrl": "https://lh3.googleusercontent.com/a/default-user=s64",
      "userId": "16836461090630312519"
     },
     "user_tz": -540
    },
    "id": "NojnmaOWd2-E",
    "outputId": "dbf94c0a-5088-4645-ed47-55858a2f2385",
    "scrolled": true
   },
   "outputs": [
    {
     "data": {
      "image/png": "[encoded data removed]",
      "text/plain": [
       "<Figure size 360x360 with 6 Axes>"
      ]
     },
     "metadata": {
      "needs_background": "light"
     },
     "output_type": "display_data"
    }
   ],
   "source": [
    "import matplotlib.pyplot as plt\n",
    "import seaborn as sns\n",
    "\n",
    "sns.pairplot(data=DF[['Amount','Class']])\n",
    "plt.show()"
   ]
  },
  {
   "cell_type": "code",
   "execution_count": 14,
   "metadata": {},
   "outputs": [
    {
     "data": {
      "text/plain": [
       "<AxesSubplot:>"
      ]
     },
     "execution_count": 14,
     "metadata": {},
     "output_type": "execute_result"
    },
    {
     "data": {
      "image/png": "[encoded data removed]",
      "text/plain": [
       "<Figure size 648x648 with 2 Axes>"
      ]
     },
     "metadata": {
      "needs_background": "light"
     },
     "output_type": "display_data"
    }
   ],
   "source": [
    "plt.figure(figsize=(9,9))\n",
    "corr=DF.corr()\n",
    "sns.heatmap(corr, cmap='RdBu')"
   ]
  },
  {
   "cell_type": "markdown",
   "metadata": {
    "id": "9M1s7Hznj_L0"
   },
   "source": [
    "# RandomForestClassifier"
   ]
  },
  {
   "cell_type": "code",
   "execution_count": 21,
   "metadata": {
    "colab": {
     "base_uri": "https://localhost:8080/"
    },
    "executionInfo": {
     "elapsed": 215223,
     "status": "ok",
     "timestamp": 1632381008382,
     "user": {
      "displayName": "임성국",
      "photoUrl": "https://lh3.googleusercontent.com/a/default-user=s64",
      "userId": "16836461090630312519"
     },
     "user_tz": -540
    },
    "id": "HijUhVRceUbU",
    "outputId": "3e8769d1-5d2a-4fe1-be7d-db835f52380a"
   },
   "outputs": [
    {
     "data": {
      "text/plain": [
       "RandomForestClassifier(bootstrap=True, ccp_alpha=0.0, class_weight=None,\n",
       "                       criterion='gini', max_depth=None, max_features='auto',\n",
       "                       max_leaf_nodes=None, max_samples=None,\n",
       "                       min_impurity_decrease=0.0, min_impurity_split=None,\n",
       "                       min_samples_leaf=1, min_samples_split=2,\n",
       "                       min_weight_fraction_leaf=0.0, n_estimators=100,\n",
       "                       n_jobs=None, oob_score=False, random_state=2045,\n",
       "                       verbose=0, warm_start=False)"
      ]
     },
     "execution_count": 21,
     "metadata": {},
     "output_type": "execute_result"
    }
   ],
   "source": [
    "from sklearn.ensemble import RandomForestClassifier\n",
    "\n",
    "Model_rf=RandomForestClassifier(random_state=2045)\n",
    "Model_rf.fit(X_train, y_train)"
   ]
  },
  {
   "cell_type": "code",
   "execution_count": 41,
   "metadata": {
    "executionInfo": {
     "elapsed": 1439,
     "status": "ok",
     "timestamp": 1632382824923,
     "user": {
      "displayName": "임성국",
      "photoUrl": "https://lh3.googleusercontent.com/a/default-user=s64",
      "userId": "16836461090630312519"
     },
     "user_tz": -540
    },
    "id": "VQO_-hgLhvQz"
   },
   "outputs": [],
   "source": [
    "y_hat=Model_rf.predict(X_test)"
   ]
  },
  {
   "cell_type": "code",
   "execution_count": 42,
   "metadata": {
    "colab": {
     "base_uri": "https://localhost:8080/"
    },
    "executionInfo": {
     "elapsed": 319,
     "status": "ok",
     "timestamp": 1632382826399,
     "user": {
      "displayName": "임성국",
      "photoUrl": "https://lh3.googleusercontent.com/a/default-user=s64",
      "userId": "16836461090630312519"
     },
     "user_tz": -540
    },
    "id": "mL75xcFemQqN",
    "outputId": "f0a93110-2c81-49c8-885a-25489cc19126"
   },
   "outputs": [
    {
     "data": {
      "text/plain": [
       "array([[  126,    22],\n",
       "       [   12, 85283]])"
      ]
     },
     "execution_count": 42,
     "metadata": {},
     "output_type": "execute_result"
    }
   ],
   "source": [
    "from sklearn.metrics import confusion_matrix\n",
    "\n",
    "confusion_matrix(y_test, y_hat,labels=[1,0])"
   ]
  },
  {
   "cell_type": "code",
   "execution_count": 26,
   "metadata": {
    "colab": {
     "base_uri": "https://localhost:8080/"
    },
    "executionInfo": {
     "elapsed": 442,
     "status": "ok",
     "timestamp": 1632381795164,
     "user": {
      "displayName": "임성국",
      "photoUrl": "https://lh3.googleusercontent.com/a/default-user=s64",
      "userId": "16836461090630312519"
     },
     "user_tz": -540
    },
    "id": "-bdfA8BXh8XM",
    "outputId": "3037ba21-0a4d-49d1-e473-a7c6f5fcdb57"
   },
   "outputs": [
    {
     "name": "stdout",
     "output_type": "stream",
     "text": [
      "0.999602073897218\n",
      "[0.99985931 0.85135135]\n"
     ]
    }
   ],
   "source": [
    "from sklearn.metrics import recall_score, accuracy_score\n",
    "\n",
    "print(accuracy_score(y_test, y_hat))\n",
    "print(recall_score(y_test,y_hat, average=None))"
   ]
  },
  {
   "cell_type": "code",
   "execution_count": 35,
   "metadata": {
    "colab": {
     "base_uri": "https://localhost:8080/",
     "height": 374
    },
    "executionInfo": {
     "elapsed": 925,
     "status": "ok",
     "timestamp": 1632382532399,
     "user": {
      "displayName": "임성국",
      "photoUrl": "https://lh3.googleusercontent.com/a/default-user=s64",
      "userId": "16836461090630312519"
     },
     "user_tz": -540
    },
    "id": "EkJyRaEylJ40",
    "outputId": "9fc62b24-8251-4147-e8f7-74a60d9d341b"
   },
   "outputs": [
    {
     "data": {
      "image/png": "[encoded data removed]",
      "text/plain": [
       "<Figure size 648x432 with 1 Axes>"
      ]
     },
     "metadata": {
      "needs_background": "light"
     },
     "output_type": "display_data"
    }
   ],
   "source": [
    "plt.figure(figsize=(9,6))\n",
    "sns.barplot(Model_rf.feature_importances_,['V1', 'V2', 'V3', 'V4', 'V5', 'V6', 'V7', 'V8', 'V9', 'V10', 'V11',\n",
    "       'V12', 'V13', 'V14', 'V15', 'V16', 'V17', 'V18', 'V19', 'V20', 'V21',\n",
    "       'V22', 'V23', 'V24', 'V25', 'V26', 'V27', 'V28', 'Amount'])\n",
    "plt.show()"
   ]
  },
  {
   "cell_type": "code",
   "execution_count": 51,
   "metadata": {
    "executionInfo": {
     "elapsed": 1,
     "status": "ok",
     "timestamp": 1632384595927,
     "user": {
      "displayName": "임성국",
      "photoUrl": "https://lh3.googleusercontent.com/a/default-user=s64",
      "userId": "16836461090630312519"
     },
     "user_tz": -540
    },
    "id": "9PrUAJpfsWXi"
   },
   "outputs": [],
   "source": [
    "DF2=DF[['V4','V7','V9','V10','V11','V12','V14','V16','V17','V18','Class']]"
   ]
  },
  {
   "cell_type": "code",
   "execution_count": 52,
   "metadata": {
    "colab": {
     "base_uri": "https://localhost:8080/"
    },
    "executionInfo": {
     "elapsed": 290,
     "status": "ok",
     "timestamp": 1632384892781,
     "user": {
      "displayName": "임성국",
      "photoUrl": "https://lh3.googleusercontent.com/a/default-user=s64",
      "userId": "16836461090630312519"
     },
     "user_tz": -540
    },
    "id": "9YyUaT0NtPuB",
    "outputId": "8cdfd218-49d7-4567-e2d1-79b79cd3fc37"
   },
   "outputs": [
    {
     "data": {
      "text/plain": [
       "((284807, 10), (284807,))"
      ]
     },
     "execution_count": 52,
     "metadata": {},
     "output_type": "execute_result"
    }
   ],
   "source": [
    "X2 = DF2.iloc[:,:-1]\n",
    "y2 = DF2.iloc[:, -1]\n",
    "\n",
    "X2.shape, y2.shape"
   ]
  },
  {
   "cell_type": "code",
   "execution_count": 53,
   "metadata": {
    "colab": {
     "base_uri": "https://localhost:8080/"
    },
    "executionInfo": {
     "elapsed": 3,
     "status": "ok",
     "timestamp": 1632384893964,
     "user": {
      "displayName": "임성국",
      "photoUrl": "https://lh3.googleusercontent.com/a/default-user=s64",
      "userId": "16836461090630312519"
     },
     "user_tz": -540
    },
    "id": "DidBKtTKtKkV",
    "outputId": "bd2a0616-2a3d-4d51-f46f-58a4648605db"
   },
   "outputs": [
    {
     "data": {
      "text/plain": [
       "((199364, 10), (199364,), (85443, 10), (85443,))"
      ]
     },
     "execution_count": 53,
     "metadata": {},
     "output_type": "execute_result"
    }
   ],
   "source": [
    "from sklearn.model_selection import train_test_split \n",
    "\n",
    "X2_train, X2_test, y2_train, y2_test = train_test_split(X2, y2,\n",
    "                                                    test_size = 0.3,\n",
    "                                                    stratify = y2,\n",
    "                                                    random_state = 2045)\n",
    "\n",
    "X2_train.shape, y2_train.shape, X2_test.shape, y2_test.shape"
   ]
  },
  {
   "cell_type": "code",
   "execution_count": 67,
   "metadata": {
    "colab": {
     "base_uri": "https://localhost:8080/"
    },
    "executionInfo": {
     "elapsed": 343608,
     "status": "ok",
     "timestamp": 1632385709329,
     "user": {
      "displayName": "임성국",
      "photoUrl": "https://lh3.googleusercontent.com/a/default-user=s64",
      "userId": "16836461090630312519"
     },
     "user_tz": -540
    },
    "id": "me-GZXcmtkMF",
    "outputId": "4a0ecbfc-8506-4970-9fd5-64f2f6fa7d23"
   },
   "outputs": [
    {
     "data": {
      "text/plain": [
       "RandomForestClassifier(bootstrap=True, ccp_alpha=0.0, class_weight=None,\n",
       "                       criterion='gini', max_depth=None, max_features='auto',\n",
       "                       max_leaf_nodes=None, max_samples=None,\n",
       "                       min_impurity_decrease=0.0, min_impurity_split=None,\n",
       "                       min_samples_leaf=1, min_samples_split=2,\n",
       "                       min_weight_fraction_leaf=0.0, n_estimators=300,\n",
       "                       n_jobs=None, oob_score=False, random_state=2045,\n",
       "                       verbose=0, warm_start=False)"
      ]
     },
     "execution_count": 67,
     "metadata": {},
     "output_type": "execute_result"
    }
   ],
   "source": [
    "from sklearn.ensemble import RandomForestClassifier\n",
    "\n",
    "Model_rf=RandomForestClassifier(n_estimators=300,\n",
    "                                random_state=2045)\n",
    "Model_rf.fit(X2_train, y2_train)"
   ]
  },
  {
   "cell_type": "code",
   "execution_count": 68,
   "metadata": {
    "executionInfo": {
     "elapsed": 3011,
     "status": "ok",
     "timestamp": 1632385718700,
     "user": {
      "displayName": "임성국",
      "photoUrl": "https://lh3.googleusercontent.com/a/default-user=s64",
      "userId": "16836461090630312519"
     },
     "user_tz": -540
    },
    "id": "FJkWq_ybuuRM"
   },
   "outputs": [],
   "source": [
    "y2_hat=Model_rf.predict(X2_test)"
   ]
  },
  {
   "cell_type": "code",
   "execution_count": 69,
   "metadata": {
    "colab": {
     "base_uri": "https://localhost:8080/"
    },
    "executionInfo": {
     "elapsed": 239,
     "status": "ok",
     "timestamp": 1632385719896,
     "user": {
      "displayName": "임성국",
      "photoUrl": "https://lh3.googleusercontent.com/a/default-user=s64",
      "userId": "16836461090630312519"
     },
     "user_tz": -540
    },
    "id": "4liebNvruvGz",
    "outputId": "4e22ce28-f240-448b-9485-35d603f89766"
   },
   "outputs": [
    {
     "data": {
      "text/plain": [
       "array([[  126,    22],\n",
       "       [   11, 85284]])"
      ]
     },
     "execution_count": 69,
     "metadata": {},
     "output_type": "execute_result"
    }
   ],
   "source": [
    "from sklearn.metrics import confusion_matrix\n",
    "\n",
    "confusion_matrix(y2_test, y2_hat,labels=[1,0])"
   ]
  },
  {
   "cell_type": "code",
   "execution_count": 75,
   "metadata": {
    "colab": {
     "base_uri": "https://localhost:8080/"
    },
    "executionInfo": {
     "elapsed": 342,
     "status": "ok",
     "timestamp": 1632385837049,
     "user": {
      "displayName": "임성국",
      "photoUrl": "https://lh3.googleusercontent.com/a/default-user=s64",
      "userId": "16836461090630312519"
     },
     "user_tz": -540
    },
    "id": "HRN6TSq3uvYX",
    "outputId": "4ebcf4c1-9c6e-4471-f75b-c00f119032af"
   },
   "outputs": [
    {
     "name": "stdout",
     "output_type": "stream",
     "text": [
      "0.9996137776061234\n",
      "[0.9997421  0.91970803]\n",
      "[0.99987104 0.85135135]\n"
     ]
    }
   ],
   "source": [
    "from sklearn.metrics import recall_score, accuracy_score, precision_score\n",
    "\n",
    "print(accuracy_score(y2_test, y2_hat))\n",
    "print(precision_score(y2_test, y2_hat, average=None))\n",
    "print(recall_score(y2_test,y2_hat, average=None))"
   ]
  },
  {
   "cell_type": "markdown",
   "metadata": {
    "id": "ExKrUNFRkG2E"
   },
   "source": [
    "# Decision Tree"
   ]
  },
  {
   "cell_type": "code",
   "execution_count": 27,
   "metadata": {
    "colab": {
     "base_uri": "https://localhost:8080/"
    },
    "executionInfo": {
     "elapsed": 20908,
     "status": "ok",
     "timestamp": 1632382336720,
     "user": {
      "displayName": "임성국",
      "photoUrl": "https://lh3.googleusercontent.com/a/default-user=s64",
      "userId": "16836461090630312519"
     },
     "user_tz": -540
    },
    "id": "sCMJceNokHgi",
    "outputId": "d3351ca8-b816-4eb0-e13e-299b85820292"
   },
   "outputs": [
    {
     "data": {
      "text/plain": [
       "DecisionTreeClassifier(ccp_alpha=0.0, class_weight=None, criterion='gini',\n",
       "                       max_depth=None, max_features=None, max_leaf_nodes=None,\n",
       "                       min_impurity_decrease=0.0, min_impurity_split=None,\n",
       "                       min_samples_leaf=1, min_samples_split=2,\n",
       "                       min_weight_fraction_leaf=0.0, presort='deprecated',\n",
       "                       random_state=2045, splitter='best')"
      ]
     },
     "execution_count": 27,
     "metadata": {},
     "output_type": "execute_result"
    }
   ],
   "source": [
    "from sklearn.tree import DecisionTreeClassifier\n",
    "\n",
    "Model_dt=DecisionTreeClassifier(random_state=2045)\n",
    "Model_dt.fit(X_train, y_train)"
   ]
  },
  {
   "cell_type": "code",
   "execution_count": 43,
   "metadata": {
    "colab": {
     "base_uri": "https://localhost:8080/"
    },
    "executionInfo": {
     "elapsed": 239,
     "status": "ok",
     "timestamp": 1632382834410,
     "user": {
      "displayName": "임성국",
      "photoUrl": "https://lh3.googleusercontent.com/a/default-user=s64",
      "userId": "16836461090630312519"
     },
     "user_tz": -540
    },
    "id": "uqcsMJ3rkHv5",
    "outputId": "1acaad86-54e7-455b-9bcf-180293a09054"
   },
   "outputs": [
    {
     "data": {
      "text/plain": [
       "array([0, 0, 0, ..., 0, 0, 0])"
      ]
     },
     "execution_count": 43,
     "metadata": {},
     "output_type": "execute_result"
    }
   ],
   "source": [
    "y_hat=Model_dt.predict(X_test)\n",
    "y_hat"
   ]
  },
  {
   "cell_type": "code",
   "execution_count": 44,
   "metadata": {
    "colab": {
     "base_uri": "https://localhost:8080/"
    },
    "executionInfo": {
     "elapsed": 4,
     "status": "ok",
     "timestamp": 1632382835396,
     "user": {
      "displayName": "임성국",
      "photoUrl": "https://lh3.googleusercontent.com/a/default-user=s64",
      "userId": "16836461090630312519"
     },
     "user_tz": -540
    },
    "id": "MCHdRu73kHyV",
    "outputId": "f1e86a38-2804-4753-b71d-6224c0a2a6f4"
   },
   "outputs": [
    {
     "data": {
      "text/plain": [
       "array([[  120,    28],\n",
       "       [   32, 85263]])"
      ]
     },
     "execution_count": 44,
     "metadata": {},
     "output_type": "execute_result"
    }
   ],
   "source": [
    "from sklearn.metrics import confusion_matrix\n",
    "\n",
    "confusion_matrix(y_test, y_hat,labels=[1,0])"
   ]
  },
  {
   "cell_type": "code",
   "execution_count": 30,
   "metadata": {
    "colab": {
     "base_uri": "https://localhost:8080/"
    },
    "executionInfo": {
     "elapsed": 310,
     "status": "ok",
     "timestamp": 1632382373572,
     "user": {
      "displayName": "임성국",
      "photoUrl": "https://lh3.googleusercontent.com/a/default-user=s64",
      "userId": "16836461090630312519"
     },
     "user_tz": -540
    },
    "id": "sQcS9Pzbkja1",
    "outputId": "824dcfee-bfa5-4ac5-c942-bc0eab71371b"
   },
   "outputs": [
    {
     "name": "stdout",
     "output_type": "stream",
     "text": [
      "0.9992977774656788\n",
      "[0.99962483 0.81081081]\n"
     ]
    }
   ],
   "source": [
    "from sklearn.metrics import recall_score, accuracy_score\n",
    "\n",
    "print(accuracy_score(y_test, y_hat))\n",
    "print(recall_score(y_test,y_hat, average=None))"
   ]
  },
  {
   "cell_type": "code",
   "execution_count": 34,
   "metadata": {
    "colab": {
     "base_uri": "https://localhost:8080/",
     "height": 374
    },
    "executionInfo": {
     "elapsed": 1345,
     "status": "ok",
     "timestamp": 1632382505940,
     "user": {
      "displayName": "임성국",
      "photoUrl": "https://lh3.googleusercontent.com/a/default-user=s64",
      "userId": "16836461090630312519"
     },
     "user_tz": -540
    },
    "id": "wNEQz5kvk13M",
    "outputId": "193c1283-6515-4b9d-a585-5af1b620c7c3"
   },
   "outputs": [
    {
     "data": {
      "image/png": "[encoded data removed]",
      "text/plain": [
       "<Figure size 648x432 with 1 Axes>"
      ]
     },
     "metadata": {
      "needs_background": "light"
     },
     "output_type": "display_data"
    }
   ],
   "source": [
    "plt.figure(figsize=(9,6))\n",
    "sns.barplot(Model_dt.feature_importances_,['V1', 'V2', 'V3', 'V4', 'V5', 'V6', 'V7', 'V8', 'V9', 'V10', 'V11',\n",
    "       'V12', 'V13', 'V14', 'V15', 'V16', 'V17', 'V18', 'V19', 'V20', 'V21',\n",
    "       'V22', 'V23', 'V24', 'V25', 'V26', 'V27', 'V28', 'Amount'])\n",
    "plt.show()"
   ]
  },
  {
   "cell_type": "code",
   "execution_count": 33,
   "metadata": {
    "colab": {
     "base_uri": "https://localhost:8080/"
    },
    "executionInfo": {
     "elapsed": 235,
     "status": "ok",
     "timestamp": 1632382488823,
     "user": {
      "displayName": "임성국",
      "photoUrl": "https://lh3.googleusercontent.com/a/default-user=s64",
      "userId": "16836461090630312519"
     },
     "user_tz": -540
    },
    "id": "8xuCVWk6k-_3",
    "outputId": "a330c247-bb13-4920-f6c7-c318b61b5da2"
   },
   "outputs": [
    {
     "data": {
      "text/plain": [
       "Index(['V1', 'V2', 'V3', 'V4', 'V5', 'V6', 'V7', 'V8', 'V9', 'V10', 'V11',\n",
       "       'V12', 'V13', 'V14', 'V15', 'V16', 'V17', 'V18', 'V19', 'V20', 'V21',\n",
       "       'V22', 'V23', 'V24', 'V25', 'V26', 'V27', 'V28', 'Amount', 'Class'],\n",
       "      dtype='object')"
      ]
     },
     "execution_count": 33,
     "metadata": {},
     "output_type": "execute_result"
    }
   ],
   "source": [
    "DF.columns"
   ]
  },
  {
   "cell_type": "markdown",
   "metadata": {
    "id": "f0skSjiTl2kU"
   },
   "source": [
    "# LogisticRegression"
   ]
  },
  {
   "cell_type": "code",
   "execution_count": 36,
   "metadata": {
    "colab": {
     "base_uri": "https://localhost:8080/"
    },
    "executionInfo": {
     "elapsed": 6824,
     "status": "ok",
     "timestamp": 1632382704980,
     "user": {
      "displayName": "임성국",
      "photoUrl": "https://lh3.googleusercontent.com/a/default-user=s64",
      "userId": "16836461090630312519"
     },
     "user_tz": -540
    },
    "id": "LraeTk2RlxWd",
    "outputId": "cce223bb-f7a7-433d-dd5a-ae1581dbe672"
   },
   "outputs": [
    {
     "data": {
      "text/plain": [
       "LogisticRegression(C=1.0, class_weight=None, dual=False, fit_intercept=True,\n",
       "                   intercept_scaling=1, l1_ratio=None, max_iter=100,\n",
       "                   multi_class='auto', n_jobs=None, penalty='l2',\n",
       "                   random_state=None, solver='lbfgs', tol=0.0001, verbose=0,\n",
       "                   warm_start=False)"
      ]
     },
     "execution_count": 36,
     "metadata": {},
     "output_type": "execute_result"
    }
   ],
   "source": [
    "from sklearn.linear_model import LogisticRegression\n",
    "\n",
    "Model_lr = LogisticRegression()\n",
    "Model_lr.fit(X_train,y_train)"
   ]
  },
  {
   "cell_type": "code",
   "execution_count": 45,
   "metadata": {
    "executionInfo": {
     "elapsed": 232,
     "status": "ok",
     "timestamp": 1632382848634,
     "user": {
      "displayName": "임성국",
      "photoUrl": "https://lh3.googleusercontent.com/a/default-user=s64",
      "userId": "16836461090630312519"
     },
     "user_tz": -540
    },
    "id": "778J1uDBl8yO"
   },
   "outputs": [],
   "source": [
    "y_hat=Model_lr.predict(X_test)"
   ]
  },
  {
   "cell_type": "code",
   "execution_count": 46,
   "metadata": {
    "colab": {
     "base_uri": "https://localhost:8080/"
    },
    "executionInfo": {
     "elapsed": 246,
     "status": "ok",
     "timestamp": 1632382850694,
     "user": {
      "displayName": "임성국",
      "photoUrl": "https://lh3.googleusercontent.com/a/default-user=s64",
      "userId": "16836461090630312519"
     },
     "user_tz": -540
    },
    "id": "P_No7TlqmB--",
    "outputId": "e1ab3be2-b070-4ffe-dfcb-fa5ac9b2e428"
   },
   "outputs": [
    {
     "data": {
      "text/plain": [
       "array([[  111,    37],\n",
       "       [   16, 85279]])"
      ]
     },
     "execution_count": 46,
     "metadata": {},
     "output_type": "execute_result"
    }
   ],
   "source": [
    "from sklearn.metrics import confusion_matrix\n",
    "\n",
    "confusion_matrix(y_test, y_hat,labels=[1,0])"
   ]
  },
  {
   "cell_type": "code",
   "execution_count": 47,
   "metadata": {
    "colab": {
     "base_uri": "https://localhost:8080/"
    },
    "executionInfo": {
     "elapsed": 239,
     "status": "ok",
     "timestamp": 1632382862419,
     "user": {
      "displayName": "임성국",
      "photoUrl": "https://lh3.googleusercontent.com/a/default-user=s64",
      "userId": "16836461090630312519"
     },
     "user_tz": -540
    },
    "id": "X3TXC9Ocmbnb",
    "outputId": "7c25a211-b140-443d-ada6-b1ec751e2c90"
   },
   "outputs": [
    {
     "name": "stdout",
     "output_type": "stream",
     "text": [
      "0.9993797034280163\n",
      "[0.99981242 0.75      ]\n"
     ]
    }
   ],
   "source": [
    "from sklearn.metrics import recall_score, accuracy_score\n",
    "\n",
    "print(accuracy_score(y_test, y_hat))\n",
    "print(recall_score(y_test,y_hat, average=None))"
   ]
  },
  {
   "cell_type": "markdown",
   "metadata": {
    "id": "aCZ2K_IsK8Cp"
   },
   "source": [
    "#The End#"
   ]
  }
 ],
 "metadata": {
  "colab": {
   "collapsed_sections": [
    "ExKrUNFRkG2E",
    "f0skSjiTl2kU"
   ],
   "name": "004_Kaggle_Fraud_Detection_Modeling_임성국.ipynb",
   "provenance": []
  },
  "kernelspec": {
   "display_name": "Python 3",
   "language": "python",
   "name": "python3"
  },
  "language_info": {
   "codemirror_mode": {
    "name": "ipython",
    "version": 3
   },
   "file_extension": ".py",
   "mimetype": "text/x-python",
   "name": "python",
   "nbconvert_exporter": "python",
   "pygments_lexer": "ipython3",
   "version": "3.8.8"
  },
  "toc": {
   "base_numbering": 1,
   "nav_menu": {},
   "number_sections": true,
   "sideBar": true,
   "skip_h1_title": false,
   "title_cell": "Table of Contents",
   "title_sidebar": "Contents",
   "toc_cell": false,
   "toc_position": {},
   "toc_section_display": true,
   "toc_window_display": false
  }
 },
 "nbformat": 4,
 "nbformat_minor": 1
}
