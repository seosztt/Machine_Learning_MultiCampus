{
 "cells": [
  {
   "cell_type": "code",
   "execution_count": 1,
   "id": "73beeb3b",
   "metadata": {},
   "outputs": [],
   "source": [
    "import warnings\n",
    "warnings.filterwarnings('ignore')"
   ]
  },
  {
   "cell_type": "markdown",
   "id": "80bfb91a",
   "metadata": {
    "heading_collapsed": true
   },
   "source": [
    "# Model Capacity"
   ]
  },
  {
   "cell_type": "code",
   "execution_count": 3,
   "id": "ed1de782",
   "metadata": {
    "hidden": true
   },
   "outputs": [],
   "source": [
    "import pandas as pd\n",
    "import matplotlib.pyplot as plt\n",
    "import seaborn as sns"
   ]
  },
  {
   "cell_type": "code",
   "execution_count": 4,
   "id": "adc65c26",
   "metadata": {
    "hidden": true
   },
   "outputs": [
    {
     "name": "stdout",
     "output_type": "stream",
     "text": [
      "<class 'pandas.core.frame.DataFrame'>\n",
      "RangeIndex: 768 entries, 0 to 767\n",
      "Data columns (total 9 columns):\n",
      " #   Column                     Non-Null Count  Dtype  \n",
      "---  ------                     --------------  -----  \n",
      " 0   compactness                768 non-null    float64\n",
      " 1   surface_area               768 non-null    float64\n",
      " 2   wall_area                  768 non-null    float64\n",
      " 3   roof_area                  768 non-null    float64\n",
      " 4   height                     768 non-null    float64\n",
      " 5   orientation                768 non-null    int64  \n",
      " 6   glazing_area               768 non-null    float64\n",
      " 7   glazing_area_distribution  768 non-null    int64  \n",
      " 8   electricity                768 non-null    float64\n",
      "dtypes: float64(7), int64(2)\n",
      "memory usage: 54.1 KB\n"
     ]
    }
   ],
   "source": [
    "url='https://raw.githubusercontent.com/rusita-ai/pyData/master/Electric.csv'\n",
    "\n",
    "Elec =pd.read_csv(url)\n",
    "Elec.info()"
   ]
  },
  {
   "cell_type": "code",
   "execution_count": 5,
   "id": "1716419c",
   "metadata": {
    "hidden": true
   },
   "outputs": [
    {
     "data": {
      "text/html": [
       "<div>\n",
       "<style scoped>\n",
       "    .dataframe tbody tr th:only-of-type {\n",
       "        vertical-align: middle;\n",
       "    }\n",
       "\n",
       "    .dataframe tbody tr th {\n",
       "        vertical-align: top;\n",
       "    }\n",
       "\n",
       "    .dataframe thead th {\n",
       "        text-align: right;\n",
       "    }\n",
       "</style>\n",
       "<table border=\"1\" class=\"dataframe\">\n",
       "  <thead>\n",
       "    <tr style=\"text-align: right;\">\n",
       "      <th></th>\n",
       "      <th>compactness</th>\n",
       "      <th>surface_area</th>\n",
       "      <th>wall_area</th>\n",
       "      <th>roof_area</th>\n",
       "      <th>height</th>\n",
       "      <th>orientation</th>\n",
       "      <th>glazing_area</th>\n",
       "      <th>glazing_area_distribution</th>\n",
       "      <th>electricity</th>\n",
       "    </tr>\n",
       "  </thead>\n",
       "  <tbody>\n",
       "    <tr>\n",
       "      <th>0</th>\n",
       "      <td>0.98</td>\n",
       "      <td>514.5</td>\n",
       "      <td>294.0</td>\n",
       "      <td>110.25</td>\n",
       "      <td>7.0</td>\n",
       "      <td>2</td>\n",
       "      <td>0.0</td>\n",
       "      <td>0</td>\n",
       "      <td>155.5</td>\n",
       "    </tr>\n",
       "    <tr>\n",
       "      <th>1</th>\n",
       "      <td>0.98</td>\n",
       "      <td>514.5</td>\n",
       "      <td>294.0</td>\n",
       "      <td>110.25</td>\n",
       "      <td>7.0</td>\n",
       "      <td>3</td>\n",
       "      <td>0.0</td>\n",
       "      <td>0</td>\n",
       "      <td>155.5</td>\n",
       "    </tr>\n",
       "    <tr>\n",
       "      <th>2</th>\n",
       "      <td>0.98</td>\n",
       "      <td>514.5</td>\n",
       "      <td>294.0</td>\n",
       "      <td>110.25</td>\n",
       "      <td>7.0</td>\n",
       "      <td>4</td>\n",
       "      <td>0.0</td>\n",
       "      <td>0</td>\n",
       "      <td>155.5</td>\n",
       "    </tr>\n",
       "    <tr>\n",
       "      <th>3</th>\n",
       "      <td>0.98</td>\n",
       "      <td>514.5</td>\n",
       "      <td>294.0</td>\n",
       "      <td>110.25</td>\n",
       "      <td>7.0</td>\n",
       "      <td>5</td>\n",
       "      <td>0.0</td>\n",
       "      <td>0</td>\n",
       "      <td>155.5</td>\n",
       "    </tr>\n",
       "    <tr>\n",
       "      <th>4</th>\n",
       "      <td>0.90</td>\n",
       "      <td>563.5</td>\n",
       "      <td>318.5</td>\n",
       "      <td>122.50</td>\n",
       "      <td>7.0</td>\n",
       "      <td>2</td>\n",
       "      <td>0.0</td>\n",
       "      <td>0</td>\n",
       "      <td>208.4</td>\n",
       "    </tr>\n",
       "  </tbody>\n",
       "</table>\n",
       "</div>"
      ],
      "text/plain": [
       "   compactness  surface_area  wall_area  roof_area  height  orientation  \\\n",
       "0         0.98         514.5      294.0     110.25     7.0            2   \n",
       "1         0.98         514.5      294.0     110.25     7.0            3   \n",
       "2         0.98         514.5      294.0     110.25     7.0            4   \n",
       "3         0.98         514.5      294.0     110.25     7.0            5   \n",
       "4         0.90         563.5      318.5     122.50     7.0            2   \n",
       "\n",
       "   glazing_area  glazing_area_distribution  electricity  \n",
       "0           0.0                          0        155.5  \n",
       "1           0.0                          0        155.5  \n",
       "2           0.0                          0        155.5  \n",
       "3           0.0                          0        155.5  \n",
       "4           0.0                          0        208.4  "
      ]
     },
     "execution_count": 5,
     "metadata": {},
     "output_type": "execute_result"
    }
   ],
   "source": [
    "Elec.head()"
   ]
  },
  {
   "cell_type": "code",
   "execution_count": 7,
   "id": "158f2eeb",
   "metadata": {
    "hidden": true
   },
   "outputs": [
    {
     "data": {
      "image/png": "[encoded data removed]",
      "text/plain": [
       "<Figure size 432x288 with 1 Axes>"
      ]
     },
     "metadata": {
      "needs_background": "light"
     },
     "output_type": "display_data"
    }
   ],
   "source": [
    "sns.scatterplot(Elec['surface_area'],Elec['electricity'])\n",
    "plt.show()"
   ]
  },
  {
   "cell_type": "markdown",
   "id": "68cb59f2",
   "metadata": {
    "heading_collapsed": true,
    "hidden": true
   },
   "source": [
    "## 1차 모델 시각화"
   ]
  },
  {
   "cell_type": "code",
   "execution_count": 9,
   "id": "9c707c4e",
   "metadata": {
    "hidden": true
   },
   "outputs": [
    {
     "data": {
      "image/png": "[encoded data removed]",
      "text/plain": [
       "<Figure size 432x288 with 1 Axes>"
      ]
     },
     "metadata": {
      "needs_background": "light"
     },
     "output_type": "display_data"
    }
   ],
   "source": [
    "sns.regplot(x='surface_area',y='electricity', data=Elec,\n",
    "            line_kws={'color':'red'},\n",
    "            scatter_kws={'edgecolor':'white'})\n",
    "plt.xlim(505,820)\n",
    "plt.show()"
   ]
  },
  {
   "cell_type": "markdown",
   "id": "bb137710",
   "metadata": {
    "heading_collapsed": true,
    "hidden": true
   },
   "source": [
    "## 2차 모델 시각화"
   ]
  },
  {
   "cell_type": "code",
   "execution_count": 10,
   "id": "485fafc9",
   "metadata": {
    "hidden": true
   },
   "outputs": [
    {
     "data": {
      "image/png": "[encoded data removed]",
      "text/plain": [
       "<Figure size 432x288 with 1 Axes>"
      ]
     },
     "metadata": {
      "needs_background": "light"
     },
     "output_type": "display_data"
    }
   ],
   "source": [
    "sns.regplot(x='surface_area',y='electricity', data=Elec,\n",
    "            line_kws={'color':'blue'},\n",
    "            scatter_kws={'edgecolor':'white'},\n",
    "            order = 2)\n",
    "plt.xlim(505,820)\n",
    "plt.show()"
   ]
  },
  {
   "cell_type": "markdown",
   "id": "631b838b",
   "metadata": {
    "heading_collapsed": true,
    "hidden": true
   },
   "source": [
    "## 5차 모델 시각화"
   ]
  },
  {
   "cell_type": "code",
   "execution_count": 11,
   "id": "672b88ce",
   "metadata": {
    "hidden": true
   },
   "outputs": [
    {
     "data": {
      "image/png": "[encoded data removed]",
      "text/plain": [
       "<Figure size 432x288 with 1 Axes>"
      ]
     },
     "metadata": {
      "needs_background": "light"
     },
     "output_type": "display_data"
    }
   ],
   "source": [
    "sns.regplot(x='surface_area',y='electricity', data=Elec,\n",
    "            line_kws={'color':'green'},\n",
    "            scatter_kws={'edgecolor':'white'},\n",
    "            order = 5)\n",
    "plt.xlim(505,820)\n",
    "plt.show()"
   ]
  },
  {
   "cell_type": "markdown",
   "id": "e142019d",
   "metadata": {
    "heading_collapsed": true,
    "hidden": true
   },
   "source": [
    "## 9차 모델 시각화"
   ]
  },
  {
   "cell_type": "code",
   "execution_count": 14,
   "id": "2c865ced",
   "metadata": {
    "hidden": true
   },
   "outputs": [
    {
     "data": {
      "image/png": "[encoded data removed]",
      "text/plain": [
       "<Figure size 432x288 with 1 Axes>"
      ]
     },
     "metadata": {
      "needs_background": "light"
     },
     "output_type": "display_data"
    }
   ],
   "source": [
    "sns.regplot(x='surface_area',y='electricity', data=Elec,\n",
    "            line_kws={'color':'orange'},\n",
    "            scatter_kws={'edgecolor':'white'},\n",
    "            order = 9)\n",
    "plt.xlim(505,820)\n",
    "plt.ylim(50,450)\n",
    "plt.show()"
   ]
  },
  {
   "cell_type": "markdown",
   "id": "e37a7b5d",
   "metadata": {
    "heading_collapsed": true,
    "hidden": true
   },
   "source": [
    "## 4개 모델 비교 시각화"
   ]
  },
  {
   "cell_type": "code",
   "execution_count": 18,
   "id": "8c335595",
   "metadata": {
    "hidden": true
   },
   "outputs": [
    {
     "data": {
      "image/png": "[encoded data removed]",
      "text/plain": [
       "<Figure size 432x288 with 1 Axes>"
      ]
     },
     "metadata": {
      "needs_background": "light"
     },
     "output_type": "display_data"
    }
   ],
   "source": [
    "sns.regplot(x='surface_area',y='electricity',\n",
    "            data=Elec,\n",
    "            line_kws={'color':'red'})\n",
    "sns.regplot(x='surface_area',y='electricity',\n",
    "            data=Elec,\n",
    "            line_kws={'color':'blue'}, order = 2)\n",
    "sns.regplot(x='surface_area',y='electricity',\n",
    "            data=Elec,\n",
    "            line_kws={'color':'green'}, order = 5)\n",
    "sns.regplot(x='surface_area',y='electricity',\n",
    "            data=Elec,\n",
    "            line_kws={'color':'orange'}, order = 9,\n",
    "            scatter_kws={'color':'gray', 'edgecolor':'white'})\n",
    "plt.xlim(505,820)\n",
    "plt.ylim(50,450)\n",
    "plt.xticks(rotation=35)\n",
    "plt.yticks(rotation=90)\n",
    "plt.show()"
   ]
  },
  {
   "cell_type": "markdown",
   "id": "84424e82",
   "metadata": {
    "heading_collapsed": true
   },
   "source": [
    "# Traning Error"
   ]
  },
  {
   "cell_type": "code",
   "execution_count": 19,
   "id": "4b9f6156",
   "metadata": {
    "hidden": true
   },
   "outputs": [],
   "source": [
    "import pandas as pd\n",
    "import numpy as np\n",
    "import matplotlib.pyplot as plt\n",
    "import seaborn as sns"
   ]
  },
  {
   "cell_type": "code",
   "execution_count": 20,
   "id": "ff159ce4",
   "metadata": {
    "hidden": true
   },
   "outputs": [
    {
     "name": "stdout",
     "output_type": "stream",
     "text": [
      "<class 'pandas.core.frame.DataFrame'>\n",
      "RangeIndex: 768 entries, 0 to 767\n",
      "Data columns (total 9 columns):\n",
      " #   Column                     Non-Null Count  Dtype  \n",
      "---  ------                     --------------  -----  \n",
      " 0   compactness                768 non-null    float64\n",
      " 1   surface_area               768 non-null    float64\n",
      " 2   wall_area                  768 non-null    float64\n",
      " 3   roof_area                  768 non-null    float64\n",
      " 4   height                     768 non-null    float64\n",
      " 5   orientation                768 non-null    int64  \n",
      " 6   glazing_area               768 non-null    float64\n",
      " 7   glazing_area_distribution  768 non-null    int64  \n",
      " 8   electricity                768 non-null    float64\n",
      "dtypes: float64(7), int64(2)\n",
      "memory usage: 54.1 KB\n"
     ]
    }
   ],
   "source": [
    "url='https://raw.githubusercontent.com/rusita-ai/pyData/master/Electric.csv'\n",
    "\n",
    "Elec =pd.read_csv(url)\n",
    "Elec.info()"
   ]
  },
  {
   "cell_type": "markdown",
   "id": "c1dce5fd",
   "metadata": {
    "heading_collapsed": true,
    "hidden": true
   },
   "source": [
    "## 1차 모델 Training Error"
   ]
  },
  {
   "cell_type": "code",
   "execution_count": 21,
   "id": "f211ff58",
   "metadata": {
    "hidden": true
   },
   "outputs": [
    {
     "data": {
      "text/plain": [
       "((768, 1), (768,))"
      ]
     },
     "execution_count": 21,
     "metadata": {},
     "output_type": "execute_result"
    }
   ],
   "source": [
    "X_train=Elec[['surface_area']]\n",
    "y_train=Elec['electricity']\n",
    "\n",
    "X_train.shape, y_train.shape"
   ]
  },
  {
   "cell_type": "code",
   "execution_count": 22,
   "id": "714bbee8",
   "metadata": {
    "hidden": true
   },
   "outputs": [
    {
     "data": {
      "text/plain": [
       "LinearRegression()"
      ]
     },
     "execution_count": 22,
     "metadata": {},
     "output_type": "execute_result"
    }
   ],
   "source": [
    "from sklearn.linear_model import LinearRegression\n",
    "\n",
    "Model_1=LinearRegression()\n",
    "Model_1.fit(X_train, y_train)"
   ]
  },
  {
   "cell_type": "code",
   "execution_count": 23,
   "id": "cacb98fa",
   "metadata": {
    "hidden": true
   },
   "outputs": [
    {
     "name": "stdout",
     "output_type": "stream",
     "text": [
      "[-0.75387157]\n",
      "729.4538243006992\n"
     ]
    }
   ],
   "source": [
    "print(Model_1.coef_)\n",
    "print(Model_1.intercept_)"
   ]
  },
  {
   "cell_type": "code",
   "execution_count": 24,
   "id": "fc3967c3",
   "metadata": {
    "hidden": true
   },
   "outputs": [
    {
     "data": {
      "text/plain": [
       "768"
      ]
     },
     "execution_count": 24,
     "metadata": {},
     "output_type": "execute_result"
    }
   ],
   "source": [
    "y_hat_1=Model_1.predict(X_train)\n",
    "\n",
    "len(y_hat_1)"
   ]
  },
  {
   "cell_type": "code",
   "execution_count": 44,
   "id": "c12bf30a",
   "metadata": {
    "hidden": true
   },
   "outputs": [
    {
     "data": {
      "text/plain": [
       "5763.983779426347"
      ]
     },
     "execution_count": 44,
     "metadata": {},
     "output_type": "execute_result"
    }
   ],
   "source": [
    "TR_Err_1=np.mean((y_train-y_hat_1)**2)\n",
    "TR_Err_1"
   ]
  },
  {
   "cell_type": "markdown",
   "id": "00aeb008",
   "metadata": {
    "heading_collapsed": true,
    "hidden": true
   },
   "source": [
    "## 5차 모델 Training Error"
   ]
  },
  {
   "cell_type": "code",
   "execution_count": 26,
   "id": "9071f55b",
   "metadata": {
    "hidden": true
   },
   "outputs": [],
   "source": [
    "from sklearn.preprocessing import PolynomialFeatures\n",
    "\n",
    "poly=PolynomialFeatures(degree=5, include_bias=False)\n",
    "PX_5=poly.fit_transform(X_train)"
   ]
  },
  {
   "cell_type": "code",
   "execution_count": 27,
   "id": "338da3b2",
   "metadata": {
    "hidden": true
   },
   "outputs": [
    {
     "data": {
      "text/plain": [
       "array([[5.14500000e+02, 2.64710250e+05, 1.36193424e+08, 7.00715165e+10,\n",
       "        3.60517952e+13],\n",
       "       [5.14500000e+02, 2.64710250e+05, 1.36193424e+08, 7.00715165e+10,\n",
       "        3.60517952e+13],\n",
       "       [5.14500000e+02, 2.64710250e+05, 1.36193424e+08, 7.00715165e+10,\n",
       "        3.60517952e+13],\n",
       "       ...,\n",
       "       [8.08500000e+02, 6.53672250e+05, 5.28494014e+08, 4.27287410e+11,\n",
       "        3.45461871e+14],\n",
       "       [8.08500000e+02, 6.53672250e+05, 5.28494014e+08, 4.27287410e+11,\n",
       "        3.45461871e+14],\n",
       "       [8.08500000e+02, 6.53672250e+05, 5.28494014e+08, 4.27287410e+11,\n",
       "        3.45461871e+14]])"
      ]
     },
     "execution_count": 27,
     "metadata": {},
     "output_type": "execute_result"
    }
   ],
   "source": [
    "PX_5"
   ]
  },
  {
   "cell_type": "code",
   "execution_count": 28,
   "id": "770a7cc3",
   "metadata": {
    "hidden": true
   },
   "outputs": [
    {
     "data": {
      "text/plain": [
       "((768, 1), (768, 5))"
      ]
     },
     "execution_count": 28,
     "metadata": {},
     "output_type": "execute_result"
    }
   ],
   "source": [
    "X_train.shape, PX_5.shape"
   ]
  },
  {
   "cell_type": "code",
   "execution_count": 30,
   "id": "db64d399",
   "metadata": {
    "hidden": true
   },
   "outputs": [
    {
     "data": {
      "text/plain": [
       "LinearRegression()"
      ]
     },
     "execution_count": 30,
     "metadata": {},
     "output_type": "execute_result"
    }
   ],
   "source": [
    "from sklearn.linear_model import LinearRegression\n",
    "\n",
    "Model_5=LinearRegression()\n",
    "Model_5.fit(PX_5,y_train)"
   ]
  },
  {
   "cell_type": "code",
   "execution_count": 31,
   "id": "c7b95a45",
   "metadata": {
    "hidden": true
   },
   "outputs": [
    {
     "name": "stdout",
     "output_type": "stream",
     "text": [
      "[-0.0003155144 -0.1029296148  0.0003787614 -0.0000005032  0.0000000002]\n",
      "2906.225912957204\n"
     ]
    }
   ],
   "source": [
    "np.set_printoptions(suppress=True, precision=10)\n",
    "\n",
    "print(Model_5.coef_)\n",
    "print(Model_5.intercept_)"
   ]
  },
  {
   "cell_type": "code",
   "execution_count": 32,
   "id": "9571aae7",
   "metadata": {
    "hidden": true
   },
   "outputs": [
    {
     "data": {
      "text/plain": [
       "(768,)"
      ]
     },
     "execution_count": 32,
     "metadata": {},
     "output_type": "execute_result"
    }
   ],
   "source": [
    "PX_5_pred=poly.fit_transform(X_train)\n",
    "\n",
    "y_hat_5=Model_5.predict(PX_5_pred)\n",
    "\n",
    "y_hat_5.shape"
   ]
  },
  {
   "cell_type": "code",
   "execution_count": 43,
   "id": "f8157051",
   "metadata": {
    "hidden": true
   },
   "outputs": [
    {
     "data": {
      "text/plain": [
       "4177.7263307311705"
      ]
     },
     "execution_count": 43,
     "metadata": {},
     "output_type": "execute_result"
    }
   ],
   "source": [
    "TR_Err_5=np.mean((y_train-y_hat_5)**2)\n",
    "TR_Err_5"
   ]
  },
  {
   "cell_type": "markdown",
   "id": "c3c93d26",
   "metadata": {
    "heading_collapsed": true,
    "hidden": true
   },
   "source": [
    "## 9차 모델 Training Error"
   ]
  },
  {
   "cell_type": "code",
   "execution_count": 34,
   "id": "2413bcd7",
   "metadata": {
    "hidden": true
   },
   "outputs": [],
   "source": [
    "from sklearn.preprocessing import PolynomialFeatures\n",
    "\n",
    "poly=PolynomialFeatures(degree=9, include_bias=False)\n",
    "PX_9=poly.fit_transform(X_train)"
   ]
  },
  {
   "cell_type": "code",
   "execution_count": 36,
   "id": "5c21ea76",
   "metadata": {
    "hidden": true,
    "scrolled": true
   },
   "outputs": [
    {
     "data": {
      "text/plain": [
       "((768, 1), (768, 9))"
      ]
     },
     "execution_count": 36,
     "metadata": {},
     "output_type": "execute_result"
    }
   ],
   "source": [
    "X_train.shape, PX_9.shape"
   ]
  },
  {
   "cell_type": "code",
   "execution_count": 38,
   "id": "4fdcf22b",
   "metadata": {
    "hidden": true
   },
   "outputs": [
    {
     "data": {
      "text/plain": [
       "LinearRegression()"
      ]
     },
     "execution_count": 38,
     "metadata": {},
     "output_type": "execute_result"
    }
   ],
   "source": [
    "from sklearn.linear_model import LinearRegression\n",
    "\n",
    "Model_9=LinearRegression()\n",
    "Model_9.fit(PX_9,y_train)"
   ]
  },
  {
   "cell_type": "code",
   "execution_count": 39,
   "id": "8893e5b4",
   "metadata": {
    "hidden": true
   },
   "outputs": [
    {
     "name": "stdout",
     "output_type": "stream",
     "text": [
      "[ 0.  0.  0.  0.  0.  0. -0.  0. -0.]\n",
      "-440.0825837656022\n"
     ]
    }
   ],
   "source": [
    "print(Model_9.coef_)\n",
    "print(Model_9.intercept_)"
   ]
  },
  {
   "cell_type": "code",
   "execution_count": 40,
   "id": "6b1e46b8",
   "metadata": {
    "hidden": true
   },
   "outputs": [
    {
     "data": {
      "text/plain": [
       "(768,)"
      ]
     },
     "execution_count": 40,
     "metadata": {},
     "output_type": "execute_result"
    }
   ],
   "source": [
    "PX_9_pred=poly.fit_transform(X_train)\n",
    "\n",
    "y_hat_9=Model_9.predict(PX_9_pred)\n",
    "\n",
    "y_hat_9.shape"
   ]
  },
  {
   "cell_type": "code",
   "execution_count": 45,
   "id": "d2172456",
   "metadata": {
    "hidden": true
   },
   "outputs": [
    {
     "data": {
      "text/plain": [
       "4086.719990814798"
      ]
     },
     "execution_count": 45,
     "metadata": {},
     "output_type": "execute_result"
    }
   ],
   "source": [
    "TR_Err_9=np.mean((y_train-y_hat_9)**2)\n",
    "TR_Err_9"
   ]
  },
  {
   "cell_type": "markdown",
   "id": "b7443241",
   "metadata": {
    "heading_collapsed": true,
    "hidden": true
   },
   "source": [
    "## 3개 모델 Training Error 비교"
   ]
  },
  {
   "cell_type": "code",
   "execution_count": 94,
   "id": "1651613a",
   "metadata": {
    "hidden": true
   },
   "outputs": [
    {
     "name": "stdout",
     "output_type": "stream",
     "text": [
      "1차 모델 :  5763.983779426347\n",
      "5차 모델 :  4177.7263307311705\n",
      "9차 모델 :  4086.719990814798\n"
     ]
    }
   ],
   "source": [
    "print('1차 모델 : ',TR_Err_1)\n",
    "print('5차 모델 : ',TR_Err_5)\n",
    "print('9차 모델 : ',TR_Err_9)"
   ]
  },
  {
   "cell_type": "markdown",
   "id": "047a42f0",
   "metadata": {
    "heading_collapsed": true,
    "hidden": true
   },
   "source": [
    "## 잔차(Residual) 시각화"
   ]
  },
  {
   "cell_type": "markdown",
   "id": "e281b411",
   "metadata": {
    "heading_collapsed": true,
    "hidden": true
   },
   "source": [
    "### 1차 모델"
   ]
  },
  {
   "cell_type": "code",
   "execution_count": 47,
   "id": "75ba2caf",
   "metadata": {
    "hidden": true
   },
   "outputs": [
    {
     "data": {
      "image/png": "[encoded data removed]",
      "text/plain": [
       "<Figure size 432x288 with 1 Axes>"
      ]
     },
     "metadata": {
      "needs_background": "light"
     },
     "output_type": "display_data"
    }
   ],
   "source": [
    "sns.residplot(x='surface_area',\n",
    "              y='electricity',\n",
    "              data=Elec,\n",
    "             order=1,\n",
    "             scatter_kws={'edgecolor':'white'})\n",
    "plt.ylim(-300,300)\n",
    "plt.show()"
   ]
  },
  {
   "cell_type": "markdown",
   "id": "2e298368",
   "metadata": {
    "heading_collapsed": true,
    "hidden": true
   },
   "source": [
    "### 5차 모델"
   ]
  },
  {
   "cell_type": "code",
   "execution_count": 48,
   "id": "290657a7",
   "metadata": {
    "hidden": true
   },
   "outputs": [
    {
     "data": {
      "image/png": "[encoded data removed]",
      "text/plain": [
       "<Figure size 432x288 with 1 Axes>"
      ]
     },
     "metadata": {
      "needs_background": "light"
     },
     "output_type": "display_data"
    }
   ],
   "source": [
    "sns.residplot(x='surface_area',\n",
    "              y='electricity',\n",
    "              data=Elec,\n",
    "             order=5,\n",
    "             scatter_kws={'edgecolor':'white'})\n",
    "plt.ylim(-300,300)\n",
    "plt.show()"
   ]
  },
  {
   "cell_type": "markdown",
   "id": "782f5fe4",
   "metadata": {
    "heading_collapsed": true,
    "hidden": true
   },
   "source": [
    "### 9차 모델"
   ]
  },
  {
   "cell_type": "code",
   "execution_count": 49,
   "id": "0bfe9739",
   "metadata": {
    "hidden": true
   },
   "outputs": [
    {
     "data": {
      "image/png": "[encoded data removed]",
      "text/plain": [
       "<Figure size 432x288 with 1 Axes>"
      ]
     },
     "metadata": {
      "needs_background": "light"
     },
     "output_type": "display_data"
    }
   ],
   "source": [
    "sns.residplot(x='surface_area',\n",
    "              y='electricity',\n",
    "              data=Elec,\n",
    "             order=9,\n",
    "             scatter_kws={'edgecolor':'white'})\n",
    "plt.ylim(-300,300)\n",
    "plt.show()"
   ]
  },
  {
   "cell_type": "markdown",
   "id": "46edcd38",
   "metadata": {
    "heading_collapsed": true
   },
   "source": [
    "# Testing Error"
   ]
  },
  {
   "cell_type": "code",
   "execution_count": 50,
   "id": "416640e4",
   "metadata": {
    "hidden": true
   },
   "outputs": [],
   "source": [
    "import pandas as pd\n",
    "import matplotlib.pyplot as plt\n",
    "import seaborn as sns"
   ]
  },
  {
   "cell_type": "code",
   "execution_count": 51,
   "id": "f96d5d6f",
   "metadata": {
    "hidden": true
   },
   "outputs": [
    {
     "data": {
      "text/plain": [
       "(768, 9)"
      ]
     },
     "execution_count": 51,
     "metadata": {},
     "output_type": "execute_result"
    }
   ],
   "source": [
    "url='https://raw.githubusercontent.com/rusita-ai/pyData/master/Electric.csv'\n",
    "\n",
    "Elec =pd.read_csv(url)\n",
    "Elec.shape"
   ]
  },
  {
   "cell_type": "markdown",
   "id": "eb24f1b0",
   "metadata": {
    "heading_collapsed": true,
    "hidden": true
   },
   "source": [
    "## Train_Date vs. Test_Date"
   ]
  },
  {
   "cell_type": "markdown",
   "id": "537f1a8b",
   "metadata": {
    "heading_collapsed": true,
    "hidden": true
   },
   "source": [
    "### DateFrame Split"
   ]
  },
  {
   "cell_type": "code",
   "execution_count": 52,
   "id": "08918cfa",
   "metadata": {
    "hidden": true
   },
   "outputs": [],
   "source": [
    "from sklearn.model_selection import train_test_split\n",
    "\n",
    "TR_Elec, TE_Elec=train_test_split(Elec, test_size=0.2,\n",
    "                                 random_state=2045)"
   ]
  },
  {
   "cell_type": "code",
   "execution_count": 53,
   "id": "94aefb03",
   "metadata": {
    "hidden": true
   },
   "outputs": [
    {
     "data": {
      "text/plain": [
       "((614, 9), (154, 9))"
      ]
     },
     "execution_count": 53,
     "metadata": {},
     "output_type": "execute_result"
    }
   ],
   "source": [
    "TR_Elec.shape, TE_Elec.shape"
   ]
  },
  {
   "cell_type": "code",
   "execution_count": 54,
   "id": "6d1f2262",
   "metadata": {
    "hidden": true
   },
   "outputs": [
    {
     "data": {
      "text/html": [
       "<div>\n",
       "<style scoped>\n",
       "    .dataframe tbody tr th:only-of-type {\n",
       "        vertical-align: middle;\n",
       "    }\n",
       "\n",
       "    .dataframe tbody tr th {\n",
       "        vertical-align: top;\n",
       "    }\n",
       "\n",
       "    .dataframe thead th {\n",
       "        text-align: right;\n",
       "    }\n",
       "</style>\n",
       "<table border=\"1\" class=\"dataframe\">\n",
       "  <thead>\n",
       "    <tr style=\"text-align: right;\">\n",
       "      <th></th>\n",
       "      <th>compactness</th>\n",
       "      <th>surface_area</th>\n",
       "      <th>wall_area</th>\n",
       "      <th>roof_area</th>\n",
       "      <th>height</th>\n",
       "      <th>orientation</th>\n",
       "      <th>glazing_area</th>\n",
       "      <th>glazing_area_distribution</th>\n",
       "      <th>electricity</th>\n",
       "    </tr>\n",
       "  </thead>\n",
       "  <tbody>\n",
       "    <tr>\n",
       "      <th>555</th>\n",
       "      <td>0.74</td>\n",
       "      <td>686.0</td>\n",
       "      <td>245.0</td>\n",
       "      <td>220.5</td>\n",
       "      <td>3.5</td>\n",
       "      <td>5</td>\n",
       "      <td>0.40</td>\n",
       "      <td>1</td>\n",
       "      <td>145.5</td>\n",
       "    </tr>\n",
       "    <tr>\n",
       "      <th>355</th>\n",
       "      <td>0.79</td>\n",
       "      <td>637.0</td>\n",
       "      <td>343.0</td>\n",
       "      <td>147.0</td>\n",
       "      <td>7.0</td>\n",
       "      <td>5</td>\n",
       "      <td>0.25</td>\n",
       "      <td>2</td>\n",
       "      <td>389.8</td>\n",
       "    </tr>\n",
       "    <tr>\n",
       "      <th>200</th>\n",
       "      <td>0.86</td>\n",
       "      <td>588.0</td>\n",
       "      <td>294.0</td>\n",
       "      <td>147.0</td>\n",
       "      <td>7.0</td>\n",
       "      <td>2</td>\n",
       "      <td>0.10</td>\n",
       "      <td>4</td>\n",
       "      <td>264.4</td>\n",
       "    </tr>\n",
       "    <tr>\n",
       "      <th>669</th>\n",
       "      <td>0.62</td>\n",
       "      <td>808.5</td>\n",
       "      <td>367.5</td>\n",
       "      <td>220.5</td>\n",
       "      <td>3.5</td>\n",
       "      <td>3</td>\n",
       "      <td>0.40</td>\n",
       "      <td>3</td>\n",
       "      <td>163.5</td>\n",
       "    </tr>\n",
       "    <tr>\n",
       "      <th>561</th>\n",
       "      <td>0.69</td>\n",
       "      <td>735.0</td>\n",
       "      <td>294.0</td>\n",
       "      <td>220.5</td>\n",
       "      <td>3.5</td>\n",
       "      <td>3</td>\n",
       "      <td>0.40</td>\n",
       "      <td>1</td>\n",
       "      <td>147.0</td>\n",
       "    </tr>\n",
       "  </tbody>\n",
       "</table>\n",
       "</div>"
      ],
      "text/plain": [
       "     compactness  surface_area  wall_area  roof_area  height  orientation  \\\n",
       "555         0.74         686.0      245.0      220.5     3.5            5   \n",
       "355         0.79         637.0      343.0      147.0     7.0            5   \n",
       "200         0.86         588.0      294.0      147.0     7.0            2   \n",
       "669         0.62         808.5      367.5      220.5     3.5            3   \n",
       "561         0.69         735.0      294.0      220.5     3.5            3   \n",
       "\n",
       "     glazing_area  glazing_area_distribution  electricity  \n",
       "555          0.40                          1        145.5  \n",
       "355          0.25                          2        389.8  \n",
       "200          0.10                          4        264.4  \n",
       "669          0.40                          3        163.5  \n",
       "561          0.40                          1        147.0  "
      ]
     },
     "execution_count": 54,
     "metadata": {},
     "output_type": "execute_result"
    }
   ],
   "source": [
    "TR_Elec.head()"
   ]
  },
  {
   "cell_type": "markdown",
   "id": "8f21678f",
   "metadata": {
    "heading_collapsed": true,
    "hidden": true
   },
   "source": [
    "### Array Split"
   ]
  },
  {
   "cell_type": "code",
   "execution_count": 56,
   "id": "38381d89",
   "metadata": {
    "hidden": true
   },
   "outputs": [],
   "source": [
    "from sklearn.model_selection import train_test_split\n",
    "\n",
    "X_train, X_test, y_train, y_test = train_test_split(Elec[['surface_area']],\n",
    "                                                   Elec['electricity'],\n",
    "                                                   test_size=0.2,\n",
    "                                                   random_state=2045)"
   ]
  },
  {
   "cell_type": "code",
   "execution_count": 58,
   "id": "2c94560a",
   "metadata": {
    "hidden": true
   },
   "outputs": [
    {
     "data": {
      "text/plain": [
       "((614, 1), (614,), (154, 1), (154,))"
      ]
     },
     "execution_count": 58,
     "metadata": {},
     "output_type": "execute_result"
    }
   ],
   "source": [
    "X_train.shape, y_train.shape, X_test.shape, y_test.shape"
   ]
  },
  {
   "cell_type": "code",
   "execution_count": 59,
   "id": "2bf9e0ff",
   "metadata": {
    "hidden": true
   },
   "outputs": [
    {
     "data": {
      "text/html": [
       "<div>\n",
       "<style scoped>\n",
       "    .dataframe tbody tr th:only-of-type {\n",
       "        vertical-align: middle;\n",
       "    }\n",
       "\n",
       "    .dataframe tbody tr th {\n",
       "        vertical-align: top;\n",
       "    }\n",
       "\n",
       "    .dataframe thead th {\n",
       "        text-align: right;\n",
       "    }\n",
       "</style>\n",
       "<table border=\"1\" class=\"dataframe\">\n",
       "  <thead>\n",
       "    <tr style=\"text-align: right;\">\n",
       "      <th></th>\n",
       "      <th>surface_area</th>\n",
       "    </tr>\n",
       "  </thead>\n",
       "  <tbody>\n",
       "    <tr>\n",
       "      <th>555</th>\n",
       "      <td>686.0</td>\n",
       "    </tr>\n",
       "    <tr>\n",
       "      <th>355</th>\n",
       "      <td>637.0</td>\n",
       "    </tr>\n",
       "    <tr>\n",
       "      <th>200</th>\n",
       "      <td>588.0</td>\n",
       "    </tr>\n",
       "    <tr>\n",
       "      <th>669</th>\n",
       "      <td>808.5</td>\n",
       "    </tr>\n",
       "    <tr>\n",
       "      <th>561</th>\n",
       "      <td>735.0</td>\n",
       "    </tr>\n",
       "  </tbody>\n",
       "</table>\n",
       "</div>"
      ],
      "text/plain": [
       "     surface_area\n",
       "555         686.0\n",
       "355         637.0\n",
       "200         588.0\n",
       "669         808.5\n",
       "561         735.0"
      ]
     },
     "execution_count": 59,
     "metadata": {},
     "output_type": "execute_result"
    }
   ],
   "source": [
    "X_train.head()"
   ]
  },
  {
   "cell_type": "code",
   "execution_count": 60,
   "id": "900cee7a",
   "metadata": {
    "hidden": true
   },
   "outputs": [
    {
     "data": {
      "text/plain": [
       "555    145.5\n",
       "355    389.8\n",
       "200    264.4\n",
       "669    163.5\n",
       "561    147.0\n",
       "Name: electricity, dtype: float64"
      ]
     },
     "execution_count": 60,
     "metadata": {},
     "output_type": "execute_result"
    }
   ],
   "source": [
    "y_train.head()"
   ]
  },
  {
   "cell_type": "markdown",
   "id": "df40c250",
   "metadata": {
    "heading_collapsed": true,
    "hidden": true
   },
   "source": [
    "### Distribution Visualization"
   ]
  },
  {
   "cell_type": "code",
   "execution_count": 61,
   "id": "7eb1d1f2",
   "metadata": {
    "hidden": true
   },
   "outputs": [
    {
     "data": {
      "image/png": "[encoded data removed]",
      "text/plain": [
       "<Figure size 432x288 with 1 Axes>"
      ]
     },
     "metadata": {
      "needs_background": "light"
     },
     "output_type": "display_data"
    }
   ],
   "source": [
    "sns.scatterplot(TR_Elec['surface_area'],TR_Elec['electricity'])\n",
    "plt.show()"
   ]
  },
  {
   "cell_type": "code",
   "execution_count": 62,
   "id": "a52a0370",
   "metadata": {
    "hidden": true
   },
   "outputs": [
    {
     "data": {
      "image/png": "[encoded data removed]",
      "text/plain": [
       "<Figure size 432x288 with 1 Axes>"
      ]
     },
     "metadata": {
      "needs_background": "light"
     },
     "output_type": "display_data"
    }
   ],
   "source": [
    "sns.scatterplot(TE_Elec['surface_area'],TE_Elec['electricity'])\n",
    "plt.show()"
   ]
  },
  {
   "cell_type": "markdown",
   "id": "500ef77e",
   "metadata": {
    "heading_collapsed": true,
    "hidden": true
   },
   "source": [
    "## 1차 모델 Testing Error"
   ]
  },
  {
   "cell_type": "code",
   "execution_count": 64,
   "id": "c0391a33",
   "metadata": {
    "hidden": true
   },
   "outputs": [
    {
     "data": {
      "text/plain": [
       "LinearRegression()"
      ]
     },
     "execution_count": 64,
     "metadata": {},
     "output_type": "execute_result"
    }
   ],
   "source": [
    "from sklearn.linear_model import LinearRegression\n",
    "\n",
    "Model_1=LinearRegression()\n",
    "Model_1.fit(X_train,y_train)"
   ]
  },
  {
   "cell_type": "code",
   "execution_count": 65,
   "id": "d24c36c0",
   "metadata": {
    "hidden": true
   },
   "outputs": [
    {
     "data": {
      "text/plain": [
       "(154,)"
      ]
     },
     "execution_count": 65,
     "metadata": {},
     "output_type": "execute_result"
    }
   ],
   "source": [
    "y_hat_1=Model_1.predict(X_test)\n",
    "\n",
    "y_hat_1.shapeape"
   ]
  },
  {
   "cell_type": "code",
   "execution_count": 66,
   "id": "ca32b0c0",
   "metadata": {
    "hidden": true
   },
   "outputs": [
    {
     "data": {
      "text/plain": [
       "6044.17654762927"
      ]
     },
     "execution_count": 66,
     "metadata": {},
     "output_type": "execute_result"
    }
   ],
   "source": [
    "from sklearn.metrics import mean_squared_error\n",
    "\n",
    "TE_Err_1=mean_squared_error(y_test, y_hat_1)\n",
    "TE_Err_1"
   ]
  },
  {
   "cell_type": "markdown",
   "id": "ac10484a",
   "metadata": {
    "heading_collapsed": true,
    "hidden": true
   },
   "source": [
    "## 5차 모델"
   ]
  },
  {
   "cell_type": "code",
   "execution_count": 67,
   "id": "e89ddcc0",
   "metadata": {
    "hidden": true
   },
   "outputs": [],
   "source": [
    "from sklearn.preprocessing import PolynomialFeatures\n",
    "\n",
    "poly=PolynomialFeatures(degree=5, include_bias=False)\n",
    "PX_5_TR=poly.fit_transform(X_train)"
   ]
  },
  {
   "cell_type": "code",
   "execution_count": 70,
   "id": "e6e3ce61",
   "metadata": {
    "hidden": true
   },
   "outputs": [
    {
     "data": {
      "text/plain": [
       "LinearRegression()"
      ]
     },
     "execution_count": 70,
     "metadata": {},
     "output_type": "execute_result"
    }
   ],
   "source": [
    "from sklearn.linear_model import LinearRegression\n",
    "\n",
    "Model_5 = LinearRegression()\n",
    "Model_5.fit(PX_5_TR, y_train)"
   ]
  },
  {
   "cell_type": "code",
   "execution_count": 71,
   "id": "3743b8b0",
   "metadata": {
    "hidden": true
   },
   "outputs": [],
   "source": [
    "PX_5_TE=poly.fit_transform(X_test)\n",
    "\n",
    "y_hat_5=Model_5.predict(PX_5_TE)"
   ]
  },
  {
   "cell_type": "code",
   "execution_count": 72,
   "id": "acbaa316",
   "metadata": {
    "hidden": true
   },
   "outputs": [
    {
     "data": {
      "text/plain": [
       "4330.6053411295"
      ]
     },
     "execution_count": 72,
     "metadata": {},
     "output_type": "execute_result"
    }
   ],
   "source": [
    "from sklearn.metrics import mean_squared_error\n",
    "\n",
    "TE_Err_5=mean_squared_error(y_test, y_hat_5)\n",
    "TE_Err_5"
   ]
  },
  {
   "cell_type": "markdown",
   "id": "5c6d6187",
   "metadata": {
    "heading_collapsed": true,
    "hidden": true
   },
   "source": [
    "## 9차 모델 Testing Error"
   ]
  },
  {
   "cell_type": "code",
   "execution_count": 73,
   "id": "2ebb2bdb",
   "metadata": {
    "hidden": true
   },
   "outputs": [],
   "source": [
    "from sklearn.preprocessing import PolynomialFeatures\n",
    "\n",
    "poly=PolynomialFeatures(degree=9, include_bias=False)\n",
    "PX_9_TR=poly.fit_transform(X_train)"
   ]
  },
  {
   "cell_type": "code",
   "execution_count": 74,
   "id": "b2ce7a5f",
   "metadata": {
    "hidden": true
   },
   "outputs": [
    {
     "data": {
      "text/plain": [
       "LinearRegression()"
      ]
     },
     "execution_count": 74,
     "metadata": {},
     "output_type": "execute_result"
    }
   ],
   "source": [
    "from sklearn.linear_model import LinearRegression\n",
    "\n",
    "Model_9 = LinearRegression()\n",
    "Model_9.fit(PX_9_TR, y_train)"
   ]
  },
  {
   "cell_type": "code",
   "execution_count": 75,
   "id": "9f52055a",
   "metadata": {
    "hidden": true
   },
   "outputs": [],
   "source": [
    "PX_9_TE=poly.fit_transform(X_test)\n",
    "\n",
    "y_hat_9=Model_9.predict(PX_9_TE)"
   ]
  },
  {
   "cell_type": "code",
   "execution_count": 76,
   "id": "2d3e2a7d",
   "metadata": {
    "hidden": true
   },
   "outputs": [
    {
     "data": {
      "text/plain": [
       "4238.689067045865"
      ]
     },
     "execution_count": 76,
     "metadata": {},
     "output_type": "execute_result"
    }
   ],
   "source": [
    "from sklearn.metrics import mean_squared_error\n",
    "\n",
    "TE_Err_9=mean_squared_error(y_test, y_hat_9)\n",
    "TE_Err_9"
   ]
  },
  {
   "cell_type": "markdown",
   "id": "8ac4ae03",
   "metadata": {
    "heading_collapsed": true,
    "hidden": true
   },
   "source": [
    "## 3개 모델 Testing Error 비교"
   ]
  },
  {
   "cell_type": "code",
   "execution_count": 93,
   "id": "c78d874b",
   "metadata": {
    "hidden": true
   },
   "outputs": [
    {
     "name": "stdout",
     "output_type": "stream",
     "text": [
      "1차 모델 :  6044.17654762927\n",
      "5차 모델 :  4330.6053411295\n",
      "9차 모델 :  4238.689067045865\n"
     ]
    }
   ],
   "source": [
    "print('1차 모델 : ',TE_Err_1)\n",
    "print('5차 모델 : ',TE_Err_5)\n",
    "print('9차 모델 : ',TE_Err_9)"
   ]
  },
  {
   "cell_type": "markdown",
   "id": "4700cfdd",
   "metadata": {
    "heading_collapsed": true
   },
   "source": [
    "# Validation Approach"
   ]
  },
  {
   "cell_type": "code",
   "execution_count": 78,
   "id": "20499478",
   "metadata": {
    "hidden": true
   },
   "outputs": [],
   "source": [
    "import pandas as pd"
   ]
  },
  {
   "cell_type": "code",
   "execution_count": 79,
   "id": "29cc32f6",
   "metadata": {
    "hidden": true
   },
   "outputs": [
    {
     "name": "stdout",
     "output_type": "stream",
     "text": [
      "<class 'pandas.core.frame.DataFrame'>\n",
      "RangeIndex: 768 entries, 0 to 767\n",
      "Data columns (total 9 columns):\n",
      " #   Column                     Non-Null Count  Dtype  \n",
      "---  ------                     --------------  -----  \n",
      " 0   compactness                768 non-null    float64\n",
      " 1   surface_area               768 non-null    float64\n",
      " 2   wall_area                  768 non-null    float64\n",
      " 3   roof_area                  768 non-null    float64\n",
      " 4   height                     768 non-null    float64\n",
      " 5   orientation                768 non-null    int64  \n",
      " 6   glazing_area               768 non-null    float64\n",
      " 7   glazing_area_distribution  768 non-null    int64  \n",
      " 8   electricity                768 non-null    float64\n",
      "dtypes: float64(7), int64(2)\n",
      "memory usage: 54.1 KB\n"
     ]
    }
   ],
   "source": [
    "url='https://raw.githubusercontent.com/rusita-ai/pyData/master/Electric.csv'\n",
    "\n",
    "Elec =pd.read_csv(url)\n",
    "Elec.info()"
   ]
  },
  {
   "cell_type": "markdown",
   "id": "fb4cfbcc",
   "metadata": {
    "heading_collapsed": true,
    "hidden": true
   },
   "source": [
    "## train vs. Validation vs. Test"
   ]
  },
  {
   "cell_type": "code",
   "execution_count": 80,
   "id": "848ff3e1",
   "metadata": {
    "hidden": true
   },
   "outputs": [
    {
     "name": "stdout",
     "output_type": "stream",
     "text": [
      "(615, 1) (615,)\n",
      "(153, 1) (153,)\n"
     ]
    }
   ],
   "source": [
    "from sklearn.model_selection import train_test_split\n",
    "\n",
    "X_remain, X_test, y_remain, y_test = train_test_split(Elec[['surface_area']],\n",
    "                                                      Elec['electricity'],\n",
    "                                                      test_size=int(len(Elec)*0.2),\n",
    "                                                      random_state=2045)\n",
    "\n",
    "print(X_remain.shape, y_remain.shape)\n",
    "print(X_test.shape, y_test.shape)"
   ]
  },
  {
   "cell_type": "code",
   "execution_count": 81,
   "id": "3957d3ad",
   "metadata": {
    "hidden": true
   },
   "outputs": [
    {
     "name": "stdout",
     "output_type": "stream",
     "text": [
      "(462, 1) (462,)\n",
      "(153, 1) (153,)\n",
      "(153, 1) (153,)\n"
     ]
    }
   ],
   "source": [
    "X_train,X_valid,y_train,y_valid=train_test_split(X_remain, y_remain,\n",
    "                                                 test_size=int(len(Elec)*0.2),\n",
    "                                                 random_state=2045)\n",
    "print(X_train.shape, y_train.shape)\n",
    "print(X_valid.shape, y_valid.shape)\n",
    "print(X_test.shape, y_test.shape)"
   ]
  },
  {
   "cell_type": "markdown",
   "id": "15b17b81",
   "metadata": {
    "heading_collapsed": true,
    "hidden": true
   },
   "source": [
    "## 5차 모델 Validation Error"
   ]
  },
  {
   "cell_type": "code",
   "execution_count": 82,
   "id": "9980d08f",
   "metadata": {
    "hidden": true
   },
   "outputs": [],
   "source": [
    "from sklearn.preprocessing import PolynomialFeatures\n",
    "\n",
    "poly=PolynomialFeatures(degree=5, include_bias=False)\n",
    "PX_5_TR=poly.fit_transform(X_train)"
   ]
  },
  {
   "cell_type": "code",
   "execution_count": 84,
   "id": "c4ac8e33",
   "metadata": {
    "hidden": true
   },
   "outputs": [
    {
     "data": {
      "text/plain": [
       "LinearRegression()"
      ]
     },
     "execution_count": 84,
     "metadata": {},
     "output_type": "execute_result"
    }
   ],
   "source": [
    "from sklearn.linear_model import LinearRegression\n",
    "\n",
    "Model_5=LinearRegression()\n",
    "Model_5.fit(PX_5_TR,y_train)"
   ]
  },
  {
   "cell_type": "code",
   "execution_count": 85,
   "id": "77b68dfb",
   "metadata": {
    "hidden": true
   },
   "outputs": [],
   "source": [
    "PX_5_VD=poly.fit_transform(X_valid)\n",
    "y_hat_5=Model_5.predict(PX_5_VD)"
   ]
  },
  {
   "cell_type": "code",
   "execution_count": 86,
   "id": "9e52b5f8",
   "metadata": {
    "hidden": true
   },
   "outputs": [
    {
     "data": {
      "text/plain": [
       "4136.418302292916"
      ]
     },
     "execution_count": 86,
     "metadata": {},
     "output_type": "execute_result"
    }
   ],
   "source": [
    "from sklearn.metrics import mean_squared_error\n",
    "\n",
    "MSE_5=mean_squared_error(y_valid,y_hat_5)\n",
    "MSE_5"
   ]
  },
  {
   "cell_type": "markdown",
   "id": "bfc930b4",
   "metadata": {
    "heading_collapsed": true,
    "hidden": true
   },
   "source": [
    "## 9차 모델 Validation Error"
   ]
  },
  {
   "cell_type": "code",
   "execution_count": 87,
   "id": "18226e6b",
   "metadata": {
    "hidden": true
   },
   "outputs": [],
   "source": [
    "from sklearn.preprocessing import PolynomialFeatures\n",
    "\n",
    "poly=PolynomialFeatures(degree=9, include_bias=False)\n",
    "PX_9_TR=poly.fit_transform(X_train)"
   ]
  },
  {
   "cell_type": "code",
   "execution_count": 88,
   "id": "8a97982a",
   "metadata": {
    "hidden": true
   },
   "outputs": [
    {
     "data": {
      "text/plain": [
       "LinearRegression()"
      ]
     },
     "execution_count": 88,
     "metadata": {},
     "output_type": "execute_result"
    }
   ],
   "source": [
    "from sklearn.linear_model import LinearRegression\n",
    "\n",
    "Model_9=LinearRegression()\n",
    "Model_9.fit(PX_9_TR,y_train)"
   ]
  },
  {
   "cell_type": "code",
   "execution_count": 89,
   "id": "07f442b1",
   "metadata": {
    "hidden": true
   },
   "outputs": [],
   "source": [
    "PX_9_VD=poly.fit_transform(X_valid)\n",
    "y_hat_9=Model_9.predict(PX_9_VD)"
   ]
  },
  {
   "cell_type": "code",
   "execution_count": 90,
   "id": "d4715f8a",
   "metadata": {
    "hidden": true
   },
   "outputs": [
    {
     "data": {
      "text/plain": [
       "3955.973312458859"
      ]
     },
     "execution_count": 90,
     "metadata": {},
     "output_type": "execute_result"
    }
   ],
   "source": [
    "from sklearn.metrics import mean_squared_error\n",
    "\n",
    "MSE_9=mean_squared_error(y_valid,y_hat_9)\n",
    "MSE_9"
   ]
  },
  {
   "cell_type": "markdown",
   "id": "f9f1c304",
   "metadata": {
    "hidden": true
   },
   "source": [
    "## 2개 모델 Validation Error 비교"
   ]
  },
  {
   "cell_type": "code",
   "execution_count": 92,
   "id": "e163ea5c",
   "metadata": {
    "hidden": true
   },
   "outputs": [
    {
     "name": "stdout",
     "output_type": "stream",
     "text": [
      "5차 MSE_5 : 4136.418302292916\n",
      "9차 MSE_9 : 3955.973312458859\n"
     ]
    }
   ],
   "source": [
    "print('5차 MSE_5 :',MSE_5)\n",
    "print('9차 MSE_9 :',MSE_9)"
   ]
  },
  {
   "cell_type": "markdown",
   "id": "c06af450",
   "metadata": {
    "hidden": true
   },
   "source": [
    "## 최종 9차 모델을 Test_Data에 적용"
   ]
  },
  {
   "cell_type": "code",
   "execution_count": 96,
   "id": "d62c8f0f",
   "metadata": {
    "hidden": true
   },
   "outputs": [
    {
     "data": {
      "text/plain": [
       "4220.885732091303"
      ]
     },
     "execution_count": 96,
     "metadata": {},
     "output_type": "execute_result"
    }
   ],
   "source": [
    "PX9_TE=poly.fit_transform(X_test)\n",
    "\n",
    "mean_squared_error(y_test,Model_9.predict(PX9_TE))"
   ]
  },
  {
   "cell_type": "markdown",
   "id": "9f69b4f9",
   "metadata": {
    "heading_collapsed": true
   },
   "source": [
    "#The End#"
   ]
  }
 ],
 "metadata": {
  "kernelspec": {
   "display_name": "Python 3",
   "language": "python",
   "name": "python3"
  },
  "language_info": {
   "codemirror_mode": {
    "name": "ipython",
    "version": 3
   },
   "file_extension": ".py",
   "mimetype": "text/x-python",
   "name": "python",
   "nbconvert_exporter": "python",
   "pygments_lexer": "ipython3",
   "version": "3.8.8"
  },
  "toc": {
   "base_numbering": 1,
   "nav_menu": {},
   "number_sections": true,
   "sideBar": true,
   "skip_h1_title": false,
   "title_cell": "Table of Contents",
   "title_sidebar": "Contents",
   "toc_cell": false,
   "toc_position": {},
   "toc_section_display": true,
   "toc_window_display": false
  }
 },
 "nbformat": 4,
 "nbformat_minor": 5
}
