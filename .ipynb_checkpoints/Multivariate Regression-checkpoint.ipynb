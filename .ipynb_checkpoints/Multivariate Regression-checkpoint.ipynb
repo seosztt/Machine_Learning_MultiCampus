{
 "cells": [
  {
   "cell_type": "code",
   "execution_count": 1,
   "id": "d6ce5a6f",
   "metadata": {},
   "outputs": [],
   "source": [
    "import warnings\n",
    "warnings.filterwarnings('ignore')"
   ]
  },
  {
   "cell_type": "code",
   "execution_count": 2,
   "id": "c7b2f7cb",
   "metadata": {},
   "outputs": [
    {
     "name": "stdout",
     "output_type": "stream",
     "text": [
      "<class 'pandas.core.frame.DataFrame'>\n",
      "RangeIndex: 1338 entries, 0 to 1337\n",
      "Data columns (total 7 columns):\n",
      " #   Column    Non-Null Count  Dtype  \n",
      "---  ------    --------------  -----  \n",
      " 0   age       1338 non-null   int64  \n",
      " 1   sex       1338 non-null   object \n",
      " 2   bmi       1338 non-null   float64\n",
      " 3   children  1338 non-null   int64  \n",
      " 4   smoker    1338 non-null   object \n",
      " 5   region    1338 non-null   object \n",
      " 6   expenses  1338 non-null   float64\n",
      "dtypes: float64(2), int64(2), object(3)\n",
      "memory usage: 73.3+ KB\n"
     ]
    }
   ],
   "source": [
    "import pandas as pd\n",
    "\n",
    "url='https://raw.githubusercontent.com/rusita-ai/pyData/master/Insurance.csv'\n",
    "DF=pd.read_csv(url)\n",
    "\n",
    "DF.info()"
   ]
  },
  {
   "cell_type": "code",
   "execution_count": 3,
   "id": "ab1c70ac",
   "metadata": {},
   "outputs": [
    {
     "data": {
      "text/html": [
       "<div>\n",
       "<style scoped>\n",
       "    .dataframe tbody tr th:only-of-type {\n",
       "        vertical-align: middle;\n",
       "    }\n",
       "\n",
       "    .dataframe tbody tr th {\n",
       "        vertical-align: top;\n",
       "    }\n",
       "\n",
       "    .dataframe thead th {\n",
       "        text-align: right;\n",
       "    }\n",
       "</style>\n",
       "<table border=\"1\" class=\"dataframe\">\n",
       "  <thead>\n",
       "    <tr style=\"text-align: right;\">\n",
       "      <th></th>\n",
       "      <th>age</th>\n",
       "      <th>sex</th>\n",
       "      <th>bmi</th>\n",
       "      <th>children</th>\n",
       "      <th>smoker</th>\n",
       "      <th>region</th>\n",
       "      <th>expenses</th>\n",
       "    </tr>\n",
       "  </thead>\n",
       "  <tbody>\n",
       "    <tr>\n",
       "      <th>0</th>\n",
       "      <td>19</td>\n",
       "      <td>female</td>\n",
       "      <td>27.90</td>\n",
       "      <td>0</td>\n",
       "      <td>yes</td>\n",
       "      <td>southwest</td>\n",
       "      <td>16884.9240</td>\n",
       "    </tr>\n",
       "    <tr>\n",
       "      <th>1</th>\n",
       "      <td>18</td>\n",
       "      <td>male</td>\n",
       "      <td>33.77</td>\n",
       "      <td>1</td>\n",
       "      <td>no</td>\n",
       "      <td>southeast</td>\n",
       "      <td>1725.5523</td>\n",
       "    </tr>\n",
       "    <tr>\n",
       "      <th>2</th>\n",
       "      <td>28</td>\n",
       "      <td>male</td>\n",
       "      <td>33.00</td>\n",
       "      <td>3</td>\n",
       "      <td>no</td>\n",
       "      <td>southeast</td>\n",
       "      <td>4449.4620</td>\n",
       "    </tr>\n",
       "  </tbody>\n",
       "</table>\n",
       "</div>"
      ],
      "text/plain": [
       "   age     sex    bmi  children smoker     region    expenses\n",
       "0   19  female  27.90         0    yes  southwest  16884.9240\n",
       "1   18    male  33.77         1     no  southeast   1725.5523\n",
       "2   28    male  33.00         3     no  southeast   4449.4620"
      ]
     },
     "execution_count": 3,
     "metadata": {},
     "output_type": "execute_result"
    }
   ],
   "source": [
    "DF.head(3)"
   ]
  },
  {
   "cell_type": "markdown",
   "id": "7974ba0b",
   "metadata": {},
   "source": [
    "# 탐색적 데이터 분석"
   ]
  },
  {
   "cell_type": "code",
   "execution_count": 4,
   "id": "772afd19",
   "metadata": {},
   "outputs": [],
   "source": [
    "import matplotlib.pyplot as plt\n",
    "import seaborn as sns"
   ]
  },
  {
   "cell_type": "markdown",
   "id": "5db3ab5b",
   "metadata": {},
   "source": [
    "## 전체 의료비 분포"
   ]
  },
  {
   "cell_type": "code",
   "execution_count": 5,
   "id": "a1f7a0be",
   "metadata": {},
   "outputs": [
    {
     "data": {
      "image/png": "[encoded data removed]",
      "text/plain": [
       "<Figure size 648x432 with 1 Axes>"
      ]
     },
     "metadata": {
      "needs_background": "light"
     },
     "output_type": "display_data"
    }
   ],
   "source": [
    "plt.figure(figsize=(9,6))\n",
    "sns.distplot(DF.expenses,\n",
    "             hist=True,\n",
    "             kde=True)\n",
    "plt.show()"
   ]
  },
  {
   "cell_type": "code",
   "execution_count": 6,
   "id": "e1cda3cc",
   "metadata": {},
   "outputs": [
    {
     "data": {
      "image/png": "[encoded data removed]",
      "text/plain": [
       "<Figure size 648x432 with 1 Axes>"
      ]
     },
     "metadata": {
      "needs_background": "light"
     },
     "output_type": "display_data"
    }
   ],
   "source": [
    "plt.figure(figsize=(9,6))\n",
    "sns.boxplot(y='expenses',data=DF)\n",
    "plt.show()"
   ]
  },
  {
   "cell_type": "markdown",
   "id": "723d95eb",
   "metadata": {
    "heading_collapsed": true
   },
   "source": [
    "## 성별 별 의료비 분포"
   ]
  },
  {
   "cell_type": "code",
   "execution_count": 7,
   "id": "8818379b",
   "metadata": {
    "hidden": true
   },
   "outputs": [
    {
     "data": {
      "image/png": "[encoded data removed]",
      "text/plain": [
       "<Figure size 648x432 with 1 Axes>"
      ]
     },
     "metadata": {
      "needs_background": "light"
     },
     "output_type": "display_data"
    }
   ],
   "source": [
    "plt.figure(figsize=(9,6))\n",
    "sns.boxplot(x='sex',y='expenses',data=DF)\n",
    "plt.show()"
   ]
  },
  {
   "cell_type": "code",
   "execution_count": 8,
   "id": "5ff1b3ff",
   "metadata": {
    "hidden": true
   },
   "outputs": [
    {
     "data": {
      "text/plain": [
       "male      676\n",
       "female    662\n",
       "Name: sex, dtype: int64"
      ]
     },
     "execution_count": 8,
     "metadata": {},
     "output_type": "execute_result"
    }
   ],
   "source": [
    "DF.sex.value_counts()"
   ]
  },
  {
   "cell_type": "markdown",
   "id": "f479e816",
   "metadata": {
    "heading_collapsed": true
   },
   "source": [
    "## 자녀수 별 의료비 분포"
   ]
  },
  {
   "cell_type": "code",
   "execution_count": 9,
   "id": "98b9f6d0",
   "metadata": {
    "hidden": true
   },
   "outputs": [
    {
     "data": {
      "image/png": "[encoded data removed]",
      "text/plain": [
       "<Figure size 648x432 with 1 Axes>"
      ]
     },
     "metadata": {
      "needs_background": "light"
     },
     "output_type": "display_data"
    }
   ],
   "source": [
    "plt.figure(figsize=(9,6))\n",
    "sns.boxplot(x='children',y='expenses',data=DF)\n",
    "plt.show()"
   ]
  },
  {
   "cell_type": "code",
   "execution_count": 10,
   "id": "bbb4abb7",
   "metadata": {
    "hidden": true
   },
   "outputs": [
    {
     "data": {
      "text/plain": [
       "0    574\n",
       "1    324\n",
       "2    240\n",
       "3    157\n",
       "4     25\n",
       "5     18\n",
       "Name: children, dtype: int64"
      ]
     },
     "execution_count": 10,
     "metadata": {},
     "output_type": "execute_result"
    }
   ],
   "source": [
    "DF.children.value_counts()"
   ]
  },
  {
   "cell_type": "markdown",
   "id": "3cdba949",
   "metadata": {
    "heading_collapsed": true
   },
   "source": [
    "## 흡연여부 별 의료비 분포"
   ]
  },
  {
   "cell_type": "code",
   "execution_count": 11,
   "id": "e330af6d",
   "metadata": {
    "hidden": true
   },
   "outputs": [
    {
     "data": {
      "image/png": "[encoded data removed]",
      "text/plain": [
       "<Figure size 648x432 with 1 Axes>"
      ]
     },
     "metadata": {
      "needs_background": "light"
     },
     "output_type": "display_data"
    }
   ],
   "source": [
    "plt.figure(figsize=(9,6))\n",
    "sns.boxplot(x='smoker',y='expenses',data=DF)\n",
    "plt.show()"
   ]
  },
  {
   "cell_type": "code",
   "execution_count": 12,
   "id": "623a009f",
   "metadata": {
    "hidden": true
   },
   "outputs": [
    {
     "data": {
      "text/plain": [
       "no     1064\n",
       "yes     274\n",
       "Name: smoker, dtype: int64"
      ]
     },
     "execution_count": 12,
     "metadata": {},
     "output_type": "execute_result"
    }
   ],
   "source": [
    "DF.smoker.value_counts()"
   ]
  },
  {
   "cell_type": "markdown",
   "id": "1ea514b5",
   "metadata": {},
   "source": [
    "## 거주지역 별 의료비 분포"
   ]
  },
  {
   "cell_type": "code",
   "execution_count": 13,
   "id": "3757fe79",
   "metadata": {},
   "outputs": [
    {
     "data": {
      "image/png": "[encoded data removed]",
      "text/plain": [
       "<Figure size 648x432 with 1 Axes>"
      ]
     },
     "metadata": {
      "needs_background": "light"
     },
     "output_type": "display_data"
    }
   ],
   "source": [
    "plt.figure(figsize=(9,6))\n",
    "sns.boxplot(x='region',y='expenses',data=DF)\n",
    "plt.show()"
   ]
  },
  {
   "cell_type": "code",
   "execution_count": 14,
   "id": "f80e0388",
   "metadata": {},
   "outputs": [
    {
     "data": {
      "text/plain": [
       "southeast    364\n",
       "southwest    325\n",
       "northwest    325\n",
       "northeast    324\n",
       "Name: region, dtype: int64"
      ]
     },
     "execution_count": 14,
     "metadata": {},
     "output_type": "execute_result"
    }
   ],
   "source": [
    "DF.region.value_counts()"
   ]
  },
  {
   "cell_type": "markdown",
   "id": "353d6f62",
   "metadata": {},
   "source": [
    "## BMI 분포 및 의료비와의 관계"
   ]
  },
  {
   "cell_type": "code",
   "execution_count": 15,
   "id": "03d40edf",
   "metadata": {},
   "outputs": [
    {
     "data": {
      "image/png": "[encoded data removed]",
      "text/plain": [
       "<Figure size 648x432 with 1 Axes>"
      ]
     },
     "metadata": {
      "needs_background": "light"
     },
     "output_type": "display_data"
    }
   ],
   "source": [
    "plt.figure(figsize=(9,6))\n",
    "sns.distplot(DF.bmi,\n",
    "             hist=True,\n",
    "             kde=True)\n",
    "plt.show()"
   ]
  },
  {
   "cell_type": "code",
   "execution_count": 16,
   "id": "353185bb",
   "metadata": {},
   "outputs": [
    {
     "data": {
      "image/png": "[encoded data removed]",
      "text/plain": [
       "<Figure size 648x432 with 1 Axes>"
      ]
     },
     "metadata": {
      "needs_background": "light"
     },
     "output_type": "display_data"
    }
   ],
   "source": [
    "plt.figure(figsize=(9,6))\n",
    "sns.scatterplot(x=DF.bmi,y=DF.expenses)\n",
    "plt.show()"
   ]
  },
  {
   "cell_type": "markdown",
   "id": "14105b7a",
   "metadata": {},
   "source": [
    "# Modeling - sklearn Package"
   ]
  },
  {
   "cell_type": "markdown",
   "id": "7acd5e47",
   "metadata": {},
   "source": [
    "## integer Encoding"
   ]
  },
  {
   "cell_type": "code",
   "execution_count": 17,
   "id": "a4320873",
   "metadata": {},
   "outputs": [
    {
     "name": "stdout",
     "output_type": "stream",
     "text": [
      "<class 'pandas.core.frame.DataFrame'>\n",
      "RangeIndex: 1338 entries, 0 to 1337\n",
      "Data columns (total 7 columns):\n",
      " #   Column    Non-Null Count  Dtype  \n",
      "---  ------    --------------  -----  \n",
      " 0   age       1338 non-null   int64  \n",
      " 1   sex       1338 non-null   object \n",
      " 2   bmi       1338 non-null   float64\n",
      " 3   children  1338 non-null   int64  \n",
      " 4   smoker    1338 non-null   object \n",
      " 5   region    1338 non-null   object \n",
      " 6   expenses  1338 non-null   float64\n",
      "dtypes: float64(2), int64(2), object(3)\n",
      "memory usage: 73.3+ KB\n"
     ]
    }
   ],
   "source": [
    "DF.info()"
   ]
  },
  {
   "cell_type": "code",
   "execution_count": 18,
   "id": "61b47b18",
   "metadata": {},
   "outputs": [],
   "source": [
    "from sklearn.preprocessing import LabelEncoder\n",
    "\n",
    "encoder1=LabelEncoder()\n",
    "DF['sex']=encoder1.fit_transform(DF.sex)"
   ]
  },
  {
   "cell_type": "code",
   "execution_count": 20,
   "id": "59fd946e",
   "metadata": {},
   "outputs": [],
   "source": [
    "encoder2=LabelEncoder()\n",
    "DF['smoker']=encoder2.fit_transform(DF.smoker)"
   ]
  },
  {
   "cell_type": "code",
   "execution_count": 19,
   "id": "b46fb19c",
   "metadata": {},
   "outputs": [],
   "source": [
    "encoder3=LabelEncoder()\n",
    "DF['region']=encoder3.fit_transform(DF.region)"
   ]
  },
  {
   "cell_type": "code",
   "execution_count": 21,
   "id": "7ea9ad04",
   "metadata": {},
   "outputs": [
    {
     "name": "stdout",
     "output_type": "stream",
     "text": [
      "<class 'pandas.core.frame.DataFrame'>\n",
      "RangeIndex: 1338 entries, 0 to 1337\n",
      "Data columns (total 7 columns):\n",
      " #   Column    Non-Null Count  Dtype  \n",
      "---  ------    --------------  -----  \n",
      " 0   age       1338 non-null   int64  \n",
      " 1   sex       1338 non-null   int32  \n",
      " 2   bmi       1338 non-null   float64\n",
      " 3   children  1338 non-null   int64  \n",
      " 4   smoker    1338 non-null   int32  \n",
      " 5   region    1338 non-null   int32  \n",
      " 6   expenses  1338 non-null   float64\n",
      "dtypes: float64(2), int32(3), int64(2)\n",
      "memory usage: 57.6 KB\n"
     ]
    }
   ],
   "source": [
    "DF.info()"
   ]
  },
  {
   "cell_type": "code",
   "execution_count": 22,
   "id": "9ea54701",
   "metadata": {},
   "outputs": [
    {
     "data": {
      "text/html": [
       "<div>\n",
       "<style scoped>\n",
       "    .dataframe tbody tr th:only-of-type {\n",
       "        vertical-align: middle;\n",
       "    }\n",
       "\n",
       "    .dataframe tbody tr th {\n",
       "        vertical-align: top;\n",
       "    }\n",
       "\n",
       "    .dataframe thead th {\n",
       "        text-align: right;\n",
       "    }\n",
       "</style>\n",
       "<table border=\"1\" class=\"dataframe\">\n",
       "  <thead>\n",
       "    <tr style=\"text-align: right;\">\n",
       "      <th></th>\n",
       "      <th>age</th>\n",
       "      <th>sex</th>\n",
       "      <th>bmi</th>\n",
       "      <th>children</th>\n",
       "      <th>smoker</th>\n",
       "      <th>region</th>\n",
       "      <th>expenses</th>\n",
       "    </tr>\n",
       "  </thead>\n",
       "  <tbody>\n",
       "    <tr>\n",
       "      <th>0</th>\n",
       "      <td>19</td>\n",
       "      <td>0</td>\n",
       "      <td>27.900</td>\n",
       "      <td>0</td>\n",
       "      <td>1</td>\n",
       "      <td>3</td>\n",
       "      <td>16884.92400</td>\n",
       "    </tr>\n",
       "    <tr>\n",
       "      <th>1</th>\n",
       "      <td>18</td>\n",
       "      <td>1</td>\n",
       "      <td>33.770</td>\n",
       "      <td>1</td>\n",
       "      <td>0</td>\n",
       "      <td>2</td>\n",
       "      <td>1725.55230</td>\n",
       "    </tr>\n",
       "    <tr>\n",
       "      <th>2</th>\n",
       "      <td>28</td>\n",
       "      <td>1</td>\n",
       "      <td>33.000</td>\n",
       "      <td>3</td>\n",
       "      <td>0</td>\n",
       "      <td>2</td>\n",
       "      <td>4449.46200</td>\n",
       "    </tr>\n",
       "    <tr>\n",
       "      <th>3</th>\n",
       "      <td>33</td>\n",
       "      <td>1</td>\n",
       "      <td>22.705</td>\n",
       "      <td>0</td>\n",
       "      <td>0</td>\n",
       "      <td>1</td>\n",
       "      <td>21984.47061</td>\n",
       "    </tr>\n",
       "    <tr>\n",
       "      <th>4</th>\n",
       "      <td>32</td>\n",
       "      <td>1</td>\n",
       "      <td>28.880</td>\n",
       "      <td>0</td>\n",
       "      <td>0</td>\n",
       "      <td>1</td>\n",
       "      <td>3866.85520</td>\n",
       "    </tr>\n",
       "  </tbody>\n",
       "</table>\n",
       "</div>"
      ],
      "text/plain": [
       "   age  sex     bmi  children  smoker  region     expenses\n",
       "0   19    0  27.900         0       1       3  16884.92400\n",
       "1   18    1  33.770         1       0       2   1725.55230\n",
       "2   28    1  33.000         3       0       2   4449.46200\n",
       "3   33    1  22.705         0       0       1  21984.47061\n",
       "4   32    1  28.880         0       0       1   3866.85520"
      ]
     },
     "execution_count": 22,
     "metadata": {},
     "output_type": "execute_result"
    }
   ],
   "source": [
    "DF.head()"
   ]
  },
  {
   "cell_type": "markdown",
   "id": "13f84c12",
   "metadata": {},
   "source": [
    "## Train & Test Array Split(7:3)"
   ]
  },
  {
   "cell_type": "code",
   "execution_count": 23,
   "id": "c81c3445",
   "metadata": {},
   "outputs": [
    {
     "name": "stdout",
     "output_type": "stream",
     "text": [
      "Train Data :  (936, 2) (936,)\n",
      "Test Data :  (402, 2) (402,)\n"
     ]
    }
   ],
   "source": [
    "from sklearn.model_selection import train_test_split\n",
    "\n",
    "X=DF[['age','sex']]\n",
    "y=DF['expenses']\n",
    "\n",
    "X_train, X_test, y_train,y_test=train_test_split(X,y,\n",
    "                                                 test_size=0.3,\n",
    "                                                 random_state=2045)\n",
    "\n",
    "print('Train Data : ',X_train.shape,y_train.shape)\n",
    "print('Test Data : ',X_test.shape,y_test.shape)"
   ]
  },
  {
   "cell_type": "markdown",
   "id": "a8187153",
   "metadata": {},
   "source": [
    "## .fit() "
   ]
  },
  {
   "cell_type": "code",
   "execution_count": 24,
   "id": "dc613beb",
   "metadata": {},
   "outputs": [
    {
     "data": {
      "text/plain": [
       "LinearRegression()"
      ]
     },
     "execution_count": 24,
     "metadata": {},
     "output_type": "execute_result"
    }
   ],
   "source": [
    "from sklearn.linear_model import LinearRegression\n",
    "\n",
    "RA=LinearRegression()\n",
    "RA.fit(X_train,y_train)"
   ]
  },
  {
   "cell_type": "markdown",
   "id": "71396d47",
   "metadata": {},
   "source": [
    "## .predict() "
   ]
  },
  {
   "cell_type": "code",
   "execution_count": 25,
   "id": "b81f4e38",
   "metadata": {},
   "outputs": [],
   "source": [
    "y_hat=RA.predict(X_test)"
   ]
  },
  {
   "cell_type": "markdown",
   "id": "63789b41",
   "metadata": {},
   "source": [
    "## 오차(Error)값 확인"
   ]
  },
  {
   "cell_type": "code",
   "execution_count": 26,
   "id": "4c15197b",
   "metadata": {},
   "outputs": [
    {
     "data": {
      "text/plain": [
       "10633.607635499551"
      ]
     },
     "execution_count": 26,
     "metadata": {},
     "output_type": "execute_result"
    }
   ],
   "source": [
    "from sklearn.metrics import mean_squared_error\n",
    "import numpy as np\n",
    "\n",
    "mse2=mean_squared_error(y_test, y_hat)\n",
    "\n",
    "np.sqrt(mse2)"
   ]
  },
  {
   "cell_type": "markdown",
   "id": "c2e6c7a9",
   "metadata": {},
   "source": [
    "# Modeling - statsmodels Pakage "
   ]
  },
  {
   "cell_type": "code",
   "execution_count": 27,
   "id": "b9e9c5f2",
   "metadata": {},
   "outputs": [
    {
     "name": "stdout",
     "output_type": "stream",
     "text": [
      "<class 'pandas.core.frame.DataFrame'>\n",
      "RangeIndex: 1338 entries, 0 to 1337\n",
      "Data columns (total 7 columns):\n",
      " #   Column    Non-Null Count  Dtype  \n",
      "---  ------    --------------  -----  \n",
      " 0   age       1338 non-null   int64  \n",
      " 1   sex       1338 non-null   object \n",
      " 2   bmi       1338 non-null   float64\n",
      " 3   children  1338 non-null   int64  \n",
      " 4   smoker    1338 non-null   object \n",
      " 5   region    1338 non-null   object \n",
      " 6   expenses  1338 non-null   float64\n",
      "dtypes: float64(2), int64(2), object(3)\n",
      "memory usage: 73.3+ KB\n"
     ]
    }
   ],
   "source": [
    "import pandas as pd\n",
    "\n",
    "url='https://raw.githubusercontent.com/rusita-ai/pyData/master/Insurance.csv'\n",
    "DF=pd.read_csv(url)\n",
    "\n",
    "DF.info()"
   ]
  },
  {
   "cell_type": "markdown",
   "id": "23f678b6",
   "metadata": {},
   "source": [
    "## Data Preprocessing"
   ]
  },
  {
   "cell_type": "code",
   "execution_count": 28,
   "id": "a7877544",
   "metadata": {},
   "outputs": [
    {
     "data": {
      "text/plain": [
       "((936, 7), (402, 7))"
      ]
     },
     "execution_count": 28,
     "metadata": {},
     "output_type": "execute_result"
    }
   ],
   "source": [
    "from sklearn.model_selection import train_test_split\n",
    "\n",
    "train_set, test_set = train_test_split(DF,\n",
    "                                       test_size=0.3,\n",
    "                                       random_state=2045)\n",
    "\n",
    "train_set.shape, test_set.shape"
   ]
  },
  {
   "cell_type": "code",
   "execution_count": 29,
   "id": "7ecaf34a",
   "metadata": {},
   "outputs": [
    {
     "name": "stdout",
     "output_type": "stream",
     "text": [
      "<class 'pandas.core.frame.DataFrame'>\n",
      "Int64Index: 936 entries, 8 to 887\n",
      "Data columns (total 7 columns):\n",
      " #   Column    Non-Null Count  Dtype  \n",
      "---  ------    --------------  -----  \n",
      " 0   age       936 non-null    int64  \n",
      " 1   sex       936 non-null    object \n",
      " 2   bmi       936 non-null    float64\n",
      " 3   children  936 non-null    int64  \n",
      " 4   smoker    936 non-null    object \n",
      " 5   region    936 non-null    object \n",
      " 6   expenses  936 non-null    float64\n",
      "dtypes: float64(2), int64(2), object(3)\n",
      "memory usage: 58.5+ KB\n"
     ]
    }
   ],
   "source": [
    "train_set.info()"
   ]
  },
  {
   "cell_type": "markdown",
   "id": "466b1417",
   "metadata": {},
   "source": [
    "## expenses ~ age + sex "
   ]
  },
  {
   "cell_type": "code",
   "execution_count": 32,
   "id": "2e4a8056",
   "metadata": {},
   "outputs": [],
   "source": [
    "import statsmodels.formula.api as smf\n",
    "\n",
    "Model_1=smf.ols(formula='expenses ~ age + sex',\n",
    "                data=train_set).fit()"
   ]
  },
  {
   "cell_type": "markdown",
   "id": "ff1c9d17",
   "metadata": {},
   "source": [
    "## y_hat 생성"
   ]
  },
  {
   "cell_type": "code",
   "execution_count": 33,
   "id": "77871c29",
   "metadata": {},
   "outputs": [],
   "source": [
    "y_hat_1=Model_1.predict(test_set[['age','sex']])"
   ]
  },
  {
   "cell_type": "markdown",
   "id": "09f88a49",
   "metadata": {},
   "source": [
    "## 오차(Error)값 확인"
   ]
  },
  {
   "cell_type": "code",
   "execution_count": 34,
   "id": "63063bcb",
   "metadata": {},
   "outputs": [
    {
     "data": {
      "text/plain": [
       "10633.607635499555"
      ]
     },
     "execution_count": 34,
     "metadata": {},
     "output_type": "execute_result"
    }
   ],
   "source": [
    "mse1=mean_squared_error(test_set.expenses,y_hat_1)\n",
    "\n",
    "np.sqrt(mse1)"
   ]
  },
  {
   "cell_type": "markdown",
   "id": "33f94322",
   "metadata": {},
   "source": [
    "# Package별 오차값 비교 "
   ]
  },
  {
   "cell_type": "code",
   "execution_count": 36,
   "id": "b25e46da",
   "metadata": {},
   "outputs": [
    {
     "name": "stdout",
     "output_type": "stream",
     "text": [
      "statsmodels :  10633.607635499555\n",
      "sklearn     :  10633.607635499551\n"
     ]
    }
   ],
   "source": [
    "print('statsmodels : ',np.sqrt(mse1))\n",
    "print('sklearn     : ',np.sqrt(mse2))"
   ]
  },
  {
   "cell_type": "markdown",
   "id": "6fbd3599",
   "metadata": {},
   "source": [
    "#The end#"
   ]
  }
 ],
 "metadata": {
  "kernelspec": {
   "display_name": "Python 3",
   "language": "python",
   "name": "python3"
  },
  "language_info": {
   "codemirror_mode": {
    "name": "ipython",
    "version": 3
   },
   "file_extension": ".py",
   "mimetype": "text/x-python",
   "name": "python",
   "nbconvert_exporter": "python",
   "pygments_lexer": "ipython3",
   "version": "3.8.8"
  },
  "toc": {
   "base_numbering": 1,
   "nav_menu": {},
   "number_sections": true,
   "sideBar": true,
   "skip_h1_title": false,
   "title_cell": "Table of Contents",
   "title_sidebar": "Contents",
   "toc_cell": false,
   "toc_position": {},
   "toc_section_display": true,
   "toc_window_display": false
  }
 },
 "nbformat": 4,
 "nbformat_minor": 5
}
