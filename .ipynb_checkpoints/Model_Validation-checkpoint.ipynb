{
 "cells": [
  {
   "cell_type": "markdown",
   "metadata": {
    "heading_collapsed": true,
    "id": "iPHb2AJaAX8g"
   },
   "source": [
    "# Model Validation"
   ]
  },
  {
   "cell_type": "code",
   "execution_count": 74,
   "metadata": {
    "executionInfo": {
     "elapsed": 360,
     "status": "ok",
     "timestamp": 1629787776868,
     "user": {
      "displayName": "이정구",
      "photoUrl": "https://lh3.googleusercontent.com/a-/AOh14Gg2atzeYT6QYFW3pcTDyi6aX0d6dqm_hj4W8fMg=s64",
      "userId": "17400242557229223804"
     },
     "user_tz": -540
    },
    "hidden": true,
    "id": "RbPgODpVzdHI"
   },
   "outputs": [],
   "source": [
    "import warnings\n",
    "warnings.filterwarnings('ignore')"
   ]
  },
  {
   "cell_type": "markdown",
   "metadata": {
    "heading_collapsed": true,
    "id": "tArwfR_UAe0l"
   },
   "source": [
    "# I. Model Capacity"
   ]
  },
  {
   "cell_type": "markdown",
   "metadata": {
    "hidden": true,
    "id": "65ESnpuwAsPB"
   },
   "source": [
    "* import Packages"
   ]
  },
  {
   "cell_type": "code",
   "execution_count": 75,
   "metadata": {
    "executionInfo": {
     "elapsed": 1067,
     "status": "ok",
     "timestamp": 1629787778183,
     "user": {
      "displayName": "이정구",
      "photoUrl": "https://lh3.googleusercontent.com/a-/AOh14Gg2atzeYT6QYFW3pcTDyi6aX0d6dqm_hj4W8fMg=s64",
      "userId": "17400242557229223804"
     },
     "user_tz": -540
    },
    "hidden": true,
    "id": "jXiBZJaO2lJO"
   },
   "outputs": [],
   "source": [
    "import pandas as pd\n",
    "import matplotlib.pyplot as plt\n",
    "import seaborn as sns "
   ]
  },
  {
   "cell_type": "markdown",
   "metadata": {
    "hidden": true,
    "id": "e4wcJB9oCz0V"
   },
   "source": [
    "* pandas DataFrame\n",
    " - 'Electric.csv' From github"
   ]
  },
  {
   "cell_type": "code",
   "execution_count": 76,
   "metadata": {
    "colab": {
     "base_uri": "https://localhost:8080/"
    },
    "executionInfo": {
     "elapsed": 60,
     "status": "ok",
     "timestamp": 1629787778188,
     "user": {
      "displayName": "이정구",
      "photoUrl": "https://lh3.googleusercontent.com/a-/AOh14Gg2atzeYT6QYFW3pcTDyi6aX0d6dqm_hj4W8fMg=s64",
      "userId": "17400242557229223804"
     },
     "user_tz": -540
    },
    "hidden": true,
    "id": "Ekqpr3cN4rsm",
    "outputId": "0b81abe9-a379-46e8-c669-a315013296ba"
   },
   "outputs": [
    {
     "name": "stdout",
     "output_type": "stream",
     "text": [
      "<class 'pandas.core.frame.DataFrame'>\n",
      "RangeIndex: 768 entries, 0 to 767\n",
      "Data columns (total 9 columns):\n",
      " #   Column                     Non-Null Count  Dtype  \n",
      "---  ------                     --------------  -----  \n",
      " 0   compactness                768 non-null    float64\n",
      " 1   surface_area               768 non-null    float64\n",
      " 2   wall_area                  768 non-null    float64\n",
      " 3   roof_area                  768 non-null    float64\n",
      " 4   height                     768 non-null    float64\n",
      " 5   orientation                768 non-null    int64  \n",
      " 6   glazing_area               768 non-null    float64\n",
      " 7   glazing_area_distribution  768 non-null    int64  \n",
      " 8   electricity                768 non-null    float64\n",
      "dtypes: float64(7), int64(2)\n",
      "memory usage: 54.1 KB\n"
     ]
    }
   ],
   "source": [
    "url = 'https://raw.githubusercontent.com/rusita-ai/pyData/master/Electric.csv'\n",
    "\n",
    "Elec = pd.read_csv(url)\n",
    "\n",
    "Elec.info()"
   ]
  },
  {
   "cell_type": "code",
   "execution_count": 77,
   "metadata": {
    "colab": {
     "base_uri": "https://localhost:8080/",
     "height": 203
    },
    "executionInfo": {
     "elapsed": 58,
     "status": "ok",
     "timestamp": 1629787778190,
     "user": {
      "displayName": "이정구",
      "photoUrl": "https://lh3.googleusercontent.com/a-/AOh14Gg2atzeYT6QYFW3pcTDyi6aX0d6dqm_hj4W8fMg=s64",
      "userId": "17400242557229223804"
     },
     "user_tz": -540
    },
    "hidden": true,
    "id": "zHO3uyI6c7ci",
    "outputId": "de008b4f-1ee9-4aba-efe0-79a775cbd4ff"
   },
   "outputs": [
    {
     "data": {
      "text/html": [
       "<div>\n",
       "<style scoped>\n",
       "    .dataframe tbody tr th:only-of-type {\n",
       "        vertical-align: middle;\n",
       "    }\n",
       "\n",
       "    .dataframe tbody tr th {\n",
       "        vertical-align: top;\n",
       "    }\n",
       "\n",
       "    .dataframe thead th {\n",
       "        text-align: right;\n",
       "    }\n",
       "</style>\n",
       "<table border=\"1\" class=\"dataframe\">\n",
       "  <thead>\n",
       "    <tr style=\"text-align: right;\">\n",
       "      <th></th>\n",
       "      <th>compactness</th>\n",
       "      <th>surface_area</th>\n",
       "      <th>wall_area</th>\n",
       "      <th>roof_area</th>\n",
       "      <th>height</th>\n",
       "      <th>orientation</th>\n",
       "      <th>glazing_area</th>\n",
       "      <th>glazing_area_distribution</th>\n",
       "      <th>electricity</th>\n",
       "    </tr>\n",
       "  </thead>\n",
       "  <tbody>\n",
       "    <tr>\n",
       "      <th>0</th>\n",
       "      <td>0.98</td>\n",
       "      <td>514.5</td>\n",
       "      <td>294.0</td>\n",
       "      <td>110.25</td>\n",
       "      <td>7.0</td>\n",
       "      <td>2</td>\n",
       "      <td>0.0</td>\n",
       "      <td>0</td>\n",
       "      <td>155.5</td>\n",
       "    </tr>\n",
       "    <tr>\n",
       "      <th>1</th>\n",
       "      <td>0.98</td>\n",
       "      <td>514.5</td>\n",
       "      <td>294.0</td>\n",
       "      <td>110.25</td>\n",
       "      <td>7.0</td>\n",
       "      <td>3</td>\n",
       "      <td>0.0</td>\n",
       "      <td>0</td>\n",
       "      <td>155.5</td>\n",
       "    </tr>\n",
       "    <tr>\n",
       "      <th>2</th>\n",
       "      <td>0.98</td>\n",
       "      <td>514.5</td>\n",
       "      <td>294.0</td>\n",
       "      <td>110.25</td>\n",
       "      <td>7.0</td>\n",
       "      <td>4</td>\n",
       "      <td>0.0</td>\n",
       "      <td>0</td>\n",
       "      <td>155.5</td>\n",
       "    </tr>\n",
       "    <tr>\n",
       "      <th>3</th>\n",
       "      <td>0.98</td>\n",
       "      <td>514.5</td>\n",
       "      <td>294.0</td>\n",
       "      <td>110.25</td>\n",
       "      <td>7.0</td>\n",
       "      <td>5</td>\n",
       "      <td>0.0</td>\n",
       "      <td>0</td>\n",
       "      <td>155.5</td>\n",
       "    </tr>\n",
       "    <tr>\n",
       "      <th>4</th>\n",
       "      <td>0.90</td>\n",
       "      <td>563.5</td>\n",
       "      <td>318.5</td>\n",
       "      <td>122.50</td>\n",
       "      <td>7.0</td>\n",
       "      <td>2</td>\n",
       "      <td>0.0</td>\n",
       "      <td>0</td>\n",
       "      <td>208.4</td>\n",
       "    </tr>\n",
       "  </tbody>\n",
       "</table>\n",
       "</div>"
      ],
      "text/plain": [
       "   compactness  surface_area  ...  glazing_area_distribution  electricity\n",
       "0         0.98         514.5  ...                          0        155.5\n",
       "1         0.98         514.5  ...                          0        155.5\n",
       "2         0.98         514.5  ...                          0        155.5\n",
       "3         0.98         514.5  ...                          0        155.5\n",
       "4         0.90         563.5  ...                          0        208.4\n",
       "\n",
       "[5 rows x 9 columns]"
      ]
     },
     "execution_count": 77,
     "metadata": {},
     "output_type": "execute_result"
    }
   ],
   "source": [
    "Elec.head()"
   ]
  },
  {
   "cell_type": "markdown",
   "metadata": {
    "hidden": true,
    "id": "F3fzQDmyC375"
   },
   "source": [
    "* 산점도(surface_area vs. electricity)"
   ]
  },
  {
   "cell_type": "code",
   "execution_count": 78,
   "metadata": {
    "colab": {
     "base_uri": "https://localhost:8080/",
     "height": 280
    },
    "executionInfo": {
     "elapsed": 58,
     "status": "ok",
     "timestamp": 1629787778192,
     "user": {
      "displayName": "이정구",
      "photoUrl": "https://lh3.googleusercontent.com/a-/AOh14Gg2atzeYT6QYFW3pcTDyi6aX0d6dqm_hj4W8fMg=s64",
      "userId": "17400242557229223804"
     },
     "user_tz": -540
    },
    "hidden": true,
    "id": "j6szR1Hn8J-G",
    "outputId": "f449e8a2-dd19-4cf1-bf87-f0a4a8d43815"
   },
   "outputs": [
    {
     "data": {
      "image/png": "[encoded data removed]",
      "text/plain": [
       "<Figure size 432x288 with 1 Axes>"
      ]
     },
     "metadata": {
      "needs_background": "light"
     },
     "output_type": "display_data"
    }
   ],
   "source": [
    "sns.scatterplot(Elec['surface_area'], Elec['electricity'])\n",
    "plt.show()"
   ]
  },
  {
   "cell_type": "markdown",
   "metadata": {
    "hidden": true,
    "id": "kJ8RYj2NA5no"
   },
   "source": [
    "> ## 1) 1차 모델 시각화"
   ]
  },
  {
   "cell_type": "code",
   "execution_count": 79,
   "metadata": {
    "colab": {
     "base_uri": "https://localhost:8080/",
     "height": 280
    },
    "executionInfo": {
     "elapsed": 50,
     "status": "ok",
     "timestamp": 1629787778193,
     "user": {
      "displayName": "이정구",
      "photoUrl": "https://lh3.googleusercontent.com/a-/AOh14Gg2atzeYT6QYFW3pcTDyi6aX0d6dqm_hj4W8fMg=s64",
      "userId": "17400242557229223804"
     },
     "user_tz": -540
    },
    "hidden": true,
    "id": "igoaeS4T98-H",
    "outputId": "86a3a06d-fbbf-4334-a317-3b672d3bd61f"
   },
   "outputs": [
    {
     "data": {
      "image/png": "[encoded data removed]",
      "text/plain": [
       "<Figure size 432x288 with 1 Axes>"
      ]
     },
     "metadata": {
      "needs_background": "light"
     },
     "output_type": "display_data"
    }
   ],
   "source": [
    "sns.regplot(x = 'surface_area', y = 'electricity', data = Elec,\n",
    "            line_kws = {'color':'red'},\n",
    "            scatter_kws = {'edgecolor' : 'white'})\n",
    "plt.xlim(505, 820)\n",
    "plt.show()"
   ]
  },
  {
   "cell_type": "markdown",
   "metadata": {
    "hidden": true,
    "id": "WpYGH998A-iy"
   },
   "source": [
    "> ## 2) 2차 모델 시각화"
   ]
  },
  {
   "cell_type": "code",
   "execution_count": 80,
   "metadata": {
    "colab": {
     "base_uri": "https://localhost:8080/",
     "height": 280
    },
    "executionInfo": {
     "elapsed": 444,
     "status": "ok",
     "timestamp": 1629787778589,
     "user": {
      "displayName": "이정구",
      "photoUrl": "https://lh3.googleusercontent.com/a-/AOh14Gg2atzeYT6QYFW3pcTDyi6aX0d6dqm_hj4W8fMg=s64",
      "userId": "17400242557229223804"
     },
     "user_tz": -540
    },
    "hidden": true,
    "id": "td0YCK1E-LCB",
    "outputId": "adefb72a-193a-47fc-8eae-6c0bd8ed46b8"
   },
   "outputs": [
    {
     "data": {
      "image/png": "[encoded data removed]",
      "text/plain": [
       "<Figure size 432x288 with 1 Axes>"
      ]
     },
     "metadata": {
      "needs_background": "light"
     },
     "output_type": "display_data"
    }
   ],
   "source": [
    "sns.regplot(x = 'surface_area', y = 'electricity', data = Elec,\n",
    "            line_kws = {'color':'blue'},\n",
    "            scatter_kws = {'edgecolor' : 'white'},\n",
    "            order = 2)\n",
    "plt.xlim(505, 820)\n",
    "plt.show()"
   ]
  },
  {
   "cell_type": "markdown",
   "metadata": {
    "hidden": true,
    "id": "zOVNpTPZBBO4"
   },
   "source": [
    "> ## 3) 5차 모델 시각화"
   ]
  },
  {
   "cell_type": "code",
   "execution_count": 81,
   "metadata": {
    "colab": {
     "base_uri": "https://localhost:8080/",
     "height": 280
    },
    "executionInfo": {
     "elapsed": 436,
     "status": "ok",
     "timestamp": 1629787779018,
     "user": {
      "displayName": "이정구",
      "photoUrl": "https://lh3.googleusercontent.com/a-/AOh14Gg2atzeYT6QYFW3pcTDyi6aX0d6dqm_hj4W8fMg=s64",
      "userId": "17400242557229223804"
     },
     "user_tz": -540
    },
    "hidden": true,
    "id": "XdeA8qvF-cI5",
    "outputId": "6ac51b21-5dd7-48ff-f39f-a778a921d9d3"
   },
   "outputs": [
    {
     "data": {
      "image/png": "[encoded data removed]",
      "text/plain": [
       "<Figure size 432x288 with 1 Axes>"
      ]
     },
     "metadata": {
      "needs_background": "light"
     },
     "output_type": "display_data"
    }
   ],
   "source": [
    "sns.regplot(x = 'surface_area', y = 'electricity', data = Elec,\n",
    "            line_kws = {'color':'green'},\n",
    "            scatter_kws = {'edgecolor' : 'white'},\n",
    "            order = 5)\n",
    "plt.xlim(505, 820)\n",
    "plt.show()"
   ]
  },
  {
   "cell_type": "markdown",
   "metadata": {
    "hidden": true,
    "id": "mFS4hYVpBEdg"
   },
   "source": [
    "> ## 4) 9차 모델 시각화"
   ]
  },
  {
   "cell_type": "code",
   "execution_count": 82,
   "metadata": {
    "colab": {
     "base_uri": "https://localhost:8080/",
     "height": 284
    },
    "executionInfo": {
     "elapsed": 583,
     "status": "ok",
     "timestamp": 1629787779596,
     "user": {
      "displayName": "이정구",
      "photoUrl": "https://lh3.googleusercontent.com/a-/AOh14Gg2atzeYT6QYFW3pcTDyi6aX0d6dqm_hj4W8fMg=s64",
      "userId": "17400242557229223804"
     },
     "user_tz": -540
    },
    "hidden": true,
    "id": "8CgCMOSo-mDZ",
    "outputId": "0775353b-980b-4032-e146-615be43f2841"
   },
   "outputs": [
    {
     "data": {
      "image/png": "[encoded data removed]",
      "text/plain": [
       "<Figure size 432x288 with 1 Axes>"
      ]
     },
     "metadata": {
      "needs_background": "light"
     },
     "output_type": "display_data"
    }
   ],
   "source": [
    "sns.regplot(x = 'surface_area', y = 'electricity', data = Elec,\n",
    "            line_kws = {'color':'orange'},\n",
    "            scatter_kws = {'edgecolor':'white'},\n",
    "            order = 9)\n",
    "plt.xlim(505, 820)\n",
    "plt.ylim(50, 450)\n",
    "plt.show()"
   ]
  },
  {
   "cell_type": "markdown",
   "metadata": {
    "hidden": true,
    "id": "xFt9_UwbBHBH"
   },
   "source": [
    "> ## 5) 4개 모델 비교 시각화"
   ]
  },
  {
   "cell_type": "code",
   "execution_count": 83,
   "metadata": {
    "colab": {
     "base_uri": "https://localhost:8080/",
     "height": 293
    },
    "executionInfo": {
     "elapsed": 1488,
     "status": "ok",
     "timestamp": 1629787781077,
     "user": {
      "displayName": "이정구",
      "photoUrl": "https://lh3.googleusercontent.com/a-/AOh14Gg2atzeYT6QYFW3pcTDyi6aX0d6dqm_hj4W8fMg=s64",
      "userId": "17400242557229223804"
     },
     "user_tz": -540
    },
    "hidden": true,
    "id": "MfxsY0_Z_LUA",
    "outputId": "6ff2a9e6-dd63-4d58-a331-3da6cc36676e"
   },
   "outputs": [
    {
     "data": {
      "image/png": "[encoded data removed]",
      "text/plain": [
       "<Figure size 432x288 with 1 Axes>"
      ]
     },
     "metadata": {
      "needs_background": "light"
     },
     "output_type": "display_data"
    }
   ],
   "source": [
    "sns.regplot(x = 'surface_area', y = 'electricity', \n",
    "            data = Elec, \n",
    "            line_kws = {'color':'red'})\n",
    "sns.regplot(x = 'surface_area', y = 'electricity', \n",
    "            data = Elec, \n",
    "            line_kws = {'color':'blue'}, order = 2)\n",
    "sns.regplot(x = 'surface_area', y = 'electricity', \n",
    "            data = Elec, \n",
    "            line_kws = {'color':'green'}, order = 5)\n",
    "sns.regplot(x = 'surface_area', y = 'electricity', \n",
    "            data = Elec, \n",
    "            line_kws = {'color':'orange'}, order = 9,\n",
    "            scatter_kws = {'color':'gray', 'edgecolor':'white'})\n",
    "plt.xlim(505, 820)\n",
    "plt.ylim(50, 450)\n",
    "plt.xticks(rotation = 35)\n",
    "plt.yticks(rotation = 90)\n",
    "plt.show()"
   ]
  },
  {
   "cell_type": "markdown",
   "metadata": {
    "heading_collapsed": true,
    "id": "SH8IY3VrrcDE"
   },
   "source": [
    "# II. Training Error\n",
    "* import Packages"
   ]
  },
  {
   "cell_type": "code",
   "execution_count": 84,
   "metadata": {
    "executionInfo": {
     "elapsed": 71,
     "status": "ok",
     "timestamp": 1629787781079,
     "user": {
      "displayName": "이정구",
      "photoUrl": "https://lh3.googleusercontent.com/a-/AOh14Gg2atzeYT6QYFW3pcTDyi6aX0d6dqm_hj4W8fMg=s64",
      "userId": "17400242557229223804"
     },
     "user_tz": -540
    },
    "hidden": true,
    "id": "w9DTQpeora6S"
   },
   "outputs": [],
   "source": [
    "import pandas as pd\n",
    "import numpy as np\n",
    "import matplotlib.pyplot as plt\n",
    "import seaborn as sns "
   ]
  },
  {
   "cell_type": "markdown",
   "metadata": {
    "hidden": true,
    "id": "DsDifuY5y6Qy"
   },
   "source": [
    "* pandas DataFrame\n",
    " - 'Electric.csv' From github"
   ]
  },
  {
   "cell_type": "code",
   "execution_count": 85,
   "metadata": {
    "colab": {
     "base_uri": "https://localhost:8080/"
    },
    "executionInfo": {
     "elapsed": 71,
     "status": "ok",
     "timestamp": 1629787781080,
     "user": {
      "displayName": "이정구",
      "photoUrl": "https://lh3.googleusercontent.com/a-/AOh14Gg2atzeYT6QYFW3pcTDyi6aX0d6dqm_hj4W8fMg=s64",
      "userId": "17400242557229223804"
     },
     "user_tz": -540
    },
    "hidden": true,
    "id": "vsFPHgaRsD0t",
    "outputId": "aad2461d-73f6-406d-c824-f2d436c201e9"
   },
   "outputs": [
    {
     "name": "stdout",
     "output_type": "stream",
     "text": [
      "<class 'pandas.core.frame.DataFrame'>\n",
      "RangeIndex: 768 entries, 0 to 767\n",
      "Data columns (total 9 columns):\n",
      " #   Column                     Non-Null Count  Dtype  \n",
      "---  ------                     --------------  -----  \n",
      " 0   compactness                768 non-null    float64\n",
      " 1   surface_area               768 non-null    float64\n",
      " 2   wall_area                  768 non-null    float64\n",
      " 3   roof_area                  768 non-null    float64\n",
      " 4   height                     768 non-null    float64\n",
      " 5   orientation                768 non-null    int64  \n",
      " 6   glazing_area               768 non-null    float64\n",
      " 7   glazing_area_distribution  768 non-null    int64  \n",
      " 8   electricity                768 non-null    float64\n",
      "dtypes: float64(7), int64(2)\n",
      "memory usage: 54.1 KB\n"
     ]
    }
   ],
   "source": [
    "url = 'https://raw.githubusercontent.com/rusita-ai/pyData/master/Electric.csv'\n",
    "\n",
    "Elec = pd.read_csv(url)\n",
    "\n",
    "Elec.info()"
   ]
  },
  {
   "cell_type": "markdown",
   "metadata": {
    "hidden": true,
    "id": "1rbLYlVEthUP"
   },
   "source": [
    "> ## 1) 1차 모델 Training Error"
   ]
  },
  {
   "cell_type": "markdown",
   "metadata": {
    "hidden": true,
    "id": "stzSlx-LUW1F"
   },
   "source": [
    "* X_train and y_train"
   ]
  },
  {
   "cell_type": "code",
   "execution_count": 86,
   "metadata": {
    "colab": {
     "base_uri": "https://localhost:8080/"
    },
    "executionInfo": {
     "elapsed": 67,
     "status": "ok",
     "timestamp": 1629787781082,
     "user": {
      "displayName": "이정구",
      "photoUrl": "https://lh3.googleusercontent.com/a-/AOh14Gg2atzeYT6QYFW3pcTDyi6aX0d6dqm_hj4W8fMg=s64",
      "userId": "17400242557229223804"
     },
     "user_tz": -540
    },
    "hidden": true,
    "id": "HPAoRjxAUcAH",
    "outputId": "99e9c4bb-1799-4268-ae49-7a63a99fb772"
   },
   "outputs": [
    {
     "data": {
      "text/plain": [
       "((768, 1), (768,))"
      ]
     },
     "execution_count": 86,
     "metadata": {},
     "output_type": "execute_result"
    }
   ],
   "source": [
    "X_train = Elec[['surface_area']]\n",
    "y_train = Elec['electricity']\n",
    "\n",
    "X_train.shape, y_train.shape"
   ]
  },
  {
   "cell_type": "markdown",
   "metadata": {
    "hidden": true,
    "id": "sUwtIJTp7pEi"
   },
   "source": [
    "* 모델 생성"
   ]
  },
  {
   "cell_type": "code",
   "execution_count": 87,
   "metadata": {
    "colab": {
     "base_uri": "https://localhost:8080/"
    },
    "executionInfo": {
     "elapsed": 64,
     "status": "ok",
     "timestamp": 1629787781083,
     "user": {
      "displayName": "이정구",
      "photoUrl": "https://lh3.googleusercontent.com/a-/AOh14Gg2atzeYT6QYFW3pcTDyi6aX0d6dqm_hj4W8fMg=s64",
      "userId": "17400242557229223804"
     },
     "user_tz": -540
    },
    "hidden": true,
    "id": "zE629GWvRyoO",
    "outputId": "1fb7f4d6-f3d0-4072-bd51-43653edb1dff"
   },
   "outputs": [
    {
     "data": {
      "text/plain": [
       "LinearRegression(copy_X=True, fit_intercept=True, n_jobs=None, normalize=False)"
      ]
     },
     "execution_count": 87,
     "metadata": {},
     "output_type": "execute_result"
    }
   ],
   "source": [
    "from sklearn.linear_model import LinearRegression\n",
    "\n",
    "Model_1 = LinearRegression()\n",
    "Model_1.fit(X_train, y_train)"
   ]
  },
  {
   "cell_type": "markdown",
   "metadata": {
    "hidden": true,
    "id": "ZJRQ9Fge4fjJ"
   },
   "source": [
    "* 모델 정보(학습결과) 확인"
   ]
  },
  {
   "cell_type": "code",
   "execution_count": 88,
   "metadata": {
    "colab": {
     "base_uri": "https://localhost:8080/"
    },
    "executionInfo": {
     "elapsed": 60,
     "status": "ok",
     "timestamp": 1629787781083,
     "user": {
      "displayName": "이정구",
      "photoUrl": "https://lh3.googleusercontent.com/a-/AOh14Gg2atzeYT6QYFW3pcTDyi6aX0d6dqm_hj4W8fMg=s64",
      "userId": "17400242557229223804"
     },
     "user_tz": -540
    },
    "hidden": true,
    "id": "714-3Ez4s4GJ",
    "outputId": "e938167a-9f12-48d6-b849-a21c782caf90"
   },
   "outputs": [
    {
     "name": "stdout",
     "output_type": "stream",
     "text": [
      "[-0.7538715749]\n",
      "729.4538243006992\n"
     ]
    }
   ],
   "source": [
    "print(Model_1.coef_)\n",
    "print(Model_1.intercept_)"
   ]
  },
  {
   "cell_type": "markdown",
   "metadata": {
    "hidden": true,
    "id": "jeDCvn9J42QQ"
   },
   "source": [
    "* y_hat(예측값) 생성"
   ]
  },
  {
   "cell_type": "code",
   "execution_count": 89,
   "metadata": {
    "colab": {
     "base_uri": "https://localhost:8080/"
    },
    "executionInfo": {
     "elapsed": 59,
     "status": "ok",
     "timestamp": 1629787781085,
     "user": {
      "displayName": "이정구",
      "photoUrl": "https://lh3.googleusercontent.com/a-/AOh14Gg2atzeYT6QYFW3pcTDyi6aX0d6dqm_hj4W8fMg=s64",
      "userId": "17400242557229223804"
     },
     "user_tz": -540
    },
    "hidden": true,
    "id": "Gr3hfkp1tsi6",
    "outputId": "c7a1ce3c-21c2-45d8-f384-b9e07f43d284"
   },
   "outputs": [
    {
     "data": {
      "text/plain": [
       "768"
      ]
     },
     "execution_count": 89,
     "metadata": {},
     "output_type": "execute_result"
    }
   ],
   "source": [
    "y_hat_1 = Model_1.predict(X_train)\n",
    "\n",
    "len(y_hat_1)"
   ]
  },
  {
   "cell_type": "markdown",
   "metadata": {
    "hidden": true,
    "id": "obRVc_Zm5Iyk"
   },
   "source": [
    "* MSE(Mean Squared Error) 계산"
   ]
  },
  {
   "cell_type": "code",
   "execution_count": 90,
   "metadata": {
    "colab": {
     "base_uri": "https://localhost:8080/"
    },
    "executionInfo": {
     "elapsed": 57,
     "status": "ok",
     "timestamp": 1629787781087,
     "user": {
      "displayName": "이정구",
      "photoUrl": "https://lh3.googleusercontent.com/a-/AOh14Gg2atzeYT6QYFW3pcTDyi6aX0d6dqm_hj4W8fMg=s64",
      "userId": "17400242557229223804"
     },
     "user_tz": -540
    },
    "hidden": true,
    "id": "9Kroqv2Pt7CD",
    "outputId": "fdb43ab5-bd4b-406a-d378-dd6e0df4e385"
   },
   "outputs": [
    {
     "data": {
      "text/plain": [
       "5763.983779426347"
      ]
     },
     "execution_count": 90,
     "metadata": {},
     "output_type": "execute_result"
    }
   ],
   "source": [
    "TR_Err_1 = np.mean((y_train - y_hat_1) ** 2)\n",
    "TR_Err_1"
   ]
  },
  {
   "cell_type": "markdown",
   "metadata": {
    "hidden": true,
    "id": "2zejd1I2u7rM"
   },
   "source": [
    "> ## 2) 5차 모델 Training Error\n",
    "\n",
    "* X 다항차수 변환\n",
    " - (768, 1) to (768, 5)"
   ]
  },
  {
   "cell_type": "code",
   "execution_count": 91,
   "metadata": {
    "executionInfo": {
     "elapsed": 54,
     "status": "ok",
     "timestamp": 1629787781087,
     "user": {
      "displayName": "이정구",
      "photoUrl": "https://lh3.googleusercontent.com/a-/AOh14Gg2atzeYT6QYFW3pcTDyi6aX0d6dqm_hj4W8fMg=s64",
      "userId": "17400242557229223804"
     },
     "user_tz": -540
    },
    "hidden": true,
    "id": "lrrVT13WuCcz"
   },
   "outputs": [],
   "source": [
    "from sklearn.preprocessing import PolynomialFeatures\n",
    "\n",
    "poly = PolynomialFeatures(degree = 5, include_bias = False)\n",
    "PX_5 = poly.fit_transform(X_train)"
   ]
  },
  {
   "cell_type": "code",
   "execution_count": 92,
   "metadata": {
    "colab": {
     "base_uri": "https://localhost:8080/"
    },
    "executionInfo": {
     "elapsed": 54,
     "status": "ok",
     "timestamp": 1629787781088,
     "user": {
      "displayName": "이정구",
      "photoUrl": "https://lh3.googleusercontent.com/a-/AOh14Gg2atzeYT6QYFW3pcTDyi6aX0d6dqm_hj4W8fMg=s64",
      "userId": "17400242557229223804"
     },
     "user_tz": -540
    },
    "hidden": true,
    "id": "dLXUAU8K4RtG",
    "outputId": "69681534-7924-4c67-a04a-ac03f5db94f8"
   },
   "outputs": [
    {
     "data": {
      "text/plain": [
       "array([[5.1450000000e+02, 2.6471025000e+05, 1.3619342362e+08,\n",
       "        7.0071516455e+10, 3.6051795216e+13],\n",
       "       [5.1450000000e+02, 2.6471025000e+05, 1.3619342362e+08,\n",
       "        7.0071516455e+10, 3.6051795216e+13],\n",
       "       [5.1450000000e+02, 2.6471025000e+05, 1.3619342362e+08,\n",
       "        7.0071516455e+10, 3.6051795216e+13],\n",
       "       ...,\n",
       "       [8.0850000000e+02, 6.5367225000e+05, 5.2849401412e+08,\n",
       "        4.2728741042e+11, 3.4546187132e+14],\n",
       "       [8.0850000000e+02, 6.5367225000e+05, 5.2849401412e+08,\n",
       "        4.2728741042e+11, 3.4546187132e+14],\n",
       "       [8.0850000000e+02, 6.5367225000e+05, 5.2849401412e+08,\n",
       "        4.2728741042e+11, 3.4546187132e+14]])"
      ]
     },
     "execution_count": 92,
     "metadata": {},
     "output_type": "execute_result"
    }
   ],
   "source": [
    "PX_5"
   ]
  },
  {
   "cell_type": "code",
   "execution_count": 93,
   "metadata": {
    "colab": {
     "base_uri": "https://localhost:8080/"
    },
    "executionInfo": {
     "elapsed": 52,
     "status": "ok",
     "timestamp": 1629787781089,
     "user": {
      "displayName": "이정구",
      "photoUrl": "https://lh3.googleusercontent.com/a-/AOh14Gg2atzeYT6QYFW3pcTDyi6aX0d6dqm_hj4W8fMg=s64",
      "userId": "17400242557229223804"
     },
     "user_tz": -540
    },
    "hidden": true,
    "id": "iaOPRtuf5C3_",
    "outputId": "81da4422-e0d0-446c-92ec-20e1cc1e1f1f"
   },
   "outputs": [
    {
     "data": {
      "text/plain": [
       "((768, 1), (768, 5))"
      ]
     },
     "execution_count": 93,
     "metadata": {},
     "output_type": "execute_result"
    }
   ],
   "source": [
    "X_train.shape, PX_5.shape"
   ]
  },
  {
   "cell_type": "markdown",
   "metadata": {
    "hidden": true,
    "id": "SI7q5SSi7_0m"
   },
   "source": [
    "* 5차 모델 생성"
   ]
  },
  {
   "cell_type": "code",
   "execution_count": 94,
   "metadata": {
    "colab": {
     "base_uri": "https://localhost:8080/"
    },
    "executionInfo": {
     "elapsed": 49,
     "status": "ok",
     "timestamp": 1629787781090,
     "user": {
      "displayName": "이정구",
      "photoUrl": "https://lh3.googleusercontent.com/a-/AOh14Gg2atzeYT6QYFW3pcTDyi6aX0d6dqm_hj4W8fMg=s64",
      "userId": "17400242557229223804"
     },
     "user_tz": -540
    },
    "hidden": true,
    "id": "DIf0vGGoWr-E",
    "outputId": "9153b352-5dfa-4232-a52e-75203f6b6f4c"
   },
   "outputs": [
    {
     "data": {
      "text/plain": [
       "LinearRegression(copy_X=True, fit_intercept=True, n_jobs=None, normalize=False)"
      ]
     },
     "execution_count": 94,
     "metadata": {},
     "output_type": "execute_result"
    }
   ],
   "source": [
    "from sklearn.linear_model import LinearRegression\n",
    "\n",
    "Model_5 = LinearRegression()\n",
    "Model_5.fit(PX_5, y_train)"
   ]
  },
  {
   "cell_type": "markdown",
   "metadata": {
    "hidden": true,
    "id": "kJQMaIAW8DRW"
   },
   "source": [
    "* 모델 정보(학습결과) 확인"
   ]
  },
  {
   "cell_type": "code",
   "execution_count": 95,
   "metadata": {
    "colab": {
     "base_uri": "https://localhost:8080/"
    },
    "executionInfo": {
     "elapsed": 48,
     "status": "ok",
     "timestamp": 1629787781093,
     "user": {
      "displayName": "이정구",
      "photoUrl": "https://lh3.googleusercontent.com/a-/AOh14Gg2atzeYT6QYFW3pcTDyi6aX0d6dqm_hj4W8fMg=s64",
      "userId": "17400242557229223804"
     },
     "user_tz": -540
    },
    "hidden": true,
    "id": "qM_8YWy2vsRX",
    "outputId": "b6507a88-77c9-4712-d8a5-a3c67498a1ef"
   },
   "outputs": [
    {
     "name": "stdout",
     "output_type": "stream",
     "text": [
      "[-0.0003155148 -0.1029296835  0.0003787616 -0.0000005032  0.0000000002]\n",
      "2906.221625380881\n"
     ]
    }
   ],
   "source": [
    "np.set_printoptions(suppress = True, precision = 10)\n",
    "\n",
    "print(Model_5.coef_)\n",
    "print(Model_5.intercept_)"
   ]
  },
  {
   "cell_type": "markdown",
   "metadata": {
    "hidden": true,
    "id": "aHBLWqGM8HST"
   },
   "source": [
    "* y_hat(예측값) 생성"
   ]
  },
  {
   "cell_type": "code",
   "execution_count": 96,
   "metadata": {
    "colab": {
     "base_uri": "https://localhost:8080/"
    },
    "executionInfo": {
     "elapsed": 44,
     "status": "ok",
     "timestamp": 1629787781093,
     "user": {
      "displayName": "이정구",
      "photoUrl": "https://lh3.googleusercontent.com/a-/AOh14Gg2atzeYT6QYFW3pcTDyi6aX0d6dqm_hj4W8fMg=s64",
      "userId": "17400242557229223804"
     },
     "user_tz": -540
    },
    "hidden": true,
    "id": "10mBfjE-vwd3",
    "outputId": "86b3d54b-312b-4a38-f163-5db2f0aa7884"
   },
   "outputs": [
    {
     "data": {
      "text/plain": [
       "(768,)"
      ]
     },
     "execution_count": 96,
     "metadata": {},
     "output_type": "execute_result"
    }
   ],
   "source": [
    "PX_5_pred = poly.fit_transform(X_train)\n",
    "\n",
    "y_hat_5 = Model_5.predict(PX_5_pred)\n",
    "\n",
    "y_hat_5.shape"
   ]
  },
  {
   "cell_type": "markdown",
   "metadata": {
    "hidden": true,
    "id": "70FA9J6I8J6N"
   },
   "source": [
    "* MSE(Mean Squared Error) 계산"
   ]
  },
  {
   "cell_type": "code",
   "execution_count": 97,
   "metadata": {
    "colab": {
     "base_uri": "https://localhost:8080/"
    },
    "executionInfo": {
     "elapsed": 41,
     "status": "ok",
     "timestamp": 1629787781094,
     "user": {
      "displayName": "이정구",
      "photoUrl": "https://lh3.googleusercontent.com/a-/AOh14Gg2atzeYT6QYFW3pcTDyi6aX0d6dqm_hj4W8fMg=s64",
      "userId": "17400242557229223804"
     },
     "user_tz": -540
    },
    "hidden": true,
    "id": "nsMm0k9EwCnf",
    "outputId": "6db06290-20e8-44ad-90c1-9a40494ba4a0"
   },
   "outputs": [
    {
     "data": {
      "text/plain": [
       "4177.726328606075"
      ]
     },
     "execution_count": 97,
     "metadata": {},
     "output_type": "execute_result"
    }
   ],
   "source": [
    "TR_Err_5 = np.mean((y_train - y_hat_5) ** 2)\n",
    "TR_Err_5"
   ]
  },
  {
   "cell_type": "markdown",
   "metadata": {
    "hidden": true,
    "id": "GTzBQPRlwvPS"
   },
   "source": [
    "> ## 3) 9차 모델 Training Error\n",
    "\n",
    "* X 다항차수 변환\n",
    " - (768, 1) to (768, 9)"
   ]
  },
  {
   "cell_type": "code",
   "execution_count": 98,
   "metadata": {
    "executionInfo": {
     "elapsed": 37,
     "status": "ok",
     "timestamp": 1629787781094,
     "user": {
      "displayName": "이정구",
      "photoUrl": "https://lh3.googleusercontent.com/a-/AOh14Gg2atzeYT6QYFW3pcTDyi6aX0d6dqm_hj4W8fMg=s64",
      "userId": "17400242557229223804"
     },
     "user_tz": -540
    },
    "hidden": true,
    "id": "CIScGdXVw1o2"
   },
   "outputs": [],
   "source": [
    "from sklearn.preprocessing import PolynomialFeatures\n",
    "\n",
    "poly = PolynomialFeatures(degree = 9, include_bias = False)\n",
    "PX_9 = poly.fit_transform(X_train)"
   ]
  },
  {
   "cell_type": "code",
   "execution_count": 99,
   "metadata": {
    "colab": {
     "base_uri": "https://localhost:8080/"
    },
    "executionInfo": {
     "elapsed": 37,
     "status": "ok",
     "timestamp": 1629787781095,
     "user": {
      "displayName": "이정구",
      "photoUrl": "https://lh3.googleusercontent.com/a-/AOh14Gg2atzeYT6QYFW3pcTDyi6aX0d6dqm_hj4W8fMg=s64",
      "userId": "17400242557229223804"
     },
     "user_tz": -540
    },
    "hidden": true,
    "id": "bR5LnHES5lwZ",
    "outputId": "090e8c12-db71-461e-dea0-e1fbdb50ac98"
   },
   "outputs": [
    {
     "data": {
      "text/plain": [
       "((768, 1), (768, 9))"
      ]
     },
     "execution_count": 99,
     "metadata": {},
     "output_type": "execute_result"
    }
   ],
   "source": [
    "X_train.shape, PX_9.shape"
   ]
  },
  {
   "cell_type": "markdown",
   "metadata": {
    "hidden": true,
    "id": "kVCozYuE8SGD"
   },
   "source": [
    "* 모델 생성"
   ]
  },
  {
   "cell_type": "code",
   "execution_count": 100,
   "metadata": {
    "colab": {
     "base_uri": "https://localhost:8080/"
    },
    "executionInfo": {
     "elapsed": 34,
     "status": "ok",
     "timestamp": 1629787781095,
     "user": {
      "displayName": "이정구",
      "photoUrl": "https://lh3.googleusercontent.com/a-/AOh14Gg2atzeYT6QYFW3pcTDyi6aX0d6dqm_hj4W8fMg=s64",
      "userId": "17400242557229223804"
     },
     "user_tz": -540
    },
    "hidden": true,
    "id": "t70whAC-xEE7",
    "outputId": "8513909c-7b07-4047-dcc1-fe3079c829c3"
   },
   "outputs": [
    {
     "data": {
      "text/plain": [
       "LinearRegression(copy_X=True, fit_intercept=True, n_jobs=None, normalize=False)"
      ]
     },
     "execution_count": 100,
     "metadata": {},
     "output_type": "execute_result"
    }
   ],
   "source": [
    "from sklearn.linear_model import LinearRegression\n",
    "\n",
    "Model_9 = LinearRegression()\n",
    "Model_9.fit(PX_9, y_train)"
   ]
  },
  {
   "cell_type": "markdown",
   "metadata": {
    "hidden": true,
    "id": "2hwsUpYI8VIZ"
   },
   "source": [
    "* 모델 정보(학습결과) 확인"
   ]
  },
  {
   "cell_type": "code",
   "execution_count": 101,
   "metadata": {
    "colab": {
     "base_uri": "https://localhost:8080/"
    },
    "executionInfo": {
     "elapsed": 31,
     "status": "ok",
     "timestamp": 1629787781096,
     "user": {
      "displayName": "이정구",
      "photoUrl": "https://lh3.googleusercontent.com/a-/AOh14Gg2atzeYT6QYFW3pcTDyi6aX0d6dqm_hj4W8fMg=s64",
      "userId": "17400242557229223804"
     },
     "user_tz": -540
    },
    "hidden": true,
    "id": "z-mGhFLuxKmX",
    "outputId": "6a388635-3f48-4e80-fea3-3804651ceee9"
   },
   "outputs": [
    {
     "name": "stdout",
     "output_type": "stream",
     "text": [
      "[ 0.  0.  0.  0.  0.  0. -0.  0. -0.]\n",
      "-440.08258373871365\n"
     ]
    }
   ],
   "source": [
    "print(Model_9.coef_)\n",
    "print(Model_9.intercept_)"
   ]
  },
  {
   "cell_type": "markdown",
   "metadata": {
    "hidden": true,
    "id": "gQxmNJas8YX4"
   },
   "source": [
    "* y_hat(예측값) 생성"
   ]
  },
  {
   "cell_type": "code",
   "execution_count": 102,
   "metadata": {
    "colab": {
     "base_uri": "https://localhost:8080/"
    },
    "executionInfo": {
     "elapsed": 541,
     "status": "ok",
     "timestamp": 1629787781610,
     "user": {
      "displayName": "이정구",
      "photoUrl": "https://lh3.googleusercontent.com/a-/AOh14Gg2atzeYT6QYFW3pcTDyi6aX0d6dqm_hj4W8fMg=s64",
      "userId": "17400242557229223804"
     },
     "user_tz": -540
    },
    "hidden": true,
    "id": "BfI4gKrWxNYg",
    "outputId": "f54cde2c-c64f-4c9a-9bdc-f347d5f73553"
   },
   "outputs": [
    {
     "data": {
      "text/plain": [
       "(768,)"
      ]
     },
     "execution_count": 102,
     "metadata": {},
     "output_type": "execute_result"
    }
   ],
   "source": [
    "PX_9_pred = poly.fit_transform(X_train)\n",
    "\n",
    "y_hat_9 = Model_9.predict(PX_9_pred)\n",
    "\n",
    "y_hat_9.shape"
   ]
  },
  {
   "cell_type": "markdown",
   "metadata": {
    "hidden": true,
    "id": "hS00kqky8avR"
   },
   "source": [
    "* MSE(Mean Squared Error) 계산"
   ]
  },
  {
   "cell_type": "code",
   "execution_count": 103,
   "metadata": {
    "colab": {
     "base_uri": "https://localhost:8080/"
    },
    "executionInfo": {
     "elapsed": 23,
     "status": "ok",
     "timestamp": 1629787781611,
     "user": {
      "displayName": "이정구",
      "photoUrl": "https://lh3.googleusercontent.com/a-/AOh14Gg2atzeYT6QYFW3pcTDyi6aX0d6dqm_hj4W8fMg=s64",
      "userId": "17400242557229223804"
     },
     "user_tz": -540
    },
    "hidden": true,
    "id": "f6juRnbixUR-",
    "outputId": "24d4072c-af0c-4ee8-c18a-dcbc28d3dcb2"
   },
   "outputs": [
    {
     "data": {
      "text/plain": [
       "4086.7199908150374"
      ]
     },
     "execution_count": 103,
     "metadata": {},
     "output_type": "execute_result"
    }
   ],
   "source": [
    "TR_Err_9 = np.mean((y_train - y_hat_9) ** 2)\n",
    "TR_Err_9"
   ]
  },
  {
   "cell_type": "markdown",
   "metadata": {
    "hidden": true,
    "id": "82jcD2nD7U_H"
   },
   "source": [
    "> ## 4) 3개 모델 Training Error 비교"
   ]
  },
  {
   "cell_type": "code",
   "execution_count": 104,
   "metadata": {
    "colab": {
     "base_uri": "https://localhost:8080/"
    },
    "executionInfo": {
     "elapsed": 19,
     "status": "ok",
     "timestamp": 1629787781611,
     "user": {
      "displayName": "이정구",
      "photoUrl": "https://lh3.googleusercontent.com/a-/AOh14Gg2atzeYT6QYFW3pcTDyi6aX0d6dqm_hj4W8fMg=s64",
      "userId": "17400242557229223804"
     },
     "user_tz": -540
    },
    "hidden": true,
    "id": "4uWS5D3K7KUH",
    "outputId": "e12be0f2-03c7-4f81-c352-5ac47c07dba9"
   },
   "outputs": [
    {
     "name": "stdout",
     "output_type": "stream",
     "text": [
      "1차 모델 :  5763.983779426347\n",
      "5차 모델 :  4177.726328606075\n",
      "9차 모델 :  4086.7199908150374\n"
     ]
    }
   ],
   "source": [
    "print('1차 모델 : ', TR_Err_1)\n",
    "print('5차 모델 : ', TR_Err_5)\n",
    "print('9차 모델 : ', TR_Err_9)"
   ]
  },
  {
   "cell_type": "markdown",
   "metadata": {
    "hidden": true,
    "id": "9VeowcVbbbem"
   },
   "source": [
    "> ## 5) 잔차(Residual) 시각화\n",
    "\n",
    "* 1차 모델"
   ]
  },
  {
   "cell_type": "code",
   "execution_count": 105,
   "metadata": {
    "colab": {
     "base_uri": "https://localhost:8080/",
     "height": 284
    },
    "executionInfo": {
     "elapsed": 16,
     "status": "ok",
     "timestamp": 1629787781612,
     "user": {
      "displayName": "이정구",
      "photoUrl": "https://lh3.googleusercontent.com/a-/AOh14Gg2atzeYT6QYFW3pcTDyi6aX0d6dqm_hj4W8fMg=s64",
      "userId": "17400242557229223804"
     },
     "user_tz": -540
    },
    "hidden": true,
    "id": "MKbPBK30ZkaB",
    "outputId": "dbb910a6-01cf-4945-dceb-12a5d807c921"
   },
   "outputs": [
    {
     "data": {
      "image/png": "[encoded data removed]",
      "text/plain": [
       "<Figure size 432x288 with 1 Axes>"
      ]
     },
     "metadata": {
      "needs_background": "light"
     },
     "output_type": "display_data"
    }
   ],
   "source": [
    "sns.residplot(x = 'surface_area', \n",
    "              y = 'electricity', \n",
    "              data = Elec,\n",
    "              order = 1, \n",
    "              scatter_kws={'edgecolor':'white'})\n",
    "plt.ylim(-300, 300)\n",
    "plt.show()"
   ]
  },
  {
   "cell_type": "markdown",
   "metadata": {
    "hidden": true,
    "id": "QXt4FvJZblGf"
   },
   "source": [
    "* 5차 모델"
   ]
  },
  {
   "cell_type": "code",
   "execution_count": 106,
   "metadata": {
    "colab": {
     "base_uri": "https://localhost:8080/",
     "height": 284
    },
    "executionInfo": {
     "elapsed": 15,
     "status": "ok",
     "timestamp": 1629787781613,
     "user": {
      "displayName": "이정구",
      "photoUrl": "https://lh3.googleusercontent.com/a-/AOh14Gg2atzeYT6QYFW3pcTDyi6aX0d6dqm_hj4W8fMg=s64",
      "userId": "17400242557229223804"
     },
     "user_tz": -540
    },
    "hidden": true,
    "id": "D9_kYy3paFZ8",
    "outputId": "803bc2cb-e4b2-4870-e91f-5d7355c8a006"
   },
   "outputs": [
    {
     "data": {
      "image/png": "[encoded data removed]",
      "text/plain": [
       "<Figure size 432x288 with 1 Axes>"
      ]
     },
     "metadata": {
      "needs_background": "light"
     },
     "output_type": "display_data"
    }
   ],
   "source": [
    "sns.residplot(x = 'surface_area', \n",
    "              y = 'electricity', \n",
    "              data = Elec,\n",
    "              order = 5,\n",
    "              scatter_kws={'edgecolor':'white'})\n",
    "plt.ylim(-300, 300)\n",
    "plt.show()"
   ]
  },
  {
   "cell_type": "markdown",
   "metadata": {
    "hidden": true,
    "id": "u4u-ZRwubnU5"
   },
   "source": [
    "* 9차 모델"
   ]
  },
  {
   "cell_type": "code",
   "execution_count": 107,
   "metadata": {
    "colab": {
     "base_uri": "https://localhost:8080/",
     "height": 284
    },
    "executionInfo": {
     "elapsed": 360,
     "status": "ok",
     "timestamp": 1629787781959,
     "user": {
      "displayName": "이정구",
      "photoUrl": "https://lh3.googleusercontent.com/a-/AOh14Gg2atzeYT6QYFW3pcTDyi6aX0d6dqm_hj4W8fMg=s64",
      "userId": "17400242557229223804"
     },
     "user_tz": -540
    },
    "hidden": true,
    "id": "Vlk9qfJgahWG",
    "outputId": "0897518d-567d-4ba3-9acc-cef70710cdd8"
   },
   "outputs": [
    {
     "data": {
      "image/png": "[encoded data removed]",
      "text/plain": [
       "<Figure size 432x288 with 1 Axes>"
      ]
     },
     "metadata": {
      "needs_background": "light"
     },
     "output_type": "display_data"
    }
   ],
   "source": [
    "sns.residplot(x = 'surface_area', \n",
    "              y = 'electricity', \n",
    "              data = Elec,\n",
    "              order = 9,\n",
    "              scatter_kws={'edgecolor':'white'})\n",
    "plt.ylim(-300, 300)\n",
    "plt.show()"
   ]
  },
  {
   "cell_type": "markdown",
   "metadata": {
    "heading_collapsed": true,
    "id": "icAwm4RJx8mr"
   },
   "source": [
    "# III. Testing Error\n",
    "* import Packages"
   ]
  },
  {
   "cell_type": "code",
   "execution_count": 108,
   "metadata": {
    "executionInfo": {
     "elapsed": 38,
     "status": "ok",
     "timestamp": 1629787781960,
     "user": {
      "displayName": "이정구",
      "photoUrl": "https://lh3.googleusercontent.com/a-/AOh14Gg2atzeYT6QYFW3pcTDyi6aX0d6dqm_hj4W8fMg=s64",
      "userId": "17400242557229223804"
     },
     "user_tz": -540
    },
    "hidden": true,
    "id": "gamtF6KHzFDA"
   },
   "outputs": [],
   "source": [
    "import pandas as pd\n",
    "import matplotlib.pyplot as plt\n",
    "import seaborn as sns "
   ]
  },
  {
   "cell_type": "markdown",
   "metadata": {
    "hidden": true,
    "id": "5aqFSinKzODe"
   },
   "source": [
    "* pandas DataFrame\n",
    " - 'Electric.csv' From github"
   ]
  },
  {
   "cell_type": "code",
   "execution_count": 109,
   "metadata": {
    "colab": {
     "base_uri": "https://localhost:8080/"
    },
    "executionInfo": {
     "elapsed": 38,
     "status": "ok",
     "timestamp": 1629787781961,
     "user": {
      "displayName": "이정구",
      "photoUrl": "https://lh3.googleusercontent.com/a-/AOh14Gg2atzeYT6QYFW3pcTDyi6aX0d6dqm_hj4W8fMg=s64",
      "userId": "17400242557229223804"
     },
     "user_tz": -540
    },
    "hidden": true,
    "id": "M-ba67p0zGvN",
    "outputId": "9ab7c087-4c75-4337-e26e-2dc9d36c29d7"
   },
   "outputs": [
    {
     "data": {
      "text/plain": [
       "(768, 9)"
      ]
     },
     "execution_count": 109,
     "metadata": {},
     "output_type": "execute_result"
    }
   ],
   "source": [
    "url = 'https://raw.githubusercontent.com/rusita-ai/pyData/master/Electric.csv'\n",
    "\n",
    "Elec = pd.read_csv(url)\n",
    "\n",
    "Elec.shape"
   ]
  },
  {
   "cell_type": "markdown",
   "metadata": {
    "hidden": true,
    "id": "ftblAl99zSYE"
   },
   "source": [
    "> ## Train_Data vs. Test_Data"
   ]
  },
  {
   "cell_type": "markdown",
   "metadata": {
    "heading_collapsed": true,
    "hidden": true,
    "id": "fzeqK_248443"
   },
   "source": [
    "### (1) DataFrame Split\n",
    "* 8:2 Split(614:154)\n",
    "* 80% Train_DF & 20% Test_DF"
   ]
  },
  {
   "cell_type": "code",
   "execution_count": 110,
   "metadata": {
    "executionInfo": {
     "elapsed": 36,
     "status": "ok",
     "timestamp": 1629787781962,
     "user": {
      "displayName": "이정구",
      "photoUrl": "https://lh3.googleusercontent.com/a-/AOh14Gg2atzeYT6QYFW3pcTDyi6aX0d6dqm_hj4W8fMg=s64",
      "userId": "17400242557229223804"
     },
     "user_tz": -540
    },
    "hidden": true,
    "id": "KM9SDD37zkwC"
   },
   "outputs": [],
   "source": [
    "from sklearn.model_selection import train_test_split\n",
    "\n",
    "TR_Elec, TE_Elec = train_test_split(Elec, test_size = 0.2, \n",
    "                                    random_state = 2045)"
   ]
  },
  {
   "cell_type": "code",
   "execution_count": 111,
   "metadata": {
    "colab": {
     "base_uri": "https://localhost:8080/"
    },
    "executionInfo": {
     "elapsed": 35,
     "status": "ok",
     "timestamp": 1629787781962,
     "user": {
      "displayName": "이정구",
      "photoUrl": "https://lh3.googleusercontent.com/a-/AOh14Gg2atzeYT6QYFW3pcTDyi6aX0d6dqm_hj4W8fMg=s64",
      "userId": "17400242557229223804"
     },
     "user_tz": -540
    },
    "hidden": true,
    "id": "NUE-gofNNGMt",
    "outputId": "d56894d2-ea6c-4009-cf2e-da1e77512a81"
   },
   "outputs": [
    {
     "data": {
      "text/plain": [
       "((614, 9), (154, 9))"
      ]
     },
     "execution_count": 111,
     "metadata": {},
     "output_type": "execute_result"
    }
   ],
   "source": [
    "TR_Elec.shape, TE_Elec.shape"
   ]
  },
  {
   "cell_type": "markdown",
   "metadata": {
    "hidden": true,
    "id": "-ugPjMIW8_7Q"
   },
   "source": [
    "* 80% TR_Elec DataFrame"
   ]
  },
  {
   "cell_type": "code",
   "execution_count": 112,
   "metadata": {
    "colab": {
     "base_uri": "https://localhost:8080/",
     "height": 203
    },
    "executionInfo": {
     "elapsed": 33,
     "status": "ok",
     "timestamp": 1629787781963,
     "user": {
      "displayName": "이정구",
      "photoUrl": "https://lh3.googleusercontent.com/a-/AOh14Gg2atzeYT6QYFW3pcTDyi6aX0d6dqm_hj4W8fMg=s64",
      "userId": "17400242557229223804"
     },
     "user_tz": -540
    },
    "hidden": true,
    "id": "n6jXKKuo0GW5",
    "outputId": "ac7300a7-6382-455e-93d4-dd9c14ad48df"
   },
   "outputs": [
    {
     "data": {
      "text/html": [
       "<div>\n",
       "<style scoped>\n",
       "    .dataframe tbody tr th:only-of-type {\n",
       "        vertical-align: middle;\n",
       "    }\n",
       "\n",
       "    .dataframe tbody tr th {\n",
       "        vertical-align: top;\n",
       "    }\n",
       "\n",
       "    .dataframe thead th {\n",
       "        text-align: right;\n",
       "    }\n",
       "</style>\n",
       "<table border=\"1\" class=\"dataframe\">\n",
       "  <thead>\n",
       "    <tr style=\"text-align: right;\">\n",
       "      <th></th>\n",
       "      <th>compactness</th>\n",
       "      <th>surface_area</th>\n",
       "      <th>wall_area</th>\n",
       "      <th>roof_area</th>\n",
       "      <th>height</th>\n",
       "      <th>orientation</th>\n",
       "      <th>glazing_area</th>\n",
       "      <th>glazing_area_distribution</th>\n",
       "      <th>electricity</th>\n",
       "    </tr>\n",
       "  </thead>\n",
       "  <tbody>\n",
       "    <tr>\n",
       "      <th>555</th>\n",
       "      <td>0.74</td>\n",
       "      <td>686.0</td>\n",
       "      <td>245.0</td>\n",
       "      <td>220.5</td>\n",
       "      <td>3.5</td>\n",
       "      <td>5</td>\n",
       "      <td>0.40</td>\n",
       "      <td>1</td>\n",
       "      <td>145.5</td>\n",
       "    </tr>\n",
       "    <tr>\n",
       "      <th>355</th>\n",
       "      <td>0.79</td>\n",
       "      <td>637.0</td>\n",
       "      <td>343.0</td>\n",
       "      <td>147.0</td>\n",
       "      <td>7.0</td>\n",
       "      <td>5</td>\n",
       "      <td>0.25</td>\n",
       "      <td>2</td>\n",
       "      <td>389.8</td>\n",
       "    </tr>\n",
       "    <tr>\n",
       "      <th>200</th>\n",
       "      <td>0.86</td>\n",
       "      <td>588.0</td>\n",
       "      <td>294.0</td>\n",
       "      <td>147.0</td>\n",
       "      <td>7.0</td>\n",
       "      <td>2</td>\n",
       "      <td>0.10</td>\n",
       "      <td>4</td>\n",
       "      <td>264.4</td>\n",
       "    </tr>\n",
       "    <tr>\n",
       "      <th>669</th>\n",
       "      <td>0.62</td>\n",
       "      <td>808.5</td>\n",
       "      <td>367.5</td>\n",
       "      <td>220.5</td>\n",
       "      <td>3.5</td>\n",
       "      <td>3</td>\n",
       "      <td>0.40</td>\n",
       "      <td>3</td>\n",
       "      <td>163.5</td>\n",
       "    </tr>\n",
       "    <tr>\n",
       "      <th>561</th>\n",
       "      <td>0.69</td>\n",
       "      <td>735.0</td>\n",
       "      <td>294.0</td>\n",
       "      <td>220.5</td>\n",
       "      <td>3.5</td>\n",
       "      <td>3</td>\n",
       "      <td>0.40</td>\n",
       "      <td>1</td>\n",
       "      <td>147.0</td>\n",
       "    </tr>\n",
       "  </tbody>\n",
       "</table>\n",
       "</div>"
      ],
      "text/plain": [
       "     compactness  surface_area  ...  glazing_area_distribution  electricity\n",
       "555         0.74         686.0  ...                          1        145.5\n",
       "355         0.79         637.0  ...                          2        389.8\n",
       "200         0.86         588.0  ...                          4        264.4\n",
       "669         0.62         808.5  ...                          3        163.5\n",
       "561         0.69         735.0  ...                          1        147.0\n",
       "\n",
       "[5 rows x 9 columns]"
      ]
     },
     "execution_count": 112,
     "metadata": {},
     "output_type": "execute_result"
    }
   ],
   "source": [
    "TR_Elec.head()"
   ]
  },
  {
   "cell_type": "markdown",
   "metadata": {
    "hidden": true,
    "id": "rMGdFWFo9Qvp"
   },
   "source": [
    "* 20% TE_Elec DataFrame"
   ]
  },
  {
   "cell_type": "code",
   "execution_count": 113,
   "metadata": {
    "colab": {
     "base_uri": "https://localhost:8080/",
     "height": 203
    },
    "executionInfo": {
     "elapsed": 31,
     "status": "ok",
     "timestamp": 1629787781963,
     "user": {
      "displayName": "이정구",
      "photoUrl": "https://lh3.googleusercontent.com/a-/AOh14Gg2atzeYT6QYFW3pcTDyi6aX0d6dqm_hj4W8fMg=s64",
      "userId": "17400242557229223804"
     },
     "user_tz": -540
    },
    "hidden": true,
    "id": "CDwUJUZA0ZvH",
    "outputId": "4b0b7be1-5066-4286-8a17-6629c5d32a79"
   },
   "outputs": [
    {
     "data": {
      "text/html": [
       "<div>\n",
       "<style scoped>\n",
       "    .dataframe tbody tr th:only-of-type {\n",
       "        vertical-align: middle;\n",
       "    }\n",
       "\n",
       "    .dataframe tbody tr th {\n",
       "        vertical-align: top;\n",
       "    }\n",
       "\n",
       "    .dataframe thead th {\n",
       "        text-align: right;\n",
       "    }\n",
       "</style>\n",
       "<table border=\"1\" class=\"dataframe\">\n",
       "  <thead>\n",
       "    <tr style=\"text-align: right;\">\n",
       "      <th></th>\n",
       "      <th>compactness</th>\n",
       "      <th>surface_area</th>\n",
       "      <th>wall_area</th>\n",
       "      <th>roof_area</th>\n",
       "      <th>height</th>\n",
       "      <th>orientation</th>\n",
       "      <th>glazing_area</th>\n",
       "      <th>glazing_area_distribution</th>\n",
       "      <th>electricity</th>\n",
       "    </tr>\n",
       "  </thead>\n",
       "  <tbody>\n",
       "    <tr>\n",
       "      <th>414</th>\n",
       "      <td>0.71</td>\n",
       "      <td>710.5</td>\n",
       "      <td>269.5</td>\n",
       "      <td>220.50</td>\n",
       "      <td>3.5</td>\n",
       "      <td>4</td>\n",
       "      <td>0.25</td>\n",
       "      <td>3</td>\n",
       "      <td>121.0</td>\n",
       "    </tr>\n",
       "    <tr>\n",
       "      <th>475</th>\n",
       "      <td>0.64</td>\n",
       "      <td>784.0</td>\n",
       "      <td>343.0</td>\n",
       "      <td>220.50</td>\n",
       "      <td>3.5</td>\n",
       "      <td>5</td>\n",
       "      <td>0.25</td>\n",
       "      <td>4</td>\n",
       "      <td>166.2</td>\n",
       "    </tr>\n",
       "    <tr>\n",
       "      <th>511</th>\n",
       "      <td>0.71</td>\n",
       "      <td>710.5</td>\n",
       "      <td>269.5</td>\n",
       "      <td>220.50</td>\n",
       "      <td>3.5</td>\n",
       "      <td>5</td>\n",
       "      <td>0.25</td>\n",
       "      <td>5</td>\n",
       "      <td>122.7</td>\n",
       "    </tr>\n",
       "    <tr>\n",
       "      <th>213</th>\n",
       "      <td>0.76</td>\n",
       "      <td>661.5</td>\n",
       "      <td>416.5</td>\n",
       "      <td>122.50</td>\n",
       "      <td>7.0</td>\n",
       "      <td>3</td>\n",
       "      <td>0.10</td>\n",
       "      <td>4</td>\n",
       "      <td>323.8</td>\n",
       "    </tr>\n",
       "    <tr>\n",
       "      <th>339</th>\n",
       "      <td>0.98</td>\n",
       "      <td>514.5</td>\n",
       "      <td>294.0</td>\n",
       "      <td>110.25</td>\n",
       "      <td>7.0</td>\n",
       "      <td>5</td>\n",
       "      <td>0.25</td>\n",
       "      <td>2</td>\n",
       "      <td>286.0</td>\n",
       "    </tr>\n",
       "  </tbody>\n",
       "</table>\n",
       "</div>"
      ],
      "text/plain": [
       "     compactness  surface_area  ...  glazing_area_distribution  electricity\n",
       "414         0.71         710.5  ...                          3        121.0\n",
       "475         0.64         784.0  ...                          4        166.2\n",
       "511         0.71         710.5  ...                          5        122.7\n",
       "213         0.76         661.5  ...                          4        323.8\n",
       "339         0.98         514.5  ...                          2        286.0\n",
       "\n",
       "[5 rows x 9 columns]"
      ]
     },
     "execution_count": 113,
     "metadata": {},
     "output_type": "execute_result"
    }
   ],
   "source": [
    "TE_Elec.head()"
   ]
  },
  {
   "cell_type": "markdown",
   "metadata": {
    "heading_collapsed": true,
    "hidden": true,
    "id": "V4sA5av7caj_"
   },
   "source": [
    "### (2) Array Split\n",
    "* X_train, X_test & y_train, y_test"
   ]
  },
  {
   "cell_type": "code",
   "execution_count": 114,
   "metadata": {
    "executionInfo": {
     "elapsed": 31,
     "status": "ok",
     "timestamp": 1629787781964,
     "user": {
      "displayName": "이정구",
      "photoUrl": "https://lh3.googleusercontent.com/a-/AOh14Gg2atzeYT6QYFW3pcTDyi6aX0d6dqm_hj4W8fMg=s64",
      "userId": "17400242557229223804"
     },
     "user_tz": -540
    },
    "hidden": true,
    "id": "wiX_onvQb5KE"
   },
   "outputs": [],
   "source": [
    "from sklearn.model_selection import train_test_split\n",
    "\n",
    "X_train, X_test, y_train, y_test = train_test_split(Elec[['surface_area']], \n",
    "                                                    Elec['electricity'], \n",
    "                                                    test_size = 0.2, \n",
    "                                                    random_state = 2045)"
   ]
  },
  {
   "cell_type": "code",
   "execution_count": 115,
   "metadata": {
    "colab": {
     "base_uri": "https://localhost:8080/"
    },
    "executionInfo": {
     "elapsed": 31,
     "status": "ok",
     "timestamp": 1629787781964,
     "user": {
      "displayName": "이정구",
      "photoUrl": "https://lh3.googleusercontent.com/a-/AOh14Gg2atzeYT6QYFW3pcTDyi6aX0d6dqm_hj4W8fMg=s64",
      "userId": "17400242557229223804"
     },
     "user_tz": -540
    },
    "hidden": true,
    "id": "h7zLa-7ZcvBT",
    "outputId": "bb43def3-29d2-4ac3-8e94-a4df669e2273"
   },
   "outputs": [
    {
     "data": {
      "text/plain": [
       "((614, 1), (614,), (154, 1), (154,))"
      ]
     },
     "execution_count": 115,
     "metadata": {},
     "output_type": "execute_result"
    }
   ],
   "source": [
    "X_train.shape, y_train.shape, X_test.shape, y_test.shape "
   ]
  },
  {
   "cell_type": "markdown",
   "metadata": {
    "hidden": true,
    "id": "oB7cj8eadmNH"
   },
   "source": [
    "* 80% X_train Array"
   ]
  },
  {
   "cell_type": "code",
   "execution_count": 116,
   "metadata": {
    "colab": {
     "base_uri": "https://localhost:8080/",
     "height": 203
    },
    "executionInfo": {
     "elapsed": 27,
     "status": "ok",
     "timestamp": 1629787781965,
     "user": {
      "displayName": "이정구",
      "photoUrl": "https://lh3.googleusercontent.com/a-/AOh14Gg2atzeYT6QYFW3pcTDyi6aX0d6dqm_hj4W8fMg=s64",
      "userId": "17400242557229223804"
     },
     "user_tz": -540
    },
    "hidden": true,
    "id": "vtpc9xNddNkn",
    "outputId": "342c1633-596e-4b5b-e432-3738caa46bb2"
   },
   "outputs": [
    {
     "data": {
      "text/html": [
       "<div>\n",
       "<style scoped>\n",
       "    .dataframe tbody tr th:only-of-type {\n",
       "        vertical-align: middle;\n",
       "    }\n",
       "\n",
       "    .dataframe tbody tr th {\n",
       "        vertical-align: top;\n",
       "    }\n",
       "\n",
       "    .dataframe thead th {\n",
       "        text-align: right;\n",
       "    }\n",
       "</style>\n",
       "<table border=\"1\" class=\"dataframe\">\n",
       "  <thead>\n",
       "    <tr style=\"text-align: right;\">\n",
       "      <th></th>\n",
       "      <th>surface_area</th>\n",
       "    </tr>\n",
       "  </thead>\n",
       "  <tbody>\n",
       "    <tr>\n",
       "      <th>555</th>\n",
       "      <td>686.0</td>\n",
       "    </tr>\n",
       "    <tr>\n",
       "      <th>355</th>\n",
       "      <td>637.0</td>\n",
       "    </tr>\n",
       "    <tr>\n",
       "      <th>200</th>\n",
       "      <td>588.0</td>\n",
       "    </tr>\n",
       "    <tr>\n",
       "      <th>669</th>\n",
       "      <td>808.5</td>\n",
       "    </tr>\n",
       "    <tr>\n",
       "      <th>561</th>\n",
       "      <td>735.0</td>\n",
       "    </tr>\n",
       "  </tbody>\n",
       "</table>\n",
       "</div>"
      ],
      "text/plain": [
       "     surface_area\n",
       "555         686.0\n",
       "355         637.0\n",
       "200         588.0\n",
       "669         808.5\n",
       "561         735.0"
      ]
     },
     "execution_count": 116,
     "metadata": {},
     "output_type": "execute_result"
    }
   ],
   "source": [
    "X_train.head()"
   ]
  },
  {
   "cell_type": "markdown",
   "metadata": {
    "hidden": true,
    "id": "DXSs9GkOdsVO"
   },
   "source": [
    "* 80% y_train Array"
   ]
  },
  {
   "cell_type": "code",
   "execution_count": 117,
   "metadata": {
    "colab": {
     "base_uri": "https://localhost:8080/"
    },
    "executionInfo": {
     "elapsed": 25,
     "status": "ok",
     "timestamp": 1629787781965,
     "user": {
      "displayName": "이정구",
      "photoUrl": "https://lh3.googleusercontent.com/a-/AOh14Gg2atzeYT6QYFW3pcTDyi6aX0d6dqm_hj4W8fMg=s64",
      "userId": "17400242557229223804"
     },
     "user_tz": -540
    },
    "hidden": true,
    "id": "-_x-C6-PdctF",
    "outputId": "3f199c11-8883-4820-c7c9-248be10be44a"
   },
   "outputs": [
    {
     "data": {
      "text/plain": [
       "555    145.5\n",
       "355    389.8\n",
       "200    264.4\n",
       "669    163.5\n",
       "561    147.0\n",
       "Name: electricity, dtype: float64"
      ]
     },
     "execution_count": 117,
     "metadata": {},
     "output_type": "execute_result"
    }
   ],
   "source": [
    "y_train.head()"
   ]
  },
  {
   "cell_type": "markdown",
   "metadata": {
    "heading_collapsed": true,
    "hidden": true,
    "id": "hHwxwMcBHyAB"
   },
   "source": [
    "### (3) Distribution Visualization\n",
    "* Train Data"
   ]
  },
  {
   "cell_type": "code",
   "execution_count": 118,
   "metadata": {
    "colab": {
     "base_uri": "https://localhost:8080/",
     "height": 280
    },
    "executionInfo": {
     "elapsed": 23,
     "status": "ok",
     "timestamp": 1629787781966,
     "user": {
      "displayName": "이정구",
      "photoUrl": "https://lh3.googleusercontent.com/a-/AOh14Gg2atzeYT6QYFW3pcTDyi6aX0d6dqm_hj4W8fMg=s64",
      "userId": "17400242557229223804"
     },
     "user_tz": -540
    },
    "hidden": true,
    "id": "2Py89NmeH-ID",
    "outputId": "e43f0f9f-95e6-459f-8472-8ea47a526d49"
   },
   "outputs": [
    {
     "data": {
      "image/png": "[encoded data removed]",
      "text/plain": [
       "<Figure size 432x288 with 1 Axes>"
      ]
     },
     "metadata": {
      "needs_background": "light"
     },
     "output_type": "display_data"
    }
   ],
   "source": [
    "sns.scatterplot(TR_Elec['surface_area'], TR_Elec['electricity'])\n",
    "plt.show()"
   ]
  },
  {
   "cell_type": "markdown",
   "metadata": {
    "hidden": true,
    "id": "HOz7SgP7LIRb"
   },
   "source": [
    "* Test Data"
   ]
  },
  {
   "cell_type": "code",
   "execution_count": 119,
   "metadata": {
    "colab": {
     "base_uri": "https://localhost:8080/",
     "height": 280
    },
    "executionInfo": {
     "elapsed": 563,
     "status": "ok",
     "timestamp": 1629787782508,
     "user": {
      "displayName": "이정구",
      "photoUrl": "https://lh3.googleusercontent.com/a-/AOh14Gg2atzeYT6QYFW3pcTDyi6aX0d6dqm_hj4W8fMg=s64",
      "userId": "17400242557229223804"
     },
     "user_tz": -540
    },
    "hidden": true,
    "id": "Cbu__Ov8IsW-",
    "outputId": "d894067b-0a76-4dd0-fdfd-0329f3d23b8a"
   },
   "outputs": [
    {
     "data": {
      "image/png": "[encoded data removed]",
      "text/plain": [
       "<Figure size 432x288 with 1 Axes>"
      ]
     },
     "metadata": {
      "needs_background": "light"
     },
     "output_type": "display_data"
    }
   ],
   "source": [
    "sns.scatterplot(TE_Elec['surface_area'], TE_Elec['electricity'])\n",
    "plt.show()"
   ]
  },
  {
   "cell_type": "markdown",
   "metadata": {
    "hidden": true,
    "id": "xTmLtl680h_A"
   },
   "source": [
    "> ## 1) 1차 모델 Testing Error"
   ]
  },
  {
   "cell_type": "markdown",
   "metadata": {
    "hidden": true,
    "id": "LxX77A129jvm"
   },
   "source": [
    "* Train_Data로 모델 생성"
   ]
  },
  {
   "cell_type": "code",
   "execution_count": 120,
   "metadata": {
    "colab": {
     "base_uri": "https://localhost:8080/"
    },
    "executionInfo": {
     "elapsed": 87,
     "status": "ok",
     "timestamp": 1629787782510,
     "user": {
      "displayName": "이정구",
      "photoUrl": "https://lh3.googleusercontent.com/a-/AOh14Gg2atzeYT6QYFW3pcTDyi6aX0d6dqm_hj4W8fMg=s64",
      "userId": "17400242557229223804"
     },
     "user_tz": -540
    },
    "hidden": true,
    "id": "dbPXqa4m04Rt",
    "outputId": "e99e2ba8-c769-47cf-9abb-541d654e689e"
   },
   "outputs": [
    {
     "data": {
      "text/plain": [
       "LinearRegression(copy_X=True, fit_intercept=True, n_jobs=None, normalize=False)"
      ]
     },
     "execution_count": 120,
     "metadata": {},
     "output_type": "execute_result"
    }
   ],
   "source": [
    "from sklearn.linear_model import LinearRegression\n",
    "\n",
    "Model_1 = LinearRegression()\n",
    "Model_1.fit(X_train, y_train)"
   ]
  },
  {
   "cell_type": "markdown",
   "metadata": {
    "hidden": true,
    "id": "a6QmqUZ29s66"
   },
   "source": [
    "* Test_Data로 y_hat(예측값) 생성"
   ]
  },
  {
   "cell_type": "code",
   "execution_count": 121,
   "metadata": {
    "colab": {
     "base_uri": "https://localhost:8080/"
    },
    "executionInfo": {
     "elapsed": 80,
     "status": "ok",
     "timestamp": 1629787782511,
     "user": {
      "displayName": "이정구",
      "photoUrl": "https://lh3.googleusercontent.com/a-/AOh14Gg2atzeYT6QYFW3pcTDyi6aX0d6dqm_hj4W8fMg=s64",
      "userId": "17400242557229223804"
     },
     "user_tz": -540
    },
    "hidden": true,
    "id": "HczWyVch1ZkT",
    "outputId": "1acbc03f-7c3d-407b-f6b3-599bd53883d3"
   },
   "outputs": [
    {
     "data": {
      "text/plain": [
       "(154,)"
      ]
     },
     "execution_count": 121,
     "metadata": {},
     "output_type": "execute_result"
    }
   ],
   "source": [
    "y_hat_1 = Model_1.predict(X_test)\n",
    "\n",
    "y_hat_1.shape"
   ]
  },
  {
   "cell_type": "markdown",
   "metadata": {
    "hidden": true,
    "id": "rL05sSmY90_6"
   },
   "source": [
    "* Test_Data로 MSE(Mean Squared Error) 계산"
   ]
  },
  {
   "cell_type": "code",
   "execution_count": 122,
   "metadata": {
    "colab": {
     "base_uri": "https://localhost:8080/"
    },
    "executionInfo": {
     "elapsed": 76,
     "status": "ok",
     "timestamp": 1629787782512,
     "user": {
      "displayName": "이정구",
      "photoUrl": "https://lh3.googleusercontent.com/a-/AOh14Gg2atzeYT6QYFW3pcTDyi6aX0d6dqm_hj4W8fMg=s64",
      "userId": "17400242557229223804"
     },
     "user_tz": -540
    },
    "hidden": true,
    "id": "2XSrsIVQ1sjx",
    "outputId": "eef9b929-2531-4d6e-cf74-4b67ad3422c1"
   },
   "outputs": [
    {
     "data": {
      "text/plain": [
       "6044.176547629271"
      ]
     },
     "execution_count": 122,
     "metadata": {},
     "output_type": "execute_result"
    }
   ],
   "source": [
    "from sklearn.metrics import mean_squared_error\n",
    "\n",
    "TE_Err_1 = mean_squared_error(y_test, y_hat_1)\n",
    "TE_Err_1"
   ]
  },
  {
   "cell_type": "markdown",
   "metadata": {
    "hidden": true,
    "id": "zUTttyqJ0sii"
   },
   "source": [
    "> ## 2) 5차 모델 Testing Error"
   ]
  },
  {
   "cell_type": "markdown",
   "metadata": {
    "hidden": true,
    "id": "WgegP62m-ApK"
   },
   "source": [
    "* Train_Data로 모델 생성"
   ]
  },
  {
   "cell_type": "code",
   "execution_count": 123,
   "metadata": {
    "executionInfo": {
     "elapsed": 73,
     "status": "ok",
     "timestamp": 1629787782513,
     "user": {
      "displayName": "이정구",
      "photoUrl": "https://lh3.googleusercontent.com/a-/AOh14Gg2atzeYT6QYFW3pcTDyi6aX0d6dqm_hj4W8fMg=s64",
      "userId": "17400242557229223804"
     },
     "user_tz": -540
    },
    "hidden": true,
    "id": "07QoopoB2ABJ"
   },
   "outputs": [],
   "source": [
    "from sklearn.preprocessing import PolynomialFeatures\n",
    "\n",
    "poly = PolynomialFeatures(degree = 5, include_bias = False)\n",
    "PX_5_TR = poly.fit_transform(X_train)"
   ]
  },
  {
   "cell_type": "code",
   "execution_count": 124,
   "metadata": {
    "colab": {
     "base_uri": "https://localhost:8080/"
    },
    "executionInfo": {
     "elapsed": 73,
     "status": "ok",
     "timestamp": 1629787782514,
     "user": {
      "displayName": "이정구",
      "photoUrl": "https://lh3.googleusercontent.com/a-/AOh14Gg2atzeYT6QYFW3pcTDyi6aX0d6dqm_hj4W8fMg=s64",
      "userId": "17400242557229223804"
     },
     "user_tz": -540
    },
    "hidden": true,
    "id": "L2gYi_IB2V11",
    "outputId": "c480a358-0f7e-43c2-f95d-2f91a61614be"
   },
   "outputs": [
    {
     "data": {
      "text/plain": [
       "LinearRegression(copy_X=True, fit_intercept=True, n_jobs=None, normalize=False)"
      ]
     },
     "execution_count": 124,
     "metadata": {},
     "output_type": "execute_result"
    }
   ],
   "source": [
    "from sklearn.linear_model import LinearRegression\n",
    "\n",
    "Model_5 = LinearRegression()\n",
    "Model_5.fit(PX_5_TR, y_train)"
   ]
  },
  {
   "cell_type": "markdown",
   "metadata": {
    "hidden": true,
    "id": "N8BZiTXL-D7w"
   },
   "source": [
    "* Test_Data로 y_hat(예측값) 생성"
   ]
  },
  {
   "cell_type": "code",
   "execution_count": 125,
   "metadata": {
    "executionInfo": {
     "elapsed": 70,
     "status": "ok",
     "timestamp": 1629787782517,
     "user": {
      "displayName": "이정구",
      "photoUrl": "https://lh3.googleusercontent.com/a-/AOh14Gg2atzeYT6QYFW3pcTDyi6aX0d6dqm_hj4W8fMg=s64",
      "userId": "17400242557229223804"
     },
     "user_tz": -540
    },
    "hidden": true,
    "id": "s0vWzS2x2mIr"
   },
   "outputs": [],
   "source": [
    "PX_5_TE = poly.fit_transform(X_test)\n",
    "\n",
    "y_hat_5 = Model_5.predict(PX_5_TE)"
   ]
  },
  {
   "cell_type": "markdown",
   "metadata": {
    "hidden": true,
    "id": "1ZkU-TZs-GQZ"
   },
   "source": [
    "* Test_Data로 MSE(Mean Squared Error) 계산"
   ]
  },
  {
   "cell_type": "code",
   "execution_count": 126,
   "metadata": {
    "colab": {
     "base_uri": "https://localhost:8080/"
    },
    "executionInfo": {
     "elapsed": 72,
     "status": "ok",
     "timestamp": 1629787782519,
     "user": {
      "displayName": "이정구",
      "photoUrl": "https://lh3.googleusercontent.com/a-/AOh14Gg2atzeYT6QYFW3pcTDyi6aX0d6dqm_hj4W8fMg=s64",
      "userId": "17400242557229223804"
     },
     "user_tz": -540
    },
    "hidden": true,
    "id": "_hTbryXk2aOR",
    "outputId": "e8cc9ee5-5db2-48da-babe-092bccbf0140"
   },
   "outputs": [
    {
     "data": {
      "text/plain": [
       "4330.604566409499"
      ]
     },
     "execution_count": 126,
     "metadata": {},
     "output_type": "execute_result"
    }
   ],
   "source": [
    "from sklearn.metrics import mean_squared_error\n",
    "\n",
    "TE_Err_5 = mean_squared_error(y_test, y_hat_5)\n",
    "TE_Err_5"
   ]
  },
  {
   "cell_type": "markdown",
   "metadata": {
    "hidden": true,
    "id": "cMNr8jsS0unk"
   },
   "source": [
    "> ## 3) 9차 모델 Testing Error"
   ]
  },
  {
   "cell_type": "markdown",
   "metadata": {
    "hidden": true,
    "id": "kodHOk3T-K0C"
   },
   "source": [
    "* Train_Data로 모델 생성"
   ]
  },
  {
   "cell_type": "code",
   "execution_count": 127,
   "metadata": {
    "executionInfo": {
     "elapsed": 61,
     "status": "ok",
     "timestamp": 1629787782520,
     "user": {
      "displayName": "이정구",
      "photoUrl": "https://lh3.googleusercontent.com/a-/AOh14Gg2atzeYT6QYFW3pcTDyi6aX0d6dqm_hj4W8fMg=s64",
      "userId": "17400242557229223804"
     },
     "user_tz": -540
    },
    "hidden": true,
    "id": "YNnHqIQV3rg0"
   },
   "outputs": [],
   "source": [
    "from sklearn.preprocessing import PolynomialFeatures\n",
    "\n",
    "poly = PolynomialFeatures(degree = 9, include_bias = False)\n",
    "PX_9_TR = poly.fit_transform(X_train)"
   ]
  },
  {
   "cell_type": "code",
   "execution_count": 128,
   "metadata": {
    "colab": {
     "base_uri": "https://localhost:8080/"
    },
    "executionInfo": {
     "elapsed": 59,
     "status": "ok",
     "timestamp": 1629787782521,
     "user": {
      "displayName": "이정구",
      "photoUrl": "https://lh3.googleusercontent.com/a-/AOh14Gg2atzeYT6QYFW3pcTDyi6aX0d6dqm_hj4W8fMg=s64",
      "userId": "17400242557229223804"
     },
     "user_tz": -540
    },
    "hidden": true,
    "id": "y46Q80OD3umm",
    "outputId": "45965bc3-8410-4a2d-b873-dadb95bab54a"
   },
   "outputs": [
    {
     "data": {
      "text/plain": [
       "LinearRegression(copy_X=True, fit_intercept=True, n_jobs=None, normalize=False)"
      ]
     },
     "execution_count": 128,
     "metadata": {},
     "output_type": "execute_result"
    }
   ],
   "source": [
    "from sklearn.linear_model import LinearRegression\n",
    "\n",
    "Model_9 = LinearRegression()\n",
    "Model_9.fit(PX_9_TR, y_train)"
   ]
  },
  {
   "cell_type": "markdown",
   "metadata": {
    "hidden": true,
    "id": "uUE_NC1h-N0j"
   },
   "source": [
    "* Test_Data로 y_hat(예측값) 생성"
   ]
  },
  {
   "cell_type": "code",
   "execution_count": 129,
   "metadata": {
    "executionInfo": {
     "elapsed": 51,
     "status": "ok",
     "timestamp": 1629787782523,
     "user": {
      "displayName": "이정구",
      "photoUrl": "https://lh3.googleusercontent.com/a-/AOh14Gg2atzeYT6QYFW3pcTDyi6aX0d6dqm_hj4W8fMg=s64",
      "userId": "17400242557229223804"
     },
     "user_tz": -540
    },
    "hidden": true,
    "id": "cnx2uDy43zUH"
   },
   "outputs": [],
   "source": [
    "PX_9_TE = poly.fit_transform(X_test)\n",
    "\n",
    "y_hat_9 = Model_9.predict(PX_9_TE)"
   ]
  },
  {
   "cell_type": "markdown",
   "metadata": {
    "hidden": true,
    "id": "fOLJqMah-QtF"
   },
   "source": [
    "* Test_Data로 MSE(Mean Squared Error) 계산"
   ]
  },
  {
   "cell_type": "code",
   "execution_count": 130,
   "metadata": {
    "colab": {
     "base_uri": "https://localhost:8080/"
    },
    "executionInfo": {
     "elapsed": 52,
     "status": "ok",
     "timestamp": 1629787782525,
     "user": {
      "displayName": "이정구",
      "photoUrl": "https://lh3.googleusercontent.com/a-/AOh14Gg2atzeYT6QYFW3pcTDyi6aX0d6dqm_hj4W8fMg=s64",
      "userId": "17400242557229223804"
     },
     "user_tz": -540
    },
    "hidden": true,
    "id": "Q1WX60_Q346t",
    "outputId": "7bf5d245-de60-488f-9e9b-386477561bb2"
   },
   "outputs": [
    {
     "data": {
      "text/plain": [
       "4238.689067137633"
      ]
     },
     "execution_count": 130,
     "metadata": {},
     "output_type": "execute_result"
    }
   ],
   "source": [
    "from sklearn.metrics import mean_squared_error\n",
    "\n",
    "TE_Err_9 = mean_squared_error(y_test, y_hat_9)\n",
    "TE_Err_9"
   ]
  },
  {
   "cell_type": "markdown",
   "metadata": {
    "hidden": true,
    "id": "Pp77Bjdi9Awz"
   },
   "source": [
    "> ## 4) 3개 모델 Testing Error 비교"
   ]
  },
  {
   "cell_type": "code",
   "execution_count": 131,
   "metadata": {
    "colab": {
     "base_uri": "https://localhost:8080/"
    },
    "executionInfo": {
     "elapsed": 49,
     "status": "ok",
     "timestamp": 1629787782526,
     "user": {
      "displayName": "이정구",
      "photoUrl": "https://lh3.googleusercontent.com/a-/AOh14Gg2atzeYT6QYFW3pcTDyi6aX0d6dqm_hj4W8fMg=s64",
      "userId": "17400242557229223804"
     },
     "user_tz": -540
    },
    "hidden": true,
    "id": "ZuM-UxKg9SJQ",
    "outputId": "20700f2b-b7ab-4a78-99e8-4fe1806844d5"
   },
   "outputs": [
    {
     "name": "stdout",
     "output_type": "stream",
     "text": [
      "1차 모델 :  6044.176547629271\n",
      "5차 모델 :  4330.604566409499\n",
      "9차 모델 :  4238.689067137633\n"
     ]
    }
   ],
   "source": [
    "print('1차 모델 : ', TE_Err_1)\n",
    "print('5차 모델 : ', TE_Err_5)\n",
    "print('9차 모델 : ', TE_Err_9)"
   ]
  },
  {
   "cell_type": "markdown",
   "metadata": {
    "heading_collapsed": true,
    "id": "wfw5Kcsd9584"
   },
   "source": [
    "# IV. Validation Approach\n",
    "* import Packages"
   ]
  },
  {
   "cell_type": "code",
   "execution_count": 132,
   "metadata": {
    "executionInfo": {
     "elapsed": 46,
     "status": "ok",
     "timestamp": 1629787782527,
     "user": {
      "displayName": "이정구",
      "photoUrl": "https://lh3.googleusercontent.com/a-/AOh14Gg2atzeYT6QYFW3pcTDyi6aX0d6dqm_hj4W8fMg=s64",
      "userId": "17400242557229223804"
     },
     "user_tz": -540
    },
    "hidden": true,
    "id": "2kfSLXXC_su6"
   },
   "outputs": [],
   "source": [
    "import pandas as pd"
   ]
  },
  {
   "cell_type": "markdown",
   "metadata": {
    "hidden": true,
    "id": "LSadk-D__6G2"
   },
   "source": [
    "* pandas DataFrame"
   ]
  },
  {
   "cell_type": "code",
   "execution_count": 133,
   "metadata": {
    "colab": {
     "base_uri": "https://localhost:8080/"
    },
    "executionInfo": {
     "elapsed": 45,
     "status": "ok",
     "timestamp": 1629787782527,
     "user": {
      "displayName": "이정구",
      "photoUrl": "https://lh3.googleusercontent.com/a-/AOh14Gg2atzeYT6QYFW3pcTDyi6aX0d6dqm_hj4W8fMg=s64",
      "userId": "17400242557229223804"
     },
     "user_tz": -540
    },
    "hidden": true,
    "id": "iKnAHvIK_24y",
    "outputId": "d129fe71-1162-445d-c688-824fd3fcc5fe"
   },
   "outputs": [
    {
     "name": "stdout",
     "output_type": "stream",
     "text": [
      "<class 'pandas.core.frame.DataFrame'>\n",
      "RangeIndex: 768 entries, 0 to 767\n",
      "Data columns (total 9 columns):\n",
      " #   Column                     Non-Null Count  Dtype  \n",
      "---  ------                     --------------  -----  \n",
      " 0   compactness                768 non-null    float64\n",
      " 1   surface_area               768 non-null    float64\n",
      " 2   wall_area                  768 non-null    float64\n",
      " 3   roof_area                  768 non-null    float64\n",
      " 4   height                     768 non-null    float64\n",
      " 5   orientation                768 non-null    int64  \n",
      " 6   glazing_area               768 non-null    float64\n",
      " 7   glazing_area_distribution  768 non-null    int64  \n",
      " 8   electricity                768 non-null    float64\n",
      "dtypes: float64(7), int64(2)\n",
      "memory usage: 54.1 KB\n"
     ]
    }
   ],
   "source": [
    "url = 'https://raw.githubusercontent.com/rusita-ai/pyData/master/Electric.csv'\n",
    "\n",
    "Elec = pd.read_csv(url)\n",
    "\n",
    "Elec.info()"
   ]
  },
  {
   "cell_type": "markdown",
   "metadata": {
    "hidden": true,
    "id": "fZCZ8E5DBNoz"
   },
   "source": [
    "> ## Train vs. Validation vs. Test\n",
    "* 6:2:2 Split(462:153:153)"
   ]
  },
  {
   "cell_type": "markdown",
   "metadata": {
    "hidden": true,
    "id": "grQnlsef--Zs"
   },
   "source": [
    "> ## sklearn Package 사용\n",
    "* train_test_split( )"
   ]
  },
  {
   "cell_type": "markdown",
   "metadata": {
    "hidden": true,
    "id": "SBe7FGHizswg"
   },
   "source": [
    "* 20% Test_Data(153)"
   ]
  },
  {
   "cell_type": "code",
   "execution_count": 134,
   "metadata": {
    "colab": {
     "base_uri": "https://localhost:8080/"
    },
    "executionInfo": {
     "elapsed": 524,
     "status": "ok",
     "timestamp": 1629787783012,
     "user": {
      "displayName": "이정구",
      "photoUrl": "https://lh3.googleusercontent.com/a-/AOh14Gg2atzeYT6QYFW3pcTDyi6aX0d6dqm_hj4W8fMg=s64",
      "userId": "17400242557229223804"
     },
     "user_tz": -540
    },
    "hidden": true,
    "id": "4QMaTBwUAQCb",
    "outputId": "708af89a-e492-467f-8d76-d458aef2944b"
   },
   "outputs": [
    {
     "name": "stdout",
     "output_type": "stream",
     "text": [
      "(615, 1) (615,)\n",
      "(153, 1) (153,)\n"
     ]
    }
   ],
   "source": [
    "from sklearn.model_selection import train_test_split\n",
    "\n",
    "X_remain, X_test, y_remain, y_test = train_test_split(Elec[['surface_area']], \n",
    "                                                      Elec['electricity'], \n",
    "                                                      test_size = int(len(Elec) * 0.2),\n",
    "                                                      random_state = 2045)\n",
    "\n",
    "print(X_remain.shape, y_remain.shape)\n",
    "print(X_test.shape, y_test.shape)"
   ]
  },
  {
   "cell_type": "markdown",
   "metadata": {
    "hidden": true,
    "id": "0SdqqgDezvXS"
   },
   "source": [
    "* 60% Train_Data(462) & 20% Validation_Data(153)"
   ]
  },
  {
   "cell_type": "code",
   "execution_count": 135,
   "metadata": {
    "colab": {
     "base_uri": "https://localhost:8080/"
    },
    "executionInfo": {
     "elapsed": 79,
     "status": "ok",
     "timestamp": 1629787783012,
     "user": {
      "displayName": "이정구",
      "photoUrl": "https://lh3.googleusercontent.com/a-/AOh14Gg2atzeYT6QYFW3pcTDyi6aX0d6dqm_hj4W8fMg=s64",
      "userId": "17400242557229223804"
     },
     "user_tz": -540
    },
    "hidden": true,
    "id": "yep6NPnMBxJG",
    "outputId": "a738c25c-84c1-4ee0-b1f7-e6102656b661"
   },
   "outputs": [
    {
     "name": "stdout",
     "output_type": "stream",
     "text": [
      "(462, 1) (462,)\n",
      "(153, 1) (153,)\n",
      "(153, 1) (153,)\n"
     ]
    }
   ],
   "source": [
    "X_train, X_valid, y_train, y_valid = train_test_split(X_remain, y_remain, \n",
    "                                                      test_size = int(len(Elec) * 0.2), \n",
    "                                                      random_state = 2045)\n",
    "\n",
    "print(X_train.shape, y_train.shape)\n",
    "print(X_valid.shape, y_valid.shape)\n",
    "print(X_test.shape, y_test.shape)"
   ]
  },
  {
   "cell_type": "markdown",
   "metadata": {
    "hidden": true,
    "id": "tx1S_WzJCb2k"
   },
   "source": [
    "> ## 1) 5차 모델 Validation Error"
   ]
  },
  {
   "cell_type": "markdown",
   "metadata": {
    "hidden": true,
    "id": "fzYImusB_-rP"
   },
   "source": [
    "* Train_Data로 모델 생성"
   ]
  },
  {
   "cell_type": "code",
   "execution_count": 136,
   "metadata": {
    "executionInfo": {
     "elapsed": 78,
     "status": "ok",
     "timestamp": 1629787783013,
     "user": {
      "displayName": "이정구",
      "photoUrl": "https://lh3.googleusercontent.com/a-/AOh14Gg2atzeYT6QYFW3pcTDyi6aX0d6dqm_hj4W8fMg=s64",
      "userId": "17400242557229223804"
     },
     "user_tz": -540
    },
    "hidden": true,
    "id": "6VSaJgoeI4xn"
   },
   "outputs": [],
   "source": [
    "from sklearn.preprocessing import PolynomialFeatures\n",
    "\n",
    "poly = PolynomialFeatures(degree = 5, include_bias = False)\n",
    "PX_5_TR = poly.fit_transform(X_train)"
   ]
  },
  {
   "cell_type": "code",
   "execution_count": 137,
   "metadata": {
    "colab": {
     "base_uri": "https://localhost:8080/"
    },
    "executionInfo": {
     "elapsed": 74,
     "status": "ok",
     "timestamp": 1629787783014,
     "user": {
      "displayName": "이정구",
      "photoUrl": "https://lh3.googleusercontent.com/a-/AOh14Gg2atzeYT6QYFW3pcTDyi6aX0d6dqm_hj4W8fMg=s64",
      "userId": "17400242557229223804"
     },
     "user_tz": -540
    },
    "hidden": true,
    "id": "2jI4U309DyiU",
    "outputId": "9155e097-acb6-4910-9470-b9322cce8eb0"
   },
   "outputs": [
    {
     "data": {
      "text/plain": [
       "LinearRegression(copy_X=True, fit_intercept=True, n_jobs=None, normalize=False)"
      ]
     },
     "execution_count": 137,
     "metadata": {},
     "output_type": "execute_result"
    }
   ],
   "source": [
    "from sklearn.linear_model import LinearRegression\n",
    "\n",
    "Model_5 = LinearRegression()\n",
    "Model_5.fit(PX_5_TR, y_train)"
   ]
  },
  {
   "cell_type": "markdown",
   "metadata": {
    "hidden": true,
    "id": "eADTY5MVAAZn"
   },
   "source": [
    "* Validation_Data로 y_hat(예측값) 생성 및 MSE 계산"
   ]
  },
  {
   "cell_type": "code",
   "execution_count": 138,
   "metadata": {
    "executionInfo": {
     "elapsed": 51,
     "status": "ok",
     "timestamp": 1629787783014,
     "user": {
      "displayName": "이정구",
      "photoUrl": "https://lh3.googleusercontent.com/a-/AOh14Gg2atzeYT6QYFW3pcTDyi6aX0d6dqm_hj4W8fMg=s64",
      "userId": "17400242557229223804"
     },
     "user_tz": -540
    },
    "hidden": true,
    "id": "eWvNogUVJFYS"
   },
   "outputs": [],
   "source": [
    "PX_5_VD = poly.fit_transform(X_valid)\n",
    "\n",
    "y_hat_5 = Model_5.predict(PX_5_VD)"
   ]
  },
  {
   "cell_type": "code",
   "execution_count": 139,
   "metadata": {
    "colab": {
     "base_uri": "https://localhost:8080/"
    },
    "executionInfo": {
     "elapsed": 49,
     "status": "ok",
     "timestamp": 1629787783014,
     "user": {
      "displayName": "이정구",
      "photoUrl": "https://lh3.googleusercontent.com/a-/AOh14Gg2atzeYT6QYFW3pcTDyi6aX0d6dqm_hj4W8fMg=s64",
      "userId": "17400242557229223804"
     },
     "user_tz": -540
    },
    "hidden": true,
    "id": "9crzE4F0D71w",
    "outputId": "26b03cb8-a794-40a7-9fad-acbdbbe2de15"
   },
   "outputs": [
    {
     "data": {
      "text/plain": [
       "4136.4312593408395"
      ]
     },
     "execution_count": 139,
     "metadata": {},
     "output_type": "execute_result"
    }
   ],
   "source": [
    "from sklearn.metrics import mean_squared_error\n",
    "\n",
    "MSE_5 = mean_squared_error(y_valid, y_hat_5)\n",
    "MSE_5"
   ]
  },
  {
   "cell_type": "markdown",
   "metadata": {
    "hidden": true,
    "id": "YM1oz3Y_DA0_"
   },
   "source": [
    "> ## 2) 9차 모델 Validation Error"
   ]
  },
  {
   "cell_type": "markdown",
   "metadata": {
    "hidden": true,
    "id": "gCfldW53AOtk"
   },
   "source": [
    "* Train_Data로 모델 생성"
   ]
  },
  {
   "cell_type": "code",
   "execution_count": 140,
   "metadata": {
    "executionInfo": {
     "elapsed": 45,
     "status": "ok",
     "timestamp": 1629787783015,
     "user": {
      "displayName": "이정구",
      "photoUrl": "https://lh3.googleusercontent.com/a-/AOh14Gg2atzeYT6QYFW3pcTDyi6aX0d6dqm_hj4W8fMg=s64",
      "userId": "17400242557229223804"
     },
     "user_tz": -540
    },
    "hidden": true,
    "id": "ujrXE5BNJlLJ"
   },
   "outputs": [],
   "source": [
    "from sklearn.preprocessing import PolynomialFeatures\n",
    "\n",
    "poly = PolynomialFeatures(degree = 9, include_bias = False)\n",
    "PX_9_TR = poly.fit_transform(X_train)"
   ]
  },
  {
   "cell_type": "code",
   "execution_count": 141,
   "metadata": {
    "colab": {
     "base_uri": "https://localhost:8080/"
    },
    "executionInfo": {
     "elapsed": 45,
     "status": "ok",
     "timestamp": 1629787783016,
     "user": {
      "displayName": "이정구",
      "photoUrl": "https://lh3.googleusercontent.com/a-/AOh14Gg2atzeYT6QYFW3pcTDyi6aX0d6dqm_hj4W8fMg=s64",
      "userId": "17400242557229223804"
     },
     "user_tz": -540
    },
    "hidden": true,
    "id": "Ts5kCp0VEH-k",
    "outputId": "ca99da96-ea6d-41ee-8841-be60dbf88943"
   },
   "outputs": [
    {
     "data": {
      "text/plain": [
       "LinearRegression(copy_X=True, fit_intercept=True, n_jobs=None, normalize=False)"
      ]
     },
     "execution_count": 141,
     "metadata": {},
     "output_type": "execute_result"
    }
   ],
   "source": [
    "Model_9 = LinearRegression()\n",
    "Model_9.fit(PX_9_TR, y_train)"
   ]
  },
  {
   "cell_type": "markdown",
   "metadata": {
    "hidden": true,
    "id": "ziLt-Z8BALJb"
   },
   "source": [
    "* Validation_Data로 y_hat(예측값) 생성 및 MSE 계산"
   ]
  },
  {
   "cell_type": "code",
   "execution_count": 142,
   "metadata": {
    "executionInfo": {
     "elapsed": 40,
     "status": "ok",
     "timestamp": 1629787783017,
     "user": {
      "displayName": "이정구",
      "photoUrl": "https://lh3.googleusercontent.com/a-/AOh14Gg2atzeYT6QYFW3pcTDyi6aX0d6dqm_hj4W8fMg=s64",
      "userId": "17400242557229223804"
     },
     "user_tz": -540
    },
    "hidden": true,
    "id": "chStqudLJq27"
   },
   "outputs": [],
   "source": [
    "PX9_valid = poly.fit_transform(X_valid)\n",
    "\n",
    "y_hat_9 = Model_9.predict(PX9_valid)"
   ]
  },
  {
   "cell_type": "code",
   "execution_count": 143,
   "metadata": {
    "colab": {
     "base_uri": "https://localhost:8080/"
    },
    "executionInfo": {
     "elapsed": 39,
     "status": "ok",
     "timestamp": 1629787783017,
     "user": {
      "displayName": "이정구",
      "photoUrl": "https://lh3.googleusercontent.com/a-/AOh14Gg2atzeYT6QYFW3pcTDyi6aX0d6dqm_hj4W8fMg=s64",
      "userId": "17400242557229223804"
     },
     "user_tz": -540
    },
    "hidden": true,
    "id": "NS18UiwwEZSb",
    "outputId": "7e4d66e0-4f77-4b14-b8f9-802440dadb71"
   },
   "outputs": [
    {
     "data": {
      "text/plain": [
       "3955.9733124909912"
      ]
     },
     "execution_count": 143,
     "metadata": {},
     "output_type": "execute_result"
    }
   ],
   "source": [
    "MSE_9 = mean_squared_error(y_valid, y_hat_9)\n",
    "MSE_9"
   ]
  },
  {
   "cell_type": "markdown",
   "metadata": {
    "hidden": true,
    "id": "tJx51kbHDKBq"
   },
   "source": [
    "> ## 3) 2개 모델 Validation Error 비교"
   ]
  },
  {
   "cell_type": "code",
   "execution_count": 144,
   "metadata": {
    "colab": {
     "base_uri": "https://localhost:8080/"
    },
    "executionInfo": {
     "elapsed": 32,
     "status": "ok",
     "timestamp": 1629787783018,
     "user": {
      "displayName": "이정구",
      "photoUrl": "https://lh3.googleusercontent.com/a-/AOh14Gg2atzeYT6QYFW3pcTDyi6aX0d6dqm_hj4W8fMg=s64",
      "userId": "17400242557229223804"
     },
     "user_tz": -540
    },
    "hidden": true,
    "id": "XwyaJ21FFWvs",
    "outputId": "2334a8a7-279e-420d-c1be-9a579d1053c1"
   },
   "outputs": [
    {
     "name": "stdout",
     "output_type": "stream",
     "text": [
      "5차 모델 MSE_5  :  4136.4312593408395\n",
      "9차 모델 MSE_9  :  3955.9733124909912\n"
     ]
    }
   ],
   "source": [
    "print('5차 모델 MSE_5  : ', MSE_5)\n",
    "print('9차 모델 MSE_9  : ', MSE_9)"
   ]
  },
  {
   "cell_type": "markdown",
   "metadata": {
    "hidden": true,
    "id": "kJorFSxR2YV8"
   },
   "source": [
    "> ## 4) 최종 9차 모델을 Test_Data에 적용"
   ]
  },
  {
   "cell_type": "markdown",
   "metadata": {
    "hidden": true,
    "id": "fl7sTk6CAzXw"
   },
   "source": [
    "* Test_Data로 y_hat(예측값) 생성 및 MSE 계산"
   ]
  },
  {
   "cell_type": "code",
   "execution_count": 145,
   "metadata": {
    "colab": {
     "base_uri": "https://localhost:8080/"
    },
    "executionInfo": {
     "elapsed": 26,
     "status": "ok",
     "timestamp": 1629787783018,
     "user": {
      "displayName": "이정구",
      "photoUrl": "https://lh3.googleusercontent.com/a-/AOh14Gg2atzeYT6QYFW3pcTDyi6aX0d6dqm_hj4W8fMg=s64",
      "userId": "17400242557229223804"
     },
     "user_tz": -540
    },
    "hidden": true,
    "id": "O_H8hY-RF0G0",
    "outputId": "65d95fd1-9e58-4d0b-cb92-8a3a2b4687f3"
   },
   "outputs": [
    {
     "data": {
      "text/plain": [
       "4220.88573210769"
      ]
     },
     "execution_count": 145,
     "metadata": {},
     "output_type": "execute_result"
    }
   ],
   "source": [
    "PX9_TE = poly.fit_transform(X_test)\n",
    "\n",
    "mean_squared_error(y_test, Model_9.predict(PX9_TE))"
   ]
  },
  {
   "cell_type": "markdown",
   "metadata": {
    "heading_collapsed": true,
    "id": "6GgNUzQfBJwf"
   },
   "source": [
    "# \n",
    "# \n",
    "# \n",
    "# The End\n",
    "# \n",
    "# \n",
    "# "
   ]
  }
 ],
 "metadata": {
  "colab": {
   "collapsed_sections": [],
   "name": "Model_Validation.ipynb",
   "provenance": []
  },
  "kernelspec": {
   "display_name": "Python 3",
   "language": "python",
   "name": "python3"
  },
  "language_info": {
   "codemirror_mode": {
    "name": "ipython",
    "version": 3
   },
   "file_extension": ".py",
   "mimetype": "text/x-python",
   "name": "python",
   "nbconvert_exporter": "python",
   "pygments_lexer": "ipython3",
   "version": "3.8.8"
  },
  "toc": {
   "base_numbering": 1,
   "nav_menu": {},
   "number_sections": true,
   "sideBar": true,
   "skip_h1_title": false,
   "title_cell": "Table of Contents",
   "title_sidebar": "Contents",
   "toc_cell": false,
   "toc_position": {},
   "toc_section_display": true,
   "toc_window_display": false
  }
 },
 "nbformat": 4,
 "nbformat_minor": 1
}
